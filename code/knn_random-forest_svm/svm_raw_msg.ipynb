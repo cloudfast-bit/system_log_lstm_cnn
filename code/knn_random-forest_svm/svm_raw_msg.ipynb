{
 "cells": [
  {
   "cell_type": "code",
   "execution_count": 1,
   "metadata": {},
   "outputs": [
    {
     "name": "stderr",
     "output_type": "stream",
     "text": [
      "/usr/local/lib/python2.7/dist-packages/sklearn/cross_validation.py:44: DeprecationWarning: This module was deprecated in version 0.18 in favor of the model_selection module into which all the refactored classes and functions are moved. Also note that the interface of the new CV iterators are different from that of this module. This module will be removed in 0.20.\n",
      "  \"This module will be removed in 0.20.\", DeprecationWarning)\n"
     ]
    }
   ],
   "source": [
    "import numpy as np\n",
    "import matplotlib.pyplot as plt\n",
    "from sklearn import svm, cross_validation, metrics"
   ]
  },
  {
   "cell_type": "markdown",
   "metadata": {},
   "source": [
    "# label"
   ]
  },
  {
   "cell_type": "code",
   "execution_count": 2,
   "metadata": {
    "collapsed": true
   },
   "outputs": [],
   "source": [
    "labels = {\n",
    "    '0':'file', '1':'network', '2':'service', '3':'database', '4':'communication', '5':'memory', '6':'driver', \n",
    "    '7':'system', '8':'application', '9':'io', '10':'others', '11':'security', '12':'disk', '13':'processor'}\n",
    "\n",
    "fault_label = {\n",
    "    '0':'file', '1':'network', '2':'service', '3':'database', '4':'communication', '5':'memory', \n",
    "    '10':'others', '11':'security', '12':'disk', '13':'processor'}"
   ]
  },
  {
   "cell_type": "markdown",
   "metadata": {},
   "source": [
    "# load data"
   ]
  },
  {
   "cell_type": "code",
   "execution_count": 3,
   "metadata": {},
   "outputs": [
    {
     "name": "stdout",
     "output_type": "stream",
     "text": [
      "Opening dataset...\n",
      "Dataset loaded.\n"
     ]
    }
   ],
   "source": [
    "X = []\n",
    "y = []\n",
    "\n",
    "print(\"Opening dataset...\")\n",
    "try:\n",
    "    with open(\"data_msg_type/semantic_sim.txt\", 'rU') as f:\n",
    "        res = list(f)\n",
    "        for line in res:\n",
    "            line.strip(\"\\n\")\n",
    "            features = line.split(\"\\t\")\n",
    "            while features.__contains__(\"\"):\n",
    "                features.remove(\"\")\n",
    "            for i in range(len(features)):\n",
    "                features[i] = float(features[i])\n",
    "            X.append(features)\n",
    "         \n",
    "    #read the classes from file and put them in list.      \n",
    "    with open(\"data_msg_type/semantic_label_index.txt\", 'rU') as f:\n",
    "        res = list(f)\n",
    "        for line in res:\n",
    "            y.append(int(line.strip(\"\\n\")[0]))\n",
    "            \n",
    "except:\n",
    "    print(\"Error in reading the train set file.\")\n",
    "    exit()\n",
    "\n",
    "print(\"Dataset loaded.\")"
   ]
  },
  {
   "cell_type": "markdown",
   "metadata": {},
   "source": [
    "# split data"
   ]
  },
  {
   "cell_type": "code",
   "execution_count": 4,
   "metadata": {},
   "outputs": [
    {
     "name": "stdout",
     "output_type": "stream",
     "text": [
      "Separating data into 80% training set & 20% test set...\n",
      "Dataset separated.\n",
      "\n"
     ]
    }
   ],
   "source": [
    "X = np.array(X) #change to matrix\n",
    "y = np.array(y) #change to matrix (sklearn models only accept matrices)\n",
    "\n",
    "# Separate our training data into test and training.\n",
    "print(\"Separating data into 80% training set & 20% test set...\")\n",
    "X_train, X_test, y_train, y_test = cross_validation.train_test_split(\n",
    "    X, y, test_size=0.2, random_state=33)#add random state here...\n",
    "print(\"Dataset separated.\\n\")"
   ]
  },
  {
   "cell_type": "markdown",
   "metadata": {},
   "source": [
    "# svm-linear train"
   ]
  },
  {
   "cell_type": "code",
   "execution_count": 5,
   "metadata": {},
   "outputs": [
    {
     "name": "stdout",
     "output_type": "stream",
     "text": [
      "-------------------------- SVM, Kernel = Linear --------------------------\n",
      "('C value chosen from: ', [1])\n",
      "Calculating accuracy with K-fold...\n"
     ]
    },
    {
     "name": "stderr",
     "output_type": "stream",
     "text": [
      "/usr/local/lib/python2.7/dist-packages/sklearn/cross_validation.py:552: Warning: The least populated class in y has only 5 members, which is too few. The minimum number of labels for any class cannot be less than n_folds=14.\n",
      "  % (min_labels, self.n_folds)), Warning)\n"
     ]
    },
    {
     "name": "stdout",
     "output_type": "stream",
     "text": [
      "('result:', [0.94120012560544619])\n"
     ]
    }
   ],
   "source": [
    "print(\"-------------------------- SVM, Kernel = Linear --------------------------\")\n",
    "#C_linear = [0.1, 3, 10, 100...]\n",
    "C_linear = [1]\n",
    "result_linear = []\n",
    "\n",
    "print(\"C value chosen from: \", C_linear)\n",
    "print(\"Calculating accuracy with K-fold...\")\n",
    "\n",
    "for C in C_linear:\n",
    "    svc_linear = svm.SVC(kernel='linear', C=C)\n",
    "    scores = cross_validation.cross_val_score(\n",
    "        svc_linear, X_train, y_train, scoring='accuracy', cv=14)\n",
    "    result_linear.append(scores.mean())\n",
    "\n",
    "print(\"result:\", result_linear)"
   ]
  },
  {
   "cell_type": "markdown",
   "metadata": {},
   "source": [
    "# svm-linear test and predict"
   ]
  },
  {
   "cell_type": "code",
   "execution_count": 6,
   "metadata": {},
   "outputs": [
    {
     "name": "stdout",
     "output_type": "stream",
     "text": [
      "('Total cases: ', 20000)\n",
      "('Correct Prediction: ', 18804)\n",
      "('Correct prediction rate: ', 0.9402)\n",
      "('Linear Kernel test score: ', 0.94020000000000004)\n"
     ]
    }
   ],
   "source": [
    "# Result with different C are equal, so here choose C=1 directly as the best parameter.\n",
    "best_param_linear = {\"C\": 1}\n",
    "linear_test = svm.SVC(kernel='linear', C=best_param_linear.get(\"C\")).fit(X_train, y_train)\n",
    "linear_test_score = linear_test.score(X_test, y_test)\n",
    "\n",
    "count1 = 0\n",
    "count2 = 0\n",
    "actualist = []\n",
    "predlist = []\n",
    "\n",
    "for i in range(len(X_test)):\n",
    "    count2 += 1\n",
    "    classinrow = X_test[i]\n",
    "    classinrow = np.array(X_test[i]).reshape(1,-1)\n",
    "    predicted = linear_test.predict(classinrow)#predict class.\n",
    "    actual = y_test[i]\n",
    "    actualist.append(actual)\n",
    "    predlist.append(predicted[0])\n",
    "    if predicted == actual:\n",
    "        count1 += 1\n",
    "\n",
    "print(\"Total cases: \", count2)\n",
    "print(\"Correct Prediction: \", count1)\n",
    "print(\"Correct prediction rate: \", float(count1) / count2)\n",
    "print(\"Linear Kernel test score: \", linear_test_score)"
   ]
  },
  {
   "cell_type": "markdown",
   "metadata": {},
   "source": [
    "# svm-linear plot"
   ]
  },
  {
   "cell_type": "code",
   "execution_count": 7,
   "metadata": {},
   "outputs": [
    {
     "name": "stderr",
     "output_type": "stream",
     "text": [
      "/usr/local/lib/python2.7/dist-packages/sklearn/metrics/classification.py:1113: UndefinedMetricWarning: Precision and F-score are ill-defined and being set to 0.0 in labels with no predicted samples.\n",
      "  'precision', 'predicted', average, warn_for)\n"
     ]
    },
    {
     "name": "stdout",
     "output_type": "stream",
     "text": [
      "               precision    recall  f1-score   support\n",
      "\n",
      "      network       0.85      0.16      0.27       815\n",
      "         file       0.85      0.95      0.90      1815\n",
      "     database       1.00      0.89      0.94       506\n",
      "      service       0.00      0.00      0.00         1\n",
      "       memory       0.79      0.97      0.87      2429\n",
      "communication       0.96      0.89      0.92       961\n",
      "       others       1.00      1.00      1.00     12456\n",
      "     security       0.99      0.75      0.86       595\n",
      "         disk       0.66      1.00      0.79       422\n",
      "\n",
      "  avg / total       0.95      0.94      0.93     20000\n",
      "\n",
      "[[  133    52     0     0   513    22     0     2    93]\n",
      " [   16  1731     0     0    35     8     0     0    25]\n",
      " [    1     1   449     0     0     0     0     0    55]\n",
      " [    0     1     0     0     0     0     0     0     0]\n",
      " [    0    75     0     0  2347     0     0     0     7]\n",
      " [    0    92     0     0    11   853     0     2     3]\n",
      " [    0     1     0     0     0     1 12421     0    33]\n",
      " [    6    74     0     0    58     6     0   448     3]\n",
      " [    0     0     0     0     0     0     0     0   422]]\n"
     ]
    },
    {
     "data": {
      "image/png": "[encoded data removed]",
      "text/plain": [
       "<matplotlib.figure.Figure at 0x7ff73cf6a110>"
      ]
     },
     "metadata": {},
     "output_type": "display_data"
    }
   ],
   "source": [
    "# cmap can be changed to many colors, (colormaps.Oranges,OrRd, etc)\n",
    "def plot_CM(cm, title=\"Normalized Confusion Matrix\", cmap=plt.cm.summer):\n",
    "    plt.imshow(cm, interpolation='nearest', cmap=cmap)\n",
    "    plt.title(title)\n",
    "    plt.colorbar()\n",
    "    tick_marks = np.arange(len(fault_label))\n",
    "    plt.xticks(tick_marks, fault_label.values(), rotation=90)\n",
    "    plt.yticks(tick_marks, fault_label.values())\n",
    "    plt.tight_layout()\n",
    "    plt.ylabel(\"True label\")\n",
    "    plt.xlabel(\"Predicted label\")\n",
    "    plt.show()\n",
    "    \n",
    "print(metrics.classification_report(\n",
    "    actualist, predlist, target_names = list(fault_label.values())))\n",
    "cm = metrics.confusion_matrix(actualist, predlist)\n",
    "print(cm)\n",
    "\n",
    "cm_normalized = cm.astype('float') / cm.sum(axis=1)[:,np.newaxis]\n",
    "plt.figure()\n",
    "plot_CM(cm_normalized)"
   ]
  },
  {
   "cell_type": "markdown",
   "metadata": {},
   "source": [
    "# svm-rbf train"
   ]
  },
  {
   "cell_type": "code",
   "execution_count": 8,
   "metadata": {},
   "outputs": [
    {
     "name": "stdout",
     "output_type": "stream",
     "text": [
      "-------------------------- SVM, Kernel = RBF --------------------------\n",
      "('C value chosen from: ', [1])\n",
      "Calculating accuracy with K-fold...\n",
      "('result:', [0.80505025270285058])\n"
     ]
    }
   ],
   "source": [
    "print(\"-------------------------- SVM, Kernel = RBF --------------------------\")\n",
    "#C_rbf = [0.1, 3, 10, 100...]\n",
    "C_rbf = [1]\n",
    "result_rbf = []\n",
    "\n",
    "print(\"C value chosen from: \", C_rbf)\n",
    "print(\"Calculating accuracy with K-fold...\")\n",
    "\n",
    "for C in C_rbf:\n",
    "    svc_rbf = svm.SVC(kernel='rbf', C=C)\n",
    "    scores = cross_validation.cross_val_score(\n",
    "        svc_rbf, X_train, y_train, scoring='accuracy', cv=14)\n",
    "    result_rbf.append(scores.mean())\n",
    "\n",
    "print(\"result:\", result_rbf)"
   ]
  },
  {
   "cell_type": "markdown",
   "metadata": {},
   "source": [
    "# svm-rbf test and predict"
   ]
  },
  {
   "cell_type": "code",
   "execution_count": 9,
   "metadata": {},
   "outputs": [
    {
     "name": "stdout",
     "output_type": "stream",
     "text": [
      "('Total cases: ', 20000)\n",
      "('Correct Prediction: ', 16174)\n",
      "('Correct prediction rate: ', 0.8087)\n",
      "('RBF Kernel test score: ', 0.80869999999999997)\n"
     ]
    }
   ],
   "source": [
    "# Result with different C are equal, so here choose C=1 directly as the best parameter.\n",
    "best_param_rbf = {\"C\": 1}\n",
    "rbf_test = svm.SVC(kernel='rbf', C=best_param_rbf.get(\"C\")).fit(X_train, y_train)\n",
    "rbf_test_score = rbf_test.score(X_test, y_test)\n",
    "\n",
    "count1 = 0\n",
    "count2 = 0\n",
    "actualist = []\n",
    "predlist = []\n",
    "\n",
    "for i in range(len(X_test)):\n",
    "    count2 += 1\n",
    "    classinrow = X_test[i]\n",
    "    classinrow = np.array(X_test[i]).reshape(1,-1)\n",
    "    predicted = rbf_test.predict(classinrow)#predict class.\n",
    "    actual = y_test[i]\n",
    "    actualist.append(actual)\n",
    "    predlist.append(predicted[0])\n",
    "    if predicted == actual:\n",
    "        count1 += 1\n",
    "\n",
    "print(\"Total cases: \", count2)\n",
    "print(\"Correct Prediction: \", count1)\n",
    "print(\"Correct prediction rate: \", float(count1) / count2)\n",
    "print(\"RBF Kernel test score: \", rbf_test_score)"
   ]
  },
  {
   "cell_type": "markdown",
   "metadata": {},
   "source": [
    "# svm-rbf plot"
   ]
  },
  {
   "cell_type": "code",
   "execution_count": 10,
   "metadata": {},
   "outputs": [
    {
     "name": "stdout",
     "output_type": "stream",
     "text": [
      "               precision    recall  f1-score   support\n",
      "\n",
      "      network       0.44      0.08      0.13       815\n",
      "         file       0.67      0.38      0.49      1815\n",
      "     database       1.00      0.89      0.94       506\n",
      "      service       0.00      0.00      0.00         1\n",
      "       memory       0.66      0.92      0.77      2429\n",
      "communication       0.30      0.32      0.31       961\n",
      "       others       0.89      1.00      0.94     12456\n",
      "     security       0.00      0.00      0.00       595\n",
      "         disk       0.00      0.00      0.00       422\n",
      "\n",
      "  avg / total       0.75      0.81      0.77     20000\n",
      "\n",
      "[[   64   138     0     0   551    29    33     0     0]\n",
      " [   15   697     0     0    62   264   777     0     0]\n",
      " [   28     0   450     0    28     0     0     0     0]\n",
      " [    0     1     0     0     0     0     0     0     0]\n",
      " [    3   159     0     0  2237     4    26     0     0]\n",
      " [    5    20     0     0     9   307   620     0     0]\n",
      " [   19     3     0     0    14     1 12419     0     0]\n",
      " [    8    22     0     0    50   428    87     0     0]\n",
      " [    4     0     0     0   418     0     0     0     0]]\n"
     ]
    },
    {
     "data": {
      "image/png": "[encoded data removed]",
      "text/plain": [
       "<matplotlib.figure.Figure at 0x7ff73cc902d0>"
      ]
     },
     "metadata": {},
     "output_type": "display_data"
    }
   ],
   "source": [
    "# cmap can be changed to many colors, (colormaps.Oranges,OrRd, etc)\n",
    "def plot_CM(cm, title=\"Normalized Confusion Matrix\", cmap=plt.cm.summer):\n",
    "    plt.imshow(cm, interpolation='nearest', cmap=cmap)\n",
    "    plt.title(title)\n",
    "    plt.colorbar()\n",
    "    tick_marks = np.arange(len(fault_label))\n",
    "    plt.xticks(tick_marks, fault_label.values(), rotation=90)\n",
    "    plt.yticks(tick_marks, fault_label.values())\n",
    "    plt.tight_layout()\n",
    "    plt.ylabel(\"True label\")\n",
    "    plt.xlabel(\"Predicted label\")\n",
    "    plt.show()\n",
    "    \n",
    "print(metrics.classification_report(\n",
    "    actualist, predlist, target_names = list(fault_label.values())))\n",
    "cm = metrics.confusion_matrix(actualist, predlist)\n",
    "print(cm)\n",
    "\n",
    "cm_normalized = cm.astype('float') / cm.sum(axis=1)[:,np.newaxis]\n",
    "plt.figure()\n",
    "plot_CM(cm_normalized)"
   ]
  },
  {
   "cell_type": "markdown",
   "metadata": {},
   "source": [
    "# svm-poly train"
   ]
  },
  {
   "cell_type": "code",
   "execution_count": 11,
   "metadata": {},
   "outputs": [
    {
     "name": "stdout",
     "output_type": "stream",
     "text": [
      "-------------------------- SVM, Kernel = Poly --------------------------\n",
      "('C value chosen from: ', [1])\n",
      "Calculating accuracy with K-fold...\n",
      "('result:', [0.64812567986322434])\n"
     ]
    }
   ],
   "source": [
    "print(\"-------------------------- SVM, Kernel = Poly --------------------------\")\n",
    "#C_poly = [0.1, 3, 10, 100...]\n",
    "C_poly = [1]\n",
    "result_poly = []\n",
    "\n",
    "print(\"C value chosen from: \", C_poly)\n",
    "print(\"Calculating accuracy with K-fold...\")\n",
    "\n",
    "for C in C_poly:\n",
    "    svc_poly = svm.SVC(kernel='poly', C=C)\n",
    "    scores = cross_validation.cross_val_score(\n",
    "        svc_poly, X_train, y_train, scoring='accuracy', cv=14)\n",
    "    result_poly.append(scores.mean())\n",
    "\n",
    "print(\"result:\", result_poly)"
   ]
  },
  {
   "cell_type": "markdown",
   "metadata": {},
   "source": [
    "# svm-poly test and predict"
   ]
  },
  {
   "cell_type": "code",
   "execution_count": 12,
   "metadata": {},
   "outputs": [
    {
     "name": "stdout",
     "output_type": "stream",
     "text": [
      "('Total cases: ', 20000)\n",
      "('Correct Prediction: ', 12880)\n",
      "('Correct prediction rate: ', 0.644)\n",
      "('Poly Kernel test score: ', 0.64400000000000002)\n"
     ]
    }
   ],
   "source": [
    "# Result with different C are equal, so here choose C=1 directly as the best parameter.\n",
    "best_param_poly = {\"C\": 1}\n",
    "poly_test = svm.SVC(kernel='poly', C=best_param_poly.get(\"C\"), \n",
    "                    #degree=best_param_poly.get(\"degree\")\n",
    "                   ).fit(X_train, y_train)\n",
    "poly_test_score = poly_test.score(X_test, y_test)\n",
    "\n",
    "count1 = 0\n",
    "count2 = 0\n",
    "actualist = []\n",
    "predlist = []\n",
    "\n",
    "for i in range(len(X_test)):\n",
    "    count2 += 1\n",
    "    classinrow = X_test[i]\n",
    "    classinrow = np.array(X_test[i]).reshape(1,-1)\n",
    "    predicted = poly_test.predict(classinrow)#predict class.\n",
    "    actual = y_test[i]\n",
    "    actualist.append(actual)\n",
    "    predlist.append(predicted[0])\n",
    "    if predicted == actual:\n",
    "        count1 += 1\n",
    "\n",
    "print(\"Total cases: \", count2)\n",
    "print(\"Correct Prediction: \", count1)\n",
    "print(\"Correct prediction rate: \", float(count1) / count2)\n",
    "print(\"Poly Kernel test score: \", poly_test_score)"
   ]
  },
  {
   "cell_type": "markdown",
   "metadata": {},
   "source": [
    "# svm-poly plot"
   ]
  },
  {
   "cell_type": "code",
   "execution_count": 13,
   "metadata": {},
   "outputs": [
    {
     "name": "stdout",
     "output_type": "stream",
     "text": [
      "               precision    recall  f1-score   support\n",
      "\n",
      "      network       1.00      0.01      0.02       815\n",
      "         file       0.78      0.23      0.35      1815\n",
      "     database       0.00      0.00      0.00       506\n",
      "      service       0.00      0.00      0.00         1\n",
      "       memory       0.00      0.00      0.00      2429\n",
      "communication       0.83      0.01      0.02       961\n",
      "       others       0.64      1.00      0.78     12456\n",
      "     security       0.00      0.00      0.00       595\n",
      "         disk       0.00      0.00      0.00       422\n",
      "\n",
      "  avg / total       0.55      0.64      0.52     20000\n",
      "\n",
      "[[    7    24     0     0     0     1   783     0     0]\n",
      " [    0   410     0     0     0     0  1405     0     0]\n",
      " [    0     1     0     0     0     0   505     0     0]\n",
      " [    0     0     0     0     0     0     1     0     0]\n",
      " [    0     0     0     0     0     0  2429     0     0]\n",
      " [    0    88     0     0     0    10   863     0     0]\n",
      " [    0     0     2     0     0     1 12453     0     0]\n",
      " [    0     3     0     0     0     0   592     0     0]\n",
      " [    0     0     0     0     0     0   422     0     0]]\n"
     ]
    },
    {
     "data": {
      "image/png": "[encoded data removed]",
      "text/plain": [
       "<matplotlib.figure.Figure at 0x7ff7a0e0e190>"
      ]
     },
     "metadata": {},
     "output_type": "display_data"
    }
   ],
   "source": [
    "# cmap can be changed to many colors, (colormaps.Oranges,OrRd, etc)\n",
    "def plot_CM(cm, title=\"Normalized Confusion Matrix\", cmap=plt.cm.summer):\n",
    "    plt.imshow(cm, interpolation='nearest', cmap=cmap)\n",
    "    plt.title(title)\n",
    "    plt.colorbar()\n",
    "    tick_marks = np.arange(len(fault_label))\n",
    "    plt.xticks(tick_marks, fault_label.values(), rotation=90)\n",
    "    plt.yticks(tick_marks, fault_label.values())\n",
    "    plt.tight_layout()\n",
    "    plt.ylabel(\"True label\")\n",
    "    plt.xlabel(\"Predicted label\")\n",
    "    plt.show()\n",
    "    \n",
    "print(metrics.classification_report(\n",
    "    actualist, predlist, target_names = list(fault_label.values())))\n",
    "cm = metrics.confusion_matrix(actualist, predlist)\n",
    "print(cm)\n",
    "\n",
    "cm_normalized = cm.astype('float') / cm.sum(axis=1)[:,np.newaxis]\n",
    "plt.figure()\n",
    "plot_CM(cm_normalized)"
   ]
  }
 ],
 "metadata": {
  "kernelspec": {
   "display_name": "Python 2",
   "language": "python",
   "name": "python2"
  },
  "language_info": {
   "codemirror_mode": {
    "name": "ipython",
    "version": 2
   },
   "file_extension": ".py",
   "mimetype": "text/x-python",
   "name": "python",
   "nbconvert_exporter": "python",
   "pygments_lexer": "ipython2",
   "version": "2.7.12"
  }
 },
 "nbformat": 4,
 "nbformat_minor": 2
}
