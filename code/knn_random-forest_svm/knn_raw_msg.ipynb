{
 "cells": [
  {
   "cell_type": "code",
   "execution_count": 1,
   "metadata": {},
   "outputs": [
    {
     "name": "stderr",
     "output_type": "stream",
     "text": [
      "/usr/local/lib/python2.7/dist-packages/sklearn/cross_validation.py:44: DeprecationWarning: This module was deprecated in version 0.18 in favor of the model_selection module into which all the refactored classes and functions are moved. Also note that the interface of the new CV iterators are different from that of this module. This module will be removed in 0.20.\n",
      "  \"This module will be removed in 0.20.\", DeprecationWarning)\n"
     ]
    }
   ],
   "source": [
    "import numpy as np\n",
    "import matplotlib.pyplot as plt\n",
    "from sklearn import cross_validation, metrics\n",
    "from sklearn.neighbors import KNeighborsClassifier"
   ]
  },
  {
   "cell_type": "markdown",
   "metadata": {},
   "source": [
    "# label"
   ]
  },
  {
   "cell_type": "code",
   "execution_count": 8,
   "metadata": {
    "collapsed": true
   },
   "outputs": [],
   "source": [
    "labels = {'0':'file', '1':'network', '2':'service', '3':'database', '4':'communication', '5':'memory', \n",
    "    '6':'driver', '7':'system', '8':'application', '9':'io', '10':'others', '11':'security', \n",
    "    '12':'disk', '13':'processor'}\n",
    "\n",
    "fault_label = {'0':'file', '1':'network', '2':'service', '3':'database', '4':'communication', '5':'memory', \n",
    "    '10':'others', '11':'security', \n",
    "    '12':'disk', '13':'processor'}"
   ]
  },
  {
   "cell_type": "markdown",
   "metadata": {},
   "source": [
    "# load dataset"
   ]
  },
  {
   "cell_type": "code",
   "execution_count": 3,
   "metadata": {},
   "outputs": [
    {
     "name": "stdout",
     "output_type": "stream",
     "text": [
      "loading data...\n",
      "Dataset loaded.\n"
     ]
    }
   ],
   "source": [
    "X = []\n",
    "y = []\n",
    "\n",
    "print(\"loading data...\")\n",
    "try:\n",
    "    with open(\"data_msg_type/semantic_sim.txt\", 'rU') as f:\n",
    "        res = list(f)\n",
    "        for line in res:\n",
    "            line.strip(\"\\n\")\n",
    "            features = line.split(\"\\t\")\n",
    "            while features.__contains__(\"\"):\n",
    "                features.remove(\"\")\n",
    "            for i in range(len(features)):\n",
    "                features[i] = float(features[i])\n",
    "            X.append(features)\n",
    "         \n",
    "    #read the classes from file and put them in list.      \n",
    "    with open(\"data_msg_type/semantic_label_index.txt\", 'rU') as f:\n",
    "        res = list(f)\n",
    "        for line in res:\n",
    "            y.append(int(line.strip(\"\\n\")[0]))\n",
    "            \n",
    "except:\n",
    "    print(\"Error in reading the train set file.\")\n",
    "    exit()\n",
    "\n",
    "print(\"Dataset loaded.\")"
   ]
  },
  {
   "cell_type": "markdown",
   "metadata": {},
   "source": [
    "# split dataset"
   ]
  },
  {
   "cell_type": "code",
   "execution_count": 4,
   "metadata": {
    "scrolled": true
   },
   "outputs": [
    {
     "name": "stdout",
     "output_type": "stream",
     "text": [
      "Separating data into 80% training set & 20% test set...\n",
      "Dataset separated.\n",
      "\n"
     ]
    }
   ],
   "source": [
    "X = np.array(X) #change to matrix\n",
    "y = np.array(y) #change to matrix (sklearn models only accept matrices)\n",
    "\n",
    "print(\"Separating data into 80% training set & 20% test set...\")\n",
    "X_train, X_test, y_train, y_test = cross_validation.train_test_split(\n",
    "    X, y, test_size=0.2, random_state=33) # add random state here...\n",
    "print(\"Dataset separated.\\n\")"
   ]
  },
  {
   "cell_type": "markdown",
   "metadata": {},
   "source": [
    "# knn train"
   ]
  },
  {
   "cell_type": "code",
   "execution_count": 5,
   "metadata": {},
   "outputs": [
    {
     "name": "stdout",
     "output_type": "stream",
     "text": [
      "---------------K Nearest Neighbors----------------\n",
      "Testing 1 nearest neighbors\n"
     ]
    },
    {
     "name": "stderr",
     "output_type": "stream",
     "text": [
      "/usr/local/lib/python2.7/dist-packages/sklearn/cross_validation.py:552: Warning: The least populated class in y has only 5 members, which is too few. The minimum number of labels for any class cannot be less than n_folds=14.\n",
      "  % (min_labels, self.n_folds)), Warning)\n"
     ]
    }
   ],
   "source": [
    "print(\"---------------K Nearest Neighbors----------------\")\n",
    "n_neighbors_list = range(1, 2, 1)\n",
    "result_n_neighbors = []\n",
    "max_score_knn = float(\"-inf\")\n",
    "best_param_knn = None\n",
    "\n",
    "for n_neighbors in n_neighbors_list:\n",
    "    print(\"Testing %d nearest neighbors\" % n_neighbors)\n",
    "    knn_clf = KNeighborsClassifier(n_neighbors=n_neighbors)\n",
    "    scores = cross_validation.cross_val_score(\n",
    "             knn_clf, X_train, y_train, scoring=\"accuracy\", cv=14)\n",
    "    result_n_neighbors.append(scores.mean())\n",
    "    if scores.mean() > max_score_knn:\n",
    "        max_score_knn = scores.mean()\n",
    "        best_param_knn = {\"n_neighbors\": n_neighbors}"
   ]
  },
  {
   "cell_type": "markdown",
   "metadata": {},
   "source": [
    "# test and evaluation"
   ]
  },
  {
   "cell_type": "code",
   "execution_count": 6,
   "metadata": {},
   "outputs": [
    {
     "name": "stdout",
     "output_type": "stream",
     "text": [
      "('Number of neighbors: ', 1)\n",
      "('Train Results: ', [0.99835000463717172])\n",
      "('Best accuracy: ', 0.99835000463717172)\n",
      "('Best parameter: ', {'n_neighbors': 1})\n",
      "('Test set accuracy: ', 0.99909999999999999)\n",
      "('Total cases: ', 20000)\n",
      "('Correct Prediction: ', 19982)\n",
      "('Correct prediction rate: ', 0.9991)\n"
     ]
    }
   ],
   "source": [
    "knn_clf = KNeighborsClassifier(best_param_knn.get(\"n_neighbors\")).fit(X_train, y_train)\n",
    "knn_clf_test_score = knn_clf.score(X_test, y_test)\n",
    "\n",
    "count1 = 0\n",
    "count2 = 0\n",
    "actualist = []\n",
    "predlist = []\n",
    "\n",
    "for i in range(len(X_test)):\n",
    "    count2 += 1\n",
    "    classinrow = X_test[i]\n",
    "    classinrow = np.array(X_test[i]).reshape(1,-1)\n",
    "    predicted = knn_clf.predict(classinrow)\n",
    "    actual = y_test[i]\n",
    "    actualist.append(actual)\n",
    "    predlist.append(predicted[0])\n",
    "    if predicted == actual:\n",
    "        count1 += 1\n",
    "\n",
    "print(\"Number of neighbors: \", len(n_neighbors_list))\n",
    "print(\"Train Results: \", result_n_neighbors)\n",
    "print(\"Best accuracy: \", max_score_knn)\n",
    "print(\"Best parameter: \", best_param_knn)\n",
    "print(\"Test set accuracy: \", knn_clf_test_score)\n",
    "\n",
    "print(\"Total cases: \", count2)\n",
    "print(\"Correct Prediction: \", count1)\n",
    "print(\"Correct prediction rate: \", float(count1) / count2)"
   ]
  },
  {
   "cell_type": "markdown",
   "metadata": {},
   "source": [
    "# plot"
   ]
  },
  {
   "cell_type": "code",
   "execution_count": 9,
   "metadata": {},
   "outputs": [
    {
     "name": "stdout",
     "output_type": "stream",
     "text": [
      "               precision    recall  f1-score   support\n",
      "\n",
      "      network       1.00      0.97      0.99        36\n",
      "         file       1.00      1.00      1.00      2565\n",
      "     database       1.00      1.00      1.00       506\n",
      "      service       1.00      1.00      1.00         1\n",
      "       memory       1.00      1.00      1.00      2429\n",
      "communication       1.00      1.00      1.00       961\n",
      "       others       1.00      1.00      1.00     12456\n",
      "     security       0.99      0.99      0.99       595\n",
      "         disk       1.00      1.00      1.00       422\n",
      "    processor       1.00      1.00      1.00        29\n",
      "\n",
      "  avg / total       1.00      1.00      1.00     20000\n",
      "\n",
      "[[   35     1     0     0     0     0     0     0     0     0]\n",
      " [    0  2558     0     0     0     2     3     2     0     0]\n",
      " [    0     0   506     0     0     0     0     0     0     0]\n",
      " [    0     0     0     1     0     0     0     0     0     0]\n",
      " [    0     0     0     0  2428     1     0     0     0     0]\n",
      " [    0     0     0     0     2   958     0     1     0     0]\n",
      " [    0     2     0     0     0     0 12454     0     0     0]\n",
      " [    0     1     0     0     3     0     0   591     0     0]\n",
      " [    0     0     0     0     0     0     0     0   422     0]\n",
      " [    0     0     0     0     0     0     0     0     0    29]]\n"
     ]
    },
    {
     "data": {
      "image/png": "[encoded data removed]",
      "text/plain": [
       "<matplotlib.figure.Figure at 0x7f15c7a77650>"
      ]
     },
     "metadata": {},
     "output_type": "display_data"
    }
   ],
   "source": [
    "def plot_CM(cm, title=\"Normalized Confusion Matrix\", cmap=plt.cm.Greens):\n",
    "    plt.imshow(cm, interpolation='nearest', cmap=cmap)\n",
    "    plt.title(title)\n",
    "    plt.colorbar()\n",
    "    tick_marks = np.arange(len(fault_label))\n",
    "    plt.xticks(tick_marks, fault_label.values(), rotation=90)\n",
    "    plt.yticks(tick_marks, fault_label.values())\n",
    "    plt.tight_layout()\n",
    "    plt.ylabel(\"True label\")\n",
    "    plt.xlabel(\"Predicted label\")\n",
    "    plt.show()\n",
    "    \n",
    "print(metrics.classification_report(actualist, predlist,\n",
    "      target_names = list(fault_label.values())))\n",
    "cm = metrics.confusion_matrix(actualist, predlist)\n",
    "print(cm)\n",
    "\n",
    "# visualization\n",
    "cm_normalized = cm.astype('float') / cm.sum(axis=1)[:,np.newaxis]\n",
    "plt.figure()\n",
    "plot_CM(cm_normalized)"
   ]
  }
 ],
 "metadata": {
  "kernelspec": {
   "display_name": "Python 2",
   "language": "python",
   "name": "python2"
  },
  "language_info": {
   "codemirror_mode": {
    "name": "ipython",
    "version": 2
   },
   "file_extension": ".py",
   "mimetype": "text/x-python",
   "name": "python",
   "nbconvert_exporter": "python",
   "pygments_lexer": "ipython2",
   "version": "2.7.12"
  }
 },
 "nbformat": 4,
 "nbformat_minor": 2
}
