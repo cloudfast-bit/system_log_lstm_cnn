{
 "cells": [
  {
   "cell_type": "code",
   "execution_count": 1,
   "metadata": {},
   "outputs": [
    {
     "name": "stderr",
     "output_type": "stream",
     "text": [
      "/usr/local/lib/python2.7/dist-packages/sklearn/cross_validation.py:44: DeprecationWarning: This module was deprecated in version 0.18 in favor of the model_selection module into which all the refactored classes and functions are moved. Also note that the interface of the new CV iterators are different from that of this module. This module will be removed in 0.20.\n",
      "  \"This module will be removed in 0.20.\", DeprecationWarning)\n"
     ]
    }
   ],
   "source": [
    "import numpy as np\n",
    "import matplotlib.pyplot as plt\n",
    "from sklearn import svm, cross_validation, metrics"
   ]
  },
  {
   "cell_type": "markdown",
   "metadata": {},
   "source": [
    "# load data"
   ]
  },
  {
   "cell_type": "code",
   "execution_count": 2,
   "metadata": {},
   "outputs": [
    {
     "name": "stdout",
     "output_type": "stream",
     "text": [
      "Opening dataset...\n",
      "Dataset loaded.\n"
     ]
    }
   ],
   "source": [
    "labels = {\n",
    "    '0':'file', '1':'network', '2':'service', '3':'database', '4':'communication', '5':'memory', '6':'driver', \n",
    "    '7':'system', '8':'application', '9':'io', '10':'others', '11':'security', '12':'disk', '13':'processor'}\n",
    "\n",
    "fault_label = {\n",
    "    '0':'file', '1':'network', '2':'service', '3':'database', '5':'memory', \n",
    "    '10':'others', '11':'security', '12':'disk', '13':'processor'}\n",
    "\n",
    "X = []\n",
    "y = []\n",
    "\n",
    "print(\"Opening dataset...\")\n",
    "try:\n",
    "    with open(\"data_msg_type/x.txt\", 'rU') as f:\n",
    "        res = list(f)\n",
    "        for line in res:\n",
    "            line.strip(\"\\n\")\n",
    "            features = line.split(\"\\t\")\n",
    "            while features.__contains__(\"\"):\n",
    "                features.remove(\"\")\n",
    "            for i in range(len(features)):\n",
    "                features[i] = float(features[i])\n",
    "            X.append(features)\n",
    "         \n",
    "    #read the classes from file and put them in list.      \n",
    "    with open(\"data_msg_type/y.txt\", 'rU') as f:\n",
    "        res = list(f)\n",
    "        for line in res:\n",
    "            y.append(int(line.strip(\"\\n\")[0]))\n",
    "            \n",
    "except:\n",
    "    print(\"Error in reading the train set file.\")\n",
    "    exit()\n",
    "\n",
    "print(\"Dataset loaded.\")"
   ]
  },
  {
   "cell_type": "markdown",
   "metadata": {},
   "source": [
    "# split data"
   ]
  },
  {
   "cell_type": "code",
   "execution_count": 3,
   "metadata": {},
   "outputs": [
    {
     "name": "stdout",
     "output_type": "stream",
     "text": [
      "Separating data into 80% training set & 20% test set...\n",
      "Dataset separated.\n",
      "\n"
     ]
    }
   ],
   "source": [
    "X = np.array(X) #change to matrix\n",
    "y = np.array(y) #change to matrix (sklearn models only accept matrices)\n",
    "\n",
    "# Separate our training data into test and training.\n",
    "print(\"Separating data into 80% training set & 20% test set...\")\n",
    "X_train, X_test, y_train, y_test = cross_validation.train_test_split(\n",
    "    X, y, test_size=0.2, random_state=33)#add random state here...\n",
    "print(\"Dataset separated.\\n\")"
   ]
  },
  {
   "cell_type": "markdown",
   "metadata": {},
   "source": [
    "# svm-linear train"
   ]
  },
  {
   "cell_type": "code",
   "execution_count": 7,
   "metadata": {},
   "outputs": [
    {
     "name": "stdout",
     "output_type": "stream",
     "text": [
      "-------------------------- SVM, Kernel = Linear --------------------------\n",
      "('C value chosen from: ', [1])\n",
      "Calculating accuracy with K-fold...\n",
      "('result:', [0.99998750156230465])\n"
     ]
    }
   ],
   "source": [
    "print(\"-------------------------- SVM, Kernel = Linear --------------------------\")\n",
    "#C_linear = [0.1, 3, 10, 100...]\n",
    "C_linear = [1]\n",
    "result_linear = []\n",
    "\n",
    "print(\"C value chosen from: \", C_linear)\n",
    "print(\"Calculating accuracy with K-fold...\")\n",
    "\n",
    "for C in C_linear:\n",
    "    svc_linear = svm.SVC(kernel='linear', C=C)\n",
    "    scores = cross_validation.cross_val_score(\n",
    "        svc_linear, X_train, y_train, scoring='accuracy', cv=9)\n",
    "    result_linear.append(scores.mean())\n",
    "\n",
    "print(\"result:\", result_linear)"
   ]
  },
  {
   "cell_type": "markdown",
   "metadata": {},
   "source": [
    "# svm-linear test and predict"
   ]
  },
  {
   "cell_type": "code",
   "execution_count": 8,
   "metadata": {},
   "outputs": [
    {
     "name": "stdout",
     "output_type": "stream",
     "text": [
      "('Total cases: ', 40000)\n",
      "('Correct Prediction: ', 40000)\n",
      "('Correct prediction rate: ', 1.0)\n",
      "('Linear Kernel test score: ', 1.0)\n"
     ]
    }
   ],
   "source": [
    "# Result with different C are equal, so here choose C=1 directly as the best parameter.\n",
    "best_param_linear = {\"C\": 1}\n",
    "linear_test = svm.SVC(kernel='linear', C=best_param_linear.get(\"C\")).fit(X_train, y_train)\n",
    "linear_test_score = linear_test.score(X_test, y_test)\n",
    "\n",
    "count1 = 0\n",
    "count2 = 0\n",
    "actualist = []\n",
    "predlist = []\n",
    "\n",
    "for i in range(len(X_test)):\n",
    "    count2 += 1\n",
    "    classinrow = X_test[i]\n",
    "    classinrow = np.array(X_test[i]).reshape(1,-1)\n",
    "    predicted = linear_test.predict(classinrow)#predict class.\n",
    "    actual = y_test[i]\n",
    "    actualist.append(actual)\n",
    "    predlist.append(predicted[0])\n",
    "    if predicted == actual:\n",
    "        count1 += 1\n",
    "\n",
    "print(\"Total cases: \", count2)\n",
    "print(\"Correct Prediction: \", count1)\n",
    "print(\"Correct prediction rate: \", float(count1) / count2)\n",
    "print(\"Linear Kernel test score: \", linear_test_score)"
   ]
  },
  {
   "cell_type": "markdown",
   "metadata": {},
   "source": [
    "# svm-linear plot"
   ]
  },
  {
   "cell_type": "code",
   "execution_count": 9,
   "metadata": {},
   "outputs": [
    {
     "name": "stdout",
     "output_type": "stream",
     "text": [
      "             precision    recall  f1-score   support\n",
      "\n",
      "    network       1.00      1.00      1.00       279\n",
      "       file       1.00      1.00      1.00      3115\n",
      "   database       1.00      1.00      1.00      5774\n",
      "    service       1.00      1.00      1.00        16\n",
      "     memory       1.00      1.00      1.00       248\n",
      "     others       1.00      1.00      1.00     29818\n",
      "   security       1.00      1.00      1.00        64\n",
      "       disk       1.00      1.00      1.00       479\n",
      "  processor       1.00      1.00      1.00       207\n",
      "\n",
      "avg / total       1.00      1.00      1.00     40000\n",
      "\n",
      "[[  279     0     0     0     0     0     0     0     0]\n",
      " [    0  3115     0     0     0     0     0     0     0]\n",
      " [    0     0  5774     0     0     0     0     0     0]\n",
      " [    0     0     0    16     0     0     0     0     0]\n",
      " [    0     0     0     0   248     0     0     0     0]\n",
      " [    0     0     0     0     0 29818     0     0     0]\n",
      " [    0     0     0     0     0     0    64     0     0]\n",
      " [    0     0     0     0     0     0     0   479     0]\n",
      " [    0     0     0     0     0     0     0     0   207]]\n"
     ]
    },
    {
     "data": {
      "image/png": "[encoded data removed]",
      "text/plain": [
       "<matplotlib.figure.Figure at 0x7fcf49fcd6d0>"
      ]
     },
     "metadata": {},
     "output_type": "display_data"
    }
   ],
   "source": [
    "# cmap can be changed to many colors, (colormaps.Oranges,OrRd, etc)\n",
    "def plot_CM(cm, title=\"Normalized Confusion Matrix\", cmap=plt.cm.Greens):\n",
    "    plt.imshow(cm, interpolation='nearest', cmap=cmap)\n",
    "    plt.title(title)\n",
    "    plt.colorbar()\n",
    "    tick_marks = np.arange(len(fault_label))\n",
    "    plt.xticks(tick_marks, fault_label.values(), rotation=90)\n",
    "    plt.yticks(tick_marks, fault_label.values())\n",
    "    plt.tight_layout()\n",
    "    plt.ylabel(\"True label\")\n",
    "    plt.xlabel(\"Predicted label\")\n",
    "    plt.show()\n",
    "    \n",
    "print(metrics.classification_report(\n",
    "    actualist, predlist, target_names = list(fault_label.values())))\n",
    "cm = metrics.confusion_matrix(actualist, predlist)\n",
    "print(cm)\n",
    "\n",
    "cm_normalized = cm.astype('float') / cm.sum(axis=1)[:,np.newaxis]\n",
    "plt.figure()\n",
    "plot_CM(cm_normalized)"
   ]
  },
  {
   "cell_type": "markdown",
   "metadata": {},
   "source": [
    "# svm-rbf train"
   ]
  },
  {
   "cell_type": "code",
   "execution_count": 10,
   "metadata": {},
   "outputs": [
    {
     "name": "stdout",
     "output_type": "stream",
     "text": [
      "-------------------------- SVM, Kernel = RBF --------------------------\n",
      "('C value chosen from: ', [1])\n",
      "Calculating accuracy with K-fold...\n",
      "('result:', [0.99990625187318782])\n"
     ]
    }
   ],
   "source": [
    "print(\"-------------------------- SVM, Kernel = RBF --------------------------\")\n",
    "#C_rbf = [0.1, 3, 10, 100...]\n",
    "C_rbf = [1]\n",
    "result_rbf = []\n",
    "\n",
    "print(\"C value chosen from: \", C_rbf)\n",
    "print(\"Calculating accuracy with K-fold...\")\n",
    "\n",
    "for C in C_rbf:\n",
    "    svc_rbf = svm.SVC(kernel='rbf', C=C)\n",
    "    scores = cross_validation.cross_val_score(\n",
    "        svc_rbf, X_train, y_train, scoring='accuracy', cv=9)\n",
    "    result_rbf.append(scores.mean())\n",
    "\n",
    "print(\"result:\", result_rbf)"
   ]
  },
  {
   "cell_type": "markdown",
   "metadata": {},
   "source": [
    "# svm-rbf test and predict"
   ]
  },
  {
   "cell_type": "code",
   "execution_count": 11,
   "metadata": {},
   "outputs": [
    {
     "name": "stdout",
     "output_type": "stream",
     "text": [
      "('Total cases: ', 40000)\n",
      "('Correct Prediction: ', 39999)\n",
      "('Correct prediction rate: ', 0.999975)\n",
      "('RBF Kernel test score: ', 0.99997499999999995)\n"
     ]
    }
   ],
   "source": [
    "# Result with different C are equal, so here choose C=1 directly as the best parameter.\n",
    "best_param_rbf = {\"C\": 1}\n",
    "rbf_test = svm.SVC(kernel='rbf', C=best_param_rbf.get(\"C\")).fit(X_train, y_train)\n",
    "rbf_test_score = rbf_test.score(X_test, y_test)\n",
    "\n",
    "count1 = 0\n",
    "count2 = 0\n",
    "actualist = []\n",
    "predlist = []\n",
    "\n",
    "for i in range(len(X_test)):\n",
    "    count2 += 1\n",
    "    classinrow = X_test[i]\n",
    "    classinrow = np.array(X_test[i]).reshape(1,-1)\n",
    "    predicted = rbf_test.predict(classinrow)#predict class.\n",
    "    actual = y_test[i]\n",
    "    actualist.append(actual)\n",
    "    predlist.append(predicted[0])\n",
    "    if predicted == actual:\n",
    "        count1 += 1\n",
    "\n",
    "print(\"Total cases: \", count2)\n",
    "print(\"Correct Prediction: \", count1)\n",
    "print(\"Correct prediction rate: \", float(count1) / count2)\n",
    "print(\"RBF Kernel test score: \", rbf_test_score)"
   ]
  },
  {
   "cell_type": "markdown",
   "metadata": {},
   "source": [
    "# svm-rbf plot"
   ]
  },
  {
   "cell_type": "code",
   "execution_count": 12,
   "metadata": {},
   "outputs": [
    {
     "name": "stdout",
     "output_type": "stream",
     "text": [
      "             precision    recall  f1-score   support\n",
      "\n",
      "    network       1.00      1.00      1.00       279\n",
      "       file       1.00      1.00      1.00      3115\n",
      "   database       1.00      1.00      1.00      5774\n",
      "    service       1.00      1.00      1.00        16\n",
      "     memory       1.00      1.00      1.00       248\n",
      "     others       1.00      1.00      1.00     29818\n",
      "   security       1.00      0.98      0.99        64\n",
      "       disk       1.00      1.00      1.00       479\n",
      "  processor       1.00      1.00      1.00       207\n",
      "\n",
      "avg / total       1.00      1.00      1.00     40000\n",
      "\n",
      "[[  279     0     0     0     0     0     0     0     0]\n",
      " [    0  3115     0     0     0     0     0     0     0]\n",
      " [    0     0  5774     0     0     0     0     0     0]\n",
      " [    0     0     0    16     0     0     0     0     0]\n",
      " [    0     0     0     0   248     0     0     0     0]\n",
      " [    0     0     0     0     0 29818     0     0     0]\n",
      " [    1     0     0     0     0     0    63     0     0]\n",
      " [    0     0     0     0     0     0     0   479     0]\n",
      " [    0     0     0     0     0     0     0     0   207]]\n"
     ]
    },
    {
     "data": {
      "image/png": "[encoded data removed]",
      "text/plain": [
       "<matplotlib.figure.Figure at 0x7fcfb04e0850>"
      ]
     },
     "metadata": {},
     "output_type": "display_data"
    }
   ],
   "source": [
    "# cmap can be changed to many colors, (colormaps.Oranges,OrRd, etc)\n",
    "def plot_CM(cm, title=\"Normalized Confusion Matrix\", cmap=plt.cm.Blues):\n",
    "    plt.imshow(cm, interpolation='nearest', cmap=cmap)\n",
    "    plt.title(title)\n",
    "    plt.colorbar()\n",
    "    tick_marks = np.arange(len(fault_label))\n",
    "    plt.xticks(tick_marks, fault_label.values(), rotation=90)\n",
    "    plt.yticks(tick_marks, fault_label.values())\n",
    "    plt.tight_layout()\n",
    "    plt.ylabel(\"True label\")\n",
    "    plt.xlabel(\"Predicted label\")\n",
    "    plt.show()\n",
    "    \n",
    "print(metrics.classification_report(\n",
    "    actualist, predlist, target_names = list(fault_label.values())))\n",
    "cm = metrics.confusion_matrix(actualist, predlist)\n",
    "print(cm)\n",
    "\n",
    "cm_normalized = cm.astype('float') / cm.sum(axis=1)[:,np.newaxis]\n",
    "plt.figure()\n",
    "plot_CM(cm_normalized)"
   ]
  },
  {
   "cell_type": "markdown",
   "metadata": {},
   "source": [
    "# svm-poly train"
   ]
  },
  {
   "cell_type": "code",
   "execution_count": 13,
   "metadata": {},
   "outputs": [
    {
     "name": "stdout",
     "output_type": "stream",
     "text": [
      "-------------------------- SVM, Kernel = Poly --------------------------\n",
      "('C value chosen from: ', [1])\n",
      "Calculating accuracy with K-fold...\n",
      "('result:', [0.97364378401405771])\n"
     ]
    }
   ],
   "source": [
    "print(\"-------------------------- SVM, Kernel = Poly --------------------------\")\n",
    "#C_poly = [0.1, 3, 10, 100...]\n",
    "C_poly = [1]\n",
    "result_poly = []\n",
    "\n",
    "print(\"C value chosen from: \", C_poly)\n",
    "print(\"Calculating accuracy with K-fold...\")\n",
    "\n",
    "for C in C_poly:\n",
    "    svc_poly = svm.SVC(kernel='poly', C=C)\n",
    "    scores = cross_validation.cross_val_score(\n",
    "        svc_poly, X_train, y_train, scoring='accuracy', cv=9)\n",
    "    result_poly.append(scores.mean())\n",
    "\n",
    "print(\"result:\", result_poly)"
   ]
  },
  {
   "cell_type": "markdown",
   "metadata": {},
   "source": [
    "# svm-poly test and predict"
   ]
  },
  {
   "cell_type": "code",
   "execution_count": 14,
   "metadata": {},
   "outputs": [
    {
     "name": "stdout",
     "output_type": "stream",
     "text": [
      "('Total cases: ', 40000)\n",
      "('Correct Prediction: ', 38891)\n",
      "('Correct prediction rate: ', 0.972275)\n",
      "('Poly Kernel test score: ', 0.972275)\n"
     ]
    }
   ],
   "source": [
    "# Result with different C are equal, so here choose C=1 directly as the best parameter.\n",
    "best_param_poly = {\"C\": 1}\n",
    "poly_test = svm.SVC(kernel='poly', C=best_param_poly.get(\"C\"), \n",
    "                    #degree=best_param_poly.get(\"degree\")\n",
    "                   ).fit(X_train, y_train)\n",
    "poly_test_score = poly_test.score(X_test, y_test)\n",
    "\n",
    "count1 = 0\n",
    "count2 = 0\n",
    "actualist = []\n",
    "predlist = []\n",
    "\n",
    "for i in range(len(X_test)):\n",
    "    count2 += 1\n",
    "    classinrow = X_test[i]\n",
    "    classinrow = np.array(X_test[i]).reshape(1,-1)\n",
    "    predicted = poly_test.predict(classinrow)#predict class.\n",
    "    actual = y_test[i]\n",
    "    actualist.append(actual)\n",
    "    predlist.append(predicted[0])\n",
    "    if predicted == actual:\n",
    "        count1 += 1\n",
    "\n",
    "print(\"Total cases: \", count2)\n",
    "print(\"Correct Prediction: \", count1)\n",
    "print(\"Correct prediction rate: \", float(count1) / count2)\n",
    "print(\"Poly Kernel test score: \", poly_test_score)"
   ]
  },
  {
   "cell_type": "markdown",
   "metadata": {},
   "source": [
    "# svm-poly plot"
   ]
  },
  {
   "cell_type": "code",
   "execution_count": 16,
   "metadata": {},
   "outputs": [
    {
     "name": "stdout",
     "output_type": "stream",
     "text": [
      "             precision    recall  f1-score   support\n",
      "\n",
      "    network       0.99      0.87      0.93       279\n",
      "       file       0.85      0.87      0.86      3115\n",
      "   database       1.00      0.99      0.99      5774\n",
      "    service       1.00      0.06      0.12        16\n",
      "     memory       1.00      0.76      0.86       248\n",
      "     others       0.98      1.00      0.99     29818\n",
      "   security       1.00      0.38      0.55        64\n",
      "       disk       1.00      0.05      0.09       479\n",
      "  processor       1.00      1.00      1.00       207\n",
      "\n",
      "avg / total       0.97      0.97      0.97     40000\n",
      "\n",
      "[[  242    13     0     0     0    24     0     0     0]\n",
      " [    0  2695     0     0     0   420     0     0     0]\n",
      " [    0     0  5694     0     0    80     0     0     0]\n",
      " [    0     0     0     1     0    15     0     0     0]\n",
      " [    0     8     0     0   188    52     0     0     0]\n",
      " [    0     0     0     0     0 29818     0     0     0]\n",
      " [    1     0     0     0     0    39    24     0     0]\n",
      " [    1   456     0     0     0     0     0    22     0]\n",
      " [    0     0     0     0     0     0     0     0   207]]\n"
     ]
    },
    {
     "data": {
      "image/png": "[encoded data removed]",
      "text/plain": [
       "<matplotlib.figure.Figure at 0x7fcf4b707810>"
      ]
     },
     "metadata": {},
     "output_type": "display_data"
    }
   ],
   "source": [
    "# cmap can be changed to many colors, (colormaps.Oranges,OrRd, etc)\n",
    "def plot_CM(cm, title=\"Normalized Confusion Matrix\", cmap=plt.cm.Greens):\n",
    "    plt.imshow(cm, interpolation='nearest', cmap=cmap)\n",
    "    plt.title(title)\n",
    "    plt.colorbar()\n",
    "    tick_marks = np.arange(len(fault_label))\n",
    "    plt.xticks(tick_marks, fault_label.values(), rotation=90)\n",
    "    plt.yticks(tick_marks, fault_label.values())\n",
    "    plt.tight_layout()\n",
    "    plt.ylabel(\"True label\")\n",
    "    plt.xlabel(\"Predicted label\")\n",
    "    plt.show()\n",
    "    \n",
    "print(metrics.classification_report(\n",
    "    actualist, predlist, target_names = list(fault_label.values())))\n",
    "cm = metrics.confusion_matrix(actualist, predlist)\n",
    "print(cm)\n",
    "\n",
    "cm_normalized = cm.astype('float') / cm.sum(axis=1)[:,np.newaxis]\n",
    "plt.figure()\n",
    "plot_CM(cm_normalized)"
   ]
  }
 ],
 "metadata": {
  "kernelspec": {
   "display_name": "Python 2",
   "language": "python",
   "name": "python2"
  },
  "language_info": {
   "codemirror_mode": {
    "name": "ipython",
    "version": 2
   },
   "file_extension": ".py",
   "mimetype": "text/x-python",
   "name": "python",
   "nbconvert_exporter": "python",
   "pygments_lexer": "ipython2",
   "version": "2.7.12"
  }
 },
 "nbformat": 4,
 "nbformat_minor": 2
}
