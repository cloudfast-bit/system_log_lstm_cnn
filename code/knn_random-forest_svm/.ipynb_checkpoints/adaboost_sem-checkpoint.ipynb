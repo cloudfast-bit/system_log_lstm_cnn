{
 "cells": [
  {
   "cell_type": "code",
   "execution_count": 4,
   "metadata": {},
   "outputs": [],
   "source": [
    "import numpy as np\n",
    "import matplotlib.pyplot as plt\n",
    "from sklearn import cross_validation, metrics\n",
    "from sklearn.ensemble import AdaBoostClassifier\n",
    "from sklearn.externals import joblib"
   ]
  },
  {
   "cell_type": "markdown",
   "metadata": {},
   "source": [
    "# load data"
   ]
  },
  {
   "cell_type": "code",
   "execution_count": 2,
   "metadata": {},
   "outputs": [
    {
     "name": "stdout",
     "output_type": "stream",
     "text": [
      "Opening dataset...\n"
     ]
    },
    {
     "name": "stderr",
     "output_type": "stream",
     "text": [
      "d:\\programfiles\\python35\\lib\\site-packages\\ipykernel_launcher.py:14: DeprecationWarning: 'U' mode is deprecated\n",
      "  \n"
     ]
    },
    {
     "name": "stdout",
     "output_type": "stream",
     "text": [
      "Dataset loaded.\n"
     ]
    },
    {
     "name": "stderr",
     "output_type": "stream",
     "text": [
      "d:\\programfiles\\python35\\lib\\site-packages\\ipykernel_launcher.py:26: DeprecationWarning: 'U' mode is deprecated\n"
     ]
    }
   ],
   "source": [
    "labels = {\n",
    "    '0':'file', '1':'network', '2':'service', '3':'database', '4':'communication', '5':'memory', '6':'driver', \n",
    "    '7':'system', '8':'application', '9':'io', '10':'others', '11':'security', '12':'disk', '13':'processor'}\n",
    "\n",
    "fault_label = {\n",
    "    '0':'file', '1':'network', '2':'service', '3':'database', '5':'memory', \n",
    "    '10':'others', '11':'security', '12':'disk', '13':'processor'}\n",
    "\n",
    "X = []\n",
    "y = []\n",
    "\n",
    "print(\"Opening dataset...\")\n",
    "try:\n",
    "    with open(\"data_msg_type/x.txt\", 'rU') as f:\n",
    "        res = list(f)\n",
    "        for line in res:\n",
    "            line.strip(\"\\n\")\n",
    "            features = line.split(\"\\t\")\n",
    "            while features.__contains__(\"\"):\n",
    "                features.remove(\"\")\n",
    "            for i in range(len(features)):\n",
    "                features[i] = float(features[i])\n",
    "            X.append(features)\n",
    "         \n",
    "    #read the classes from file and put them in list.      \n",
    "    with open(\"data_msg_type/y.txt\", 'rU') as f:\n",
    "        res = list(f)\n",
    "        for line in res:\n",
    "            y.append(int(line.strip(\"\\n\")[0]))\n",
    "            \n",
    "except:\n",
    "    print(\"Error in reading the train set file.\")\n",
    "    exit()\n",
    "\n",
    "print(\"Dataset loaded.\")"
   ]
  },
  {
   "cell_type": "markdown",
   "metadata": {},
   "source": [
    "# split data"
   ]
  },
  {
   "cell_type": "code",
   "execution_count": 3,
   "metadata": {},
   "outputs": [
    {
     "name": "stdout",
     "output_type": "stream",
     "text": [
      "Separating data into 80% training set & 20% test set...\n",
      "Dataset separated.\n",
      "\n"
     ]
    }
   ],
   "source": [
    "X = np.array(X) #change to matrix\n",
    "y = np.array(y) #change to matrix (sklearn models only accept matrices)\n",
    "\n",
    "print(\"Separating data into 80% training set & 20% test set...\")\n",
    "X_train, X_test, y_train, y_test = cross_validation.train_test_split(\n",
    "    X, y, test_size=0.20, random_state=33)#random split.\n",
    "print(\"Dataset separated.\\n\")"
   ]
  },
  {
   "cell_type": "markdown",
   "metadata": {},
   "source": [
    "# adaboost train"
   ]
  },
  {
   "cell_type": "code",
   "execution_count": 4,
   "metadata": {},
   "outputs": [
    {
     "name": "stdout",
     "output_type": "stream",
     "text": [
      "---------------Random Forest---------------\n",
      "Testing 1 trees\n"
     ]
    },
    {
     "name": "stderr",
     "output_type": "stream",
     "text": [
      "/usr/local/lib/python2.7/dist-packages/sklearn/cross_validation.py:552: Warning: The least populated class in y has only 7 members, which is too few. The minimum number of labels for any class cannot be less than n_folds=9.\n",
      "  % (min_labels, self.n_folds)), Warning)\n"
     ]
    },
    {
     "name": "stdout",
     "output_type": "stream",
     "text": [
      "Testing 2 trees\n",
      "Testing 3 trees\n",
      "Testing 4 trees\n",
      "Testing 5 trees\n",
      "Testing 6 trees\n",
      "Testing 7 trees\n",
      "Testing 8 trees\n",
      "Testing 9 trees\n",
      "Testing 10 trees\n"
     ]
    }
   ],
   "source": [
    "print(\"---------------adaboost---------------\")\n",
    "n_estimators_list = range(1, 11) #try from one to 21 estimators.\n",
    "result_random_forests = [] #to be used later for comparing rf with different estimators.\n",
    "max_score_rf = float(\"-inf\") #just in case we get NaN\n",
    "best_param_rf = None\n",
    "\n",
    "for trees in n_estimators_list:\n",
    "    print(\"Testing %d trees\" % trees)\n",
    "    rf_clf = RandomForestClassifier(\n",
    "        n_estimators=trees, max_depth=None, min_samples_split=2, random_state=0)\n",
    "    scores = cross_validation.cross_val_score(\n",
    "        rf_clf, X_train, y_train, scoring=\"accuracy\", cv=9)\n",
    "    result_random_forests.append(scores.mean())\n",
    "    if scores.mean() > max_score_rf:\n",
    "        max_score_rf = scores.mean()\n",
    "        best_param_rf = {\"n_estimators\": trees}"
   ]
  },
  {
   "cell_type": "markdown",
   "metadata": {},
   "source": [
    "# test and predict"
   ]
  },
  {
   "cell_type": "code",
   "execution_count": 5,
   "metadata": {},
   "outputs": [
    {
     "name": "stdout",
     "output_type": "stream",
     "text": [
      "()\n",
      "('Number of trees in forest: ', 10)\n",
      "('Results: ', [0.99998125164042884, 0.99997500242158111, 0.99998125164042884, 0.99999375078115227, 1.0, 0.99999375078115227, 0.99999375078115227, 0.99999375078115227, 0.99999375078115227, 0.99999375078115227])\n",
      "('Best accuracy: ', 1.0)\n",
      "('Best parameter: ', {'n_estimators': 5})\n",
      "('Test set accuracy: ', 0.99997499999999995)\n",
      "('Total cases: ', 40000)\n",
      "('Correct Prediction: ', 39999)\n",
      "('Correct prediction rate: ', 0.999975)\n"
     ]
    }
   ],
   "source": [
    "rf_clf = RandomForestClassifier(n_estimators=best_param_rf.get(\"n_estimators\"), \n",
    "                    max_depth=None, min_samples_split=2, random_state=0).fit(X_train, y_train)\n",
    "\n",
    "rf_clf_test_score = rf_clf.score(X_test, y_test)\n",
    "\n",
    "# save trained model for future use.\n",
    "#joblib.dump(rf_clf,'data/rf_clf.pkl', compress=9)\n",
    "\n",
    "count1 = 0\n",
    "count2 = 0\n",
    "actualist = []\n",
    "predlist = []\n",
    "\n",
    "for i in range(len(X_test)):\n",
    "    count2 += 1\n",
    "    classinrow = X_test[i]\n",
    "    classinrow = np.array(X_test[i]).reshape(1,-1)\n",
    "    # each xval is a set of features la one sample.\n",
    "    # predict class for each row.. each i is a row.\n",
    "    predicted = rf_clf.predict(classinrow)\n",
    "    actual = y_test[i]\n",
    "    actualist.append(actual)\n",
    "    predlist.append(predicted[0])\n",
    "    if predicted == actual:\n",
    "        count1 += 1\n",
    "print()\n",
    "print(\"Number of trees in forest: \", len(n_estimators_list))\n",
    "print(\"Results: \", result_random_forests)\n",
    "print(\"Best accuracy: \", max_score_rf)\n",
    "print(\"Best parameter: \", best_param_rf)\n",
    "print(\"Test set accuracy: \", rf_clf_test_score)\n",
    "\n",
    "print(\"Total cases: \", count2)\n",
    "print(\"Correct Prediction: \", count1)\n",
    "print(\"Correct prediction rate: \", float(count1) / count2)"
   ]
  },
  {
   "cell_type": "markdown",
   "metadata": {},
   "source": [
    "# plot"
   ]
  },
  {
   "cell_type": "code",
   "execution_count": 6,
   "metadata": {},
   "outputs": [
    {
     "name": "stdout",
     "output_type": "stream",
     "text": [
      "             precision    recall  f1-score   support\n",
      "\n",
      "    network       1.00      1.00      1.00       279\n",
      "       file       1.00      1.00      1.00      3115\n",
      "   database       1.00      1.00      1.00      5774\n",
      "    service       1.00      1.00      1.00        16\n",
      "     memory       1.00      1.00      1.00       248\n",
      "     others       1.00      1.00      1.00     29818\n",
      "   security       1.00      1.00      1.00        64\n",
      "       disk       1.00      1.00      1.00       479\n",
      "  processor       1.00      1.00      1.00       207\n",
      "\n",
      "avg / total       1.00      1.00      1.00     40000\n",
      "\n",
      "[[  279     0     0     0     0     0     0     0     0]\n",
      " [    0  3115     0     0     0     0     0     0     0]\n",
      " [    0     0  5774     0     0     0     0     0     0]\n",
      " [    0     0     0    16     0     0     0     0     0]\n",
      " [    0     0     0     0   248     0     0     0     0]\n",
      " [    0     0     0     0     0 29818     0     0     0]\n",
      " [    0     0     0     0     0     0    64     0     0]\n",
      " [    1     0     0     0     0     0     0   478     0]\n",
      " [    0     0     0     0     0     0     0     0   207]]\n"
     ]
    },
    {
     "data": {
      "image/png": "[encoded data removed]",
      "text/plain": [
       "<matplotlib.figure.Figure at 0x7fd34d903490>"
      ]
     },
     "metadata": {},
     "output_type": "display_data"
    }
   ],
   "source": [
    "# cmap can be changed to many colors, (colormaps.Oranges,OrRd, etc)\n",
    "def plot_CM(cm, title=\"Normalized Confusion Matrix\", cmap=plt.cm.Greens):\n",
    "    plt.imshow(cm, interpolation='nearest', cmap=cmap)\n",
    "    plt.title(title)\n",
    "    plt.colorbar()\n",
    "    tick_marks = np.arange(len(fault_label))\n",
    "    plt.xticks(tick_marks, fault_label.values(), rotation=90)\n",
    "    plt.yticks(tick_marks, fault_label.values())\n",
    "    plt.tight_layout()\n",
    "    plt.ylabel(\"True label\")\n",
    "    plt.xlabel(\"Predicted label\")\n",
    "    plt.show()\n",
    "\n",
    "print(metrics.classification_report(\n",
    "    actualist, predlist, target_names = list(fault_label.values())))\n",
    "cm = metrics.confusion_matrix(actualist, predlist)\n",
    "print(cm)\n",
    "\n",
    "# show a normalized matrix as a separate figure.\n",
    "cm_normalized = cm.astype('float') / cm.sum(axis=1)[:,np.newaxis]\n",
    "plt.figure()\n",
    "plot_CM(cm_normalized)"
   ]
  }
 ],
 "metadata": {
  "kernelspec": {
   "display_name": "Python 3",
   "language": "python",
   "name": "python3"
  },
  "language_info": {
   "codemirror_mode": {
    "name": "ipython",
    "version": 3
   },
   "file_extension": ".py",
   "mimetype": "text/x-python",
   "name": "python",
   "nbconvert_exporter": "python",
   "pygments_lexer": "ipython3",
   "version": "3.5.3"
  }
 },
 "nbformat": 4,
 "nbformat_minor": 2
}
