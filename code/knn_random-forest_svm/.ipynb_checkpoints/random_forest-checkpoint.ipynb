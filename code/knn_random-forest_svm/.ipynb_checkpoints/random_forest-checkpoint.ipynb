{
 "cells": [
  {
   "cell_type": "code",
   "execution_count": 1,
   "metadata": {},
   "outputs": [
    {
     "name": "stderr",
     "output_type": "stream",
     "text": [
      "/usr/local/lib/python2.7/dist-packages/sklearn/cross_validation.py:44: DeprecationWarning: This module was deprecated in version 0.18 in favor of the model_selection module into which all the refactored classes and functions are moved. Also note that the interface of the new CV iterators are different from that of this module. This module will be removed in 0.20.\n",
      "  \"This module will be removed in 0.20.\", DeprecationWarning)\n"
     ]
    }
   ],
   "source": [
    "import numpy as np\n",
    "import matplotlib.pyplot as plt\n",
    "from sklearn import cross_validation, metrics\n",
    "from sklearn.ensemble import RandomForestClassifier\n",
    "from sklearn.externals import joblib"
   ]
  },
  {
   "cell_type": "markdown",
   "metadata": {},
   "source": [
    "# load data"
   ]
  },
  {
   "cell_type": "code",
   "execution_count": 2,
   "metadata": {},
   "outputs": [
    {
     "name": "stdout",
     "output_type": "stream",
     "text": [
      "Opening dataset...\n",
      "Dataset loaded.\n"
     ]
    }
   ],
   "source": [
    "fault_label = {'1': 'info',\n",
    "               '2': 'Critical',\n",
    "               '3': 'error',\n",
    "               '4': 'notice',\n",
    "               '5': 'warning',\n",
    "               '6': 'alert',\n",
    "               '7': 'emergency'}\n",
    "\n",
    "X = []\n",
    "y = []\n",
    "X_val = [] #validation set features\n",
    "y_val = [] #validation set target\n",
    "\n",
    "print(\"Opening dataset...\")\n",
    "try:\n",
    "    with open(\"data/msg_token_train.txt\", 'rU') as f:\n",
    "        res = list(f)\n",
    "        for line in res:\n",
    "            line.strip(\"\\n\")\n",
    "            features = line.split(\"\\t\")\n",
    "            while features.__contains__(\"\"):\n",
    "                features.remove(\"\")\n",
    "            for i in range(len(features)):\n",
    "                features[i] = float(features[i])\n",
    "            X.append(features)\n",
    "         \n",
    "    #read the classes from file and put them in list.      \n",
    "    with open(\"data/msg_label_train.txt\", 'rU') as f:\n",
    "        res = list(f)\n",
    "        for line in res:\n",
    "            y.append(int(line.strip(\"\\n\")[0]))\n",
    "            \n",
    "except:\n",
    "    print(\"Error in reading the train set file.\")\n",
    "    exit()\n",
    "try:\n",
    "    #do the same for test sets.\n",
    "    with open(\"data/msg_token_test.txt\", 'rU') as f:\n",
    "        res = list(f)\n",
    "        for line in res:\n",
    "            line.strip(\"\\n\")\n",
    "            features = line.split(\"\\t\")\n",
    "            while features.__contains__(\"\"):\n",
    "                features.remove(\"\")\n",
    "            for i in range(len(features)):\n",
    "                features[i] = float(features[i])\n",
    "            X_val.append(features)\n",
    "        \n",
    "    with open(\"data/msg_label_test.txt\", 'rU') as f:\n",
    "        res = list(f)\n",
    "        for line in res:\n",
    "            y_val.append(int(line.strip(\"\\n\")[0]))\n",
    "        f.close()\n",
    "except:\n",
    "    print(\"Error in reading the train set file.\")\n",
    "    exit()\n",
    "print(\"Dataset loaded.\")"
   ]
  },
  {
   "cell_type": "markdown",
   "metadata": {},
   "source": [
    "# split data"
   ]
  },
  {
   "cell_type": "code",
   "execution_count": 3,
   "metadata": {},
   "outputs": [
    {
     "name": "stdout",
     "output_type": "stream",
     "text": [
      "Separating data into 67% training set & 33% test set...\n",
      "Dataset separated.\n",
      "\n"
     ]
    }
   ],
   "source": [
    "X = np.array(X) #change to matrix\n",
    "y = np.array(y) #change to matrix (sklearn models only accept matrices)\n",
    "\n",
    "print(\"Separating data into 67% training set & 33% test set...\")\n",
    "X_train, X_test, y_train, y_test = cross_validation.train_test_split(\n",
    "    X, y, test_size=0.33, random_state=33)#random split.\n",
    "print(\"Dataset separated.\\n\")"
   ]
  },
  {
   "cell_type": "markdown",
   "metadata": {},
   "source": [
    "# random forest train"
   ]
  },
  {
   "cell_type": "code",
   "execution_count": 4,
   "metadata": {},
   "outputs": [
    {
     "name": "stdout",
     "output_type": "stream",
     "text": [
      "---------------Random Forest---------------\n",
      "Testing 1 trees\n",
      "Testing 2 trees\n",
      "Testing 3 trees\n",
      "Testing 4 trees\n",
      "Testing 5 trees\n",
      "Testing 6 trees\n",
      "Testing 7 trees\n",
      "Testing 8 trees\n",
      "Testing 9 trees\n",
      "Testing 10 trees\n",
      "Testing 11 trees\n",
      "Testing 12 trees\n",
      "Testing 13 trees\n",
      "Testing 14 trees\n",
      "Testing 15 trees\n",
      "Testing 16 trees\n",
      "Testing 17 trees\n",
      "Testing 18 trees\n",
      "Testing 19 trees\n",
      "Testing 20 trees\n"
     ]
    }
   ],
   "source": [
    "print(\"---------------Random Forest---------------\")\n",
    "n_estimators_list = range(1, 21) #try from one to 21 estimators.\n",
    "result_random_forests = [] #to be used later for comparing rf with different estimators.\n",
    "max_score_rf = float(\"-inf\") #just in case we get NaN\n",
    "best_param_rf = None\n",
    "\n",
    "for trees in n_estimators_list:\n",
    "    print(\"Testing %d trees\" % trees)\n",
    "    rf_clf = RandomForestClassifier(\n",
    "        n_estimators=trees, max_depth=None, min_samples_split=2, random_state=0)\n",
    "    scores = cross_validation.cross_val_score(\n",
    "        rf_clf, X_train, y_train, scoring=\"accuracy\", cv=7)\n",
    "    result_random_forests.append(scores.mean())\n",
    "    if scores.mean() > max_score_rf:\n",
    "        max_score_rf = scores.mean()\n",
    "        best_param_rf = {\"n_estimators\": trees}"
   ]
  },
  {
   "cell_type": "markdown",
   "metadata": {},
   "source": [
    "# test and predict"
   ]
  },
  {
   "cell_type": "code",
   "execution_count": 5,
   "metadata": {},
   "outputs": [
    {
     "name": "stdout",
     "output_type": "stream",
     "text": [
      "()\n",
      "('Number of trees in forest: ', 20)\n",
      "('Results: ', [0.90947604172294516, 0.93377823338631571, 0.94341738032370392, 0.94538455813343514, 0.94841716302273771, 0.9502064621293449, 0.95413261245395009, 0.95377502762149824, 0.95431431781823384, 0.95484602644019057, 0.95627616736554188, 0.95609803567803531, 0.95698911598655112, 0.95770362799307462, 0.95752437883520625, 0.95752662215293938, 0.95824269694510789, 0.95770564669479863, 0.95788332413826949, 0.95806300636157549])\n",
      "('Best accuracy: ', 0.95824269694510789)\n",
      "('Best parameter: ', {'n_estimators': 17})\n",
      "('Test set accuracy: ', 0.9992750996737948)\n",
      "('Total cases: ', 1671)\n",
      "('Correct Prediction: ', 1615)\n",
      "('Correct prediction rate: ', 0.9664871334530222)\n"
     ]
    }
   ],
   "source": [
    "rf_clf_test_score = RandomForestClassifier(\n",
    "    n_estimators=best_param_rf.get(\"n_estimators\"), max_depth=None,\n",
    "    min_samples_split=2, random_state=0).fit(X_test, y_test).score(X_test, y_test)\n",
    "#print(\"Test set accuracy: \", rf_clf_test_score)\n",
    "\n",
    "rf_clf = RandomForestClassifier(\n",
    "    n_estimators=best_param_rf.get(\"n_estimators\"), max_depth=None, \n",
    "    min_samples_split=2, random_state=0).fit(X, y)\n",
    "\n",
    "# save trained model for future use.\n",
    "#joblib.dump(rf_clf,'data/rf_clf.pkl', compress=9)\n",
    "\n",
    "count1 = 0\n",
    "count2 = 0\n",
    "actualist = []\n",
    "predlist = []\n",
    "\n",
    "for i in range(len(X_val)):\n",
    "    count2 += 1\n",
    "    classinrow = X_val[i]\n",
    "    classinrow = np.array(X_val[i]).reshape(1,-1)\n",
    "    # each xval is a set of features la one sample.\n",
    "    # predict class for each row.. each i is a row.\n",
    "    predicted = rf_clf.predict(classinrow)\n",
    "    actual = y_val[i]\n",
    "    actualist.append(actual)\n",
    "    predlist.append(predicted[0])\n",
    "    if predicted == actual:\n",
    "        count1 += 1\n",
    "print()\n",
    "print(\"Number of trees in forest: \", len(n_estimators_list))\n",
    "print(\"Results: \", result_random_forests)\n",
    "print(\"Best accuracy: \", max_score_rf)\n",
    "print(\"Best parameter: \", best_param_rf)\n",
    "print(\"Test set accuracy: \", rf_clf_test_score)\n",
    "\n",
    "print(\"Total cases: \", count2)\n",
    "print(\"Correct Prediction: \", count1)\n",
    "print(\"Correct prediction rate: \", float(count1) / count2)"
   ]
  },
  {
   "cell_type": "markdown",
   "metadata": {},
   "source": [
    "# plot"
   ]
  },
  {
   "cell_type": "code",
   "execution_count": 6,
   "metadata": {},
   "outputs": [
    {
     "name": "stdout",
     "output_type": "stream",
     "text": [
      "             precision    recall  f1-score   support\n",
      "\n",
      "       info       0.93      1.00      0.96       694\n",
      "      error       1.00      0.87      0.93       108\n",
      "   Critical       1.00      0.87      0.93        93\n",
      "    warning       1.00      0.67      0.80        42\n",
      "     notice       1.00      0.98      0.99       729\n",
      "  emergency       1.00      1.00      1.00         2\n",
      "      alert       1.00      0.33      0.50         3\n",
      "\n",
      "avg / total       0.97      0.97      0.97      1671\n",
      "\n",
      "[[694   0   0   0   0   0   0]\n",
      " [ 14  94   0   0   0   0   0]\n",
      " [ 12   0  81   0   0   0   0]\n",
      " [ 14   0   0  28   0   0   0]\n",
      " [ 14   0   0   0 715   0   0]\n",
      " [  0   0   0   0   0   2   0]\n",
      " [  2   0   0   0   0   0   1]]\n"
     ]
    },
    {
     "data": {
      "image/png": "[encoded data removed]",
      "text/plain": [
       "<matplotlib.figure.Figure at 0x7f88d84b3750>"
      ]
     },
     "metadata": {},
     "output_type": "display_data"
    }
   ],
   "source": [
    "# cmap can be changed to many colors, (colormaps.Oranges,OrRd, etc)\n",
    "def plot_CM(cm, title=\"Normalized Confusion Matrix\", cmap=plt.cm.Greens):\n",
    "    plt.imshow(cm, interpolation='nearest', cmap=cmap)\n",
    "    plt.title(title)\n",
    "    plt.colorbar()\n",
    "    tick_marks = np.arange(len(fault_label))\n",
    "    plt.xticks(tick_marks, fault_label.values(), rotation=90)\n",
    "    plt.yticks(tick_marks, fault_label.values())\n",
    "    plt.tight_layout()\n",
    "    plt.ylabel(\"True label\")\n",
    "    plt.xlabel(\"Predicted label\")\n",
    "    plt.show()\n",
    "\n",
    "print(metrics.classification_report(\n",
    "    actualist, predlist, target_names = list(fault_label.values())))\n",
    "cm = metrics.confusion_matrix(actualist, predlist)\n",
    "print(cm)\n",
    "\n",
    "# show a normalized matrix as a separate figure.\n",
    "cm_normalized = cm.astype('float') / cm.sum(axis=1)[:,np.newaxis]\n",
    "plt.figure()\n",
    "plot_CM(cm_normalized)"
   ]
  }
 ],
 "metadata": {
  "kernelspec": {
   "display_name": "Python 2",
   "language": "python",
   "name": "python2"
  },
  "language_info": {
   "codemirror_mode": {
    "name": "ipython",
    "version": 2
   },
   "file_extension": ".py",
   "mimetype": "text/x-python",
   "name": "python",
   "nbconvert_exporter": "python",
   "pygments_lexer": "ipython2",
   "version": "2.7.12"
  }
 },
 "nbformat": 4,
 "nbformat_minor": 2
}
