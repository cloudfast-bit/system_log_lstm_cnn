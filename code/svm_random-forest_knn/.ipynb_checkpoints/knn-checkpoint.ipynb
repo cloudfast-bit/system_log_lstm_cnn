{
 "cells": [
  {
   "cell_type": "code",
   "execution_count": 1,
   "metadata": {},
   "outputs": [
    {
     "name": "stderr",
     "output_type": "stream",
     "text": [
      "/usr/local/lib/python2.7/dist-packages/sklearn/cross_validation.py:44: DeprecationWarning: This module was deprecated in version 0.18 in favor of the model_selection module into which all the refactored classes and functions are moved. Also note that the interface of the new CV iterators are different from that of this module. This module will be removed in 0.20.\n",
      "  \"This module will be removed in 0.20.\", DeprecationWarning)\n"
     ]
    }
   ],
   "source": [
    "import numpy as np\n",
    "import matplotlib.pyplot as plt\n",
    "from sklearn import cross_validation, metrics\n",
    "from sklearn.neighbors import KNeighborsClassifier"
   ]
  },
  {
   "cell_type": "markdown",
   "metadata": {},
   "source": [
    "# label"
   ]
  },
  {
   "cell_type": "code",
   "execution_count": 2,
   "metadata": {
    "collapsed": true
   },
   "outputs": [],
   "source": [
    "fault_label = {'1': 'info',\n",
    "               '2': 'Critical',\n",
    "               '3': 'error',\n",
    "               '4': 'notice',\n",
    "               '5': 'warning',\n",
    "               '6': 'alert',\n",
    "               '7': 'emergency'}"
   ]
  },
  {
   "cell_type": "markdown",
   "metadata": {},
   "source": [
    "# load dataset"
   ]
  },
  {
   "cell_type": "code",
   "execution_count": 3,
   "metadata": {},
   "outputs": [
    {
     "name": "stdout",
     "output_type": "stream",
     "text": [
      "Opening dataset...\n",
      "Dataset loaded.\n"
     ]
    }
   ],
   "source": [
    "X = []\n",
    "y = []\n",
    "X_val = [] #validation set features\n",
    "y_val = [] #validation set target\n",
    "\n",
    "print(\"Opening dataset...\")\n",
    "try:\n",
    "    with open(\"data/msg_token_train.txt\", 'rU') as f:\n",
    "        res = list(f)\n",
    "        for line in res:\n",
    "            line.strip(\"\\n\")\n",
    "            features = line.split(\"\\t\")\n",
    "            while features.__contains__(\"\"):\n",
    "                features.remove(\"\")\n",
    "            for i in range(len(features)):\n",
    "                features[i] = float(features[i])\n",
    "            X.append(features)\n",
    "         \n",
    "    #read the classes from file and put them in list.      \n",
    "    with open(\"data/msg_label_train.txt\", 'rU') as f:\n",
    "        res = list(f)\n",
    "        for line in res:\n",
    "            y.append(int(line.strip(\"\\n\")[0]))\n",
    "            \n",
    "except:\n",
    "    print(\"Error in reading the train set file.\")\n",
    "    exit()\n",
    "try:\n",
    "    #do the same for test sets.\n",
    "    with open(\"data/msg_token_test.txt\", 'rU') as f:\n",
    "        res = list(f)\n",
    "        for line in res:\n",
    "            line.strip(\"\\n\")\n",
    "            features = line.split(\"\\t\")\n",
    "            while features.__contains__(\"\"):\n",
    "                features.remove(\"\")\n",
    "            for i in range(len(features)):\n",
    "                features[i] = float(features[i])\n",
    "            X_val.append(features)\n",
    "        \n",
    "    with open(\"data/msg_label_test.txt\", 'rU') as f:\n",
    "        res = list(f)\n",
    "        for line in res:\n",
    "            y_val.append(int(line.strip(\"\\n\")[0]))\n",
    "        f.close()\n",
    "except:\n",
    "    print(\"Error in reading the train set file.\")\n",
    "    exit()\n",
    "print(\"Dataset loaded.\")"
   ]
  },
  {
   "cell_type": "markdown",
   "metadata": {},
   "source": [
    "# split dataset"
   ]
  },
  {
   "cell_type": "code",
   "execution_count": 4,
   "metadata": {},
   "outputs": [
    {
     "name": "stdout",
     "output_type": "stream",
     "text": [
      "Separating data into 67% training set & 33% test set...\n",
      "Dataset separated.\n",
      "\n"
     ]
    }
   ],
   "source": [
    "X = np.array(X) #change to matrix\n",
    "y = np.array(y) #change to matrix (sklearn models only accept matrices)\n",
    "\n",
    "print(\"Separating data into 67% training set & 33% test set...\")\n",
    "X_train, X_test, y_train, y_test = cross_validation.train_test_split(\n",
    "    X, y, test_size=0.33, random_state=33) # add random state here...\n",
    "print(\"Dataset separated.\\n\")"
   ]
  },
  {
   "cell_type": "markdown",
   "metadata": {},
   "source": [
    "# knn train"
   ]
  },
  {
   "cell_type": "code",
   "execution_count": 5,
   "metadata": {},
   "outputs": [
    {
     "name": "stdout",
     "output_type": "stream",
     "text": [
      "---------------K Nearest Neighbors----------------\n",
      "Testing 1 nearest neighbors\n"
     ]
    }
   ],
   "source": [
    "print(\"---------------K Nearest Neighbors----------------\")\n",
    "n_neighbors_list = range(1, 2, 1)\n",
    "result_n_neighbors = []\n",
    "max_score_knn = float(\"-inf\")\n",
    "best_param_knn = None\n",
    "\n",
    "for n_neighbors in n_neighbors_list:\n",
    "    print(\"Testing %d nearest neighbors\" % n_neighbors)\n",
    "    knn_clf = KNeighborsClassifier(n_neighbors=n_neighbors)\n",
    "    scores = cross_validation.cross_val_score(\n",
    "             knn_clf, X_train, y_train, scoring=\"accuracy\", cv=7)\n",
    "    result_n_neighbors.append(scores.mean())\n",
    "    if scores.mean() > max_score_knn:\n",
    "        max_score_knn = scores.mean()\n",
    "        best_param_knn = {\"n_neighbors\": n_neighbors}"
   ]
  },
  {
   "cell_type": "markdown",
   "metadata": {},
   "source": [
    "# results and evaluation"
   ]
  },
  {
   "cell_type": "code",
   "execution_count": 6,
   "metadata": {},
   "outputs": [
    {
     "name": "stdout",
     "output_type": "stream",
     "text": [
      "('Number of neighbors: ', 1)\n",
      "('Results: ', [0.95072952735611083])\n",
      "('Best accuracy: ', 0.95072952735611083)\n",
      "('Best parameter: ', {'n_neighbors': 1})\n",
      "('Test set accuracy: ', 1.0)\n",
      "('Total cases: ', 1671)\n",
      "('Correct Prediction: ', 1611)\n",
      "('Correct prediction rate: ', 0.9640933572710951)\n"
     ]
    }
   ],
   "source": [
    "knn_clf_test_score = KNeighborsClassifier(\n",
    "    best_param_knn.get(\"n_neighbors\")).fit(X_test, y_test).score(X_test, y_test)\n",
    "#print(\"Test set accuracy: \", knn_clf_test_score)\n",
    "\n",
    "knn_clf = KNeighborsClassifier(best_param_knn.get(\"n_neighbors\")).fit(X, y)\n",
    "count1 = 0\n",
    "count2 = 0\n",
    "actualist = []\n",
    "predlist = []\n",
    "\n",
    "for i in range(len(X_val)):\n",
    "    count2 += 1\n",
    "    classinrow = X_val[i]\n",
    "    classinrow = np.array(X_val[i]).reshape(1,-1)\n",
    "    predicted = knn_clf.predict(classinrow)\n",
    "    actual = y_val[i]\n",
    "    actualist.append(actual)\n",
    "    predlist.append(predicted[0])\n",
    "    if predicted == actual:\n",
    "        count1 += 1\n",
    "\n",
    "print(\"Number of neighbors: \", len(n_neighbors_list))\n",
    "print(\"Results: \", result_n_neighbors)\n",
    "print(\"Best accuracy: \", max_score_knn)\n",
    "print(\"Best parameter: \", best_param_knn)\n",
    "print(\"Test set accuracy: \", knn_clf_test_score)\n",
    "\n",
    "print(\"Total cases: \", count2)\n",
    "print(\"Correct Prediction: \", count1)\n",
    "print(\"Correct prediction rate: \", float(count1) / count2)"
   ]
  },
  {
   "cell_type": "markdown",
   "metadata": {},
   "source": [
    "# plot"
   ]
  },
  {
   "cell_type": "code",
   "execution_count": 7,
   "metadata": {},
   "outputs": [
    {
     "name": "stdout",
     "output_type": "stream",
     "text": [
      "             precision    recall  f1-score   support\n",
      "\n",
      "       info       0.97      0.95      0.96       694\n",
      "      error       0.91      0.93      0.92       108\n",
      "   Critical       0.82      0.91      0.86        93\n",
      "    warning       0.78      0.86      0.82        42\n",
      "     notice       1.00      0.99      1.00       729\n",
      "  emergency       1.00      1.00      1.00         2\n",
      "      alert       1.00      0.67      0.80         3\n",
      "\n",
      "avg / total       0.97      0.96      0.96      1671\n",
      "\n",
      "[[661  10  16   5   2   0   0]\n",
      " [  7 100   0   1   0   0   0]\n",
      " [  5   0  85   3   0   0   0]\n",
      " [  3   0   3  36   0   0   0]\n",
      " [  3   0   0   1 725   0   0]\n",
      " [  0   0   0   0   0   2   0]\n",
      " [  1   0   0   0   0   0   2]]\n"
     ]
    },
    {
     "data": {
      "image/png": "[encoded data removed]",
      "text/plain": [
       "<matplotlib.figure.Figure at 0x7ffac9a2c490>"
      ]
     },
     "metadata": {},
     "output_type": "display_data"
    }
   ],
   "source": [
    "def plot_CM(cm, title=\"Normalized Confusion Matrix\", cmap=plt.cm.Greens):\n",
    "    plt.imshow(cm, interpolation='nearest', cmap=cmap)\n",
    "    plt.title(title)\n",
    "    plt.colorbar()\n",
    "    tick_marks = np.arange(len(fault_label))\n",
    "    plt.xticks(tick_marks, fault_label.values(), rotation=90)\n",
    "    plt.yticks(tick_marks, fault_label.values())\n",
    "    plt.tight_layout()\n",
    "    plt.ylabel(\"True label\")\n",
    "    plt.xlabel(\"Predicted label\")\n",
    "    plt.show()\n",
    "    \n",
    "print(metrics.classification_report(actualist, predlist,\n",
    "      target_names = list(fault_label.values())))\n",
    "cm = metrics.confusion_matrix(actualist, predlist)\n",
    "print(cm)\n",
    "\n",
    "# visualization\n",
    "cm_normalized = cm.astype('float') / cm.sum(axis=1)[:,np.newaxis]\n",
    "plt.figure()\n",
    "plot_CM(cm_normalized)"
   ]
  }
 ],
 "metadata": {
  "kernelspec": {
   "display_name": "Python 2",
   "language": "python",
   "name": "python2"
  },
  "language_info": {
   "codemirror_mode": {
    "name": "ipython",
    "version": 2
   },
   "file_extension": ".py",
   "mimetype": "text/x-python",
   "name": "python",
   "nbconvert_exporter": "python",
   "pygments_lexer": "ipython2",
   "version": "2.7.12"
  }
 },
 "nbformat": 4,
 "nbformat_minor": 2
}
