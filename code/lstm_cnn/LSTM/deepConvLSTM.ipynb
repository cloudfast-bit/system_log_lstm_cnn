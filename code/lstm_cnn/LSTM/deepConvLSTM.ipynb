{
 "cells": [
  {
   "cell_type": "code",
   "execution_count": 20,
   "metadata": {},
   "outputs": [],
   "source": [
    "import time\n",
    "import os\n",
    "import numpy as np\n",
    "import cPickle as cp #serializing and de-serializing a Python object structure\n",
    "import tensorflow as tf\n",
    "import matplotlib.pyplot as plt\n",
    "from sklearn import cross_validation, metrics\n",
    "from sliding_window import sliding_window"
   ]
  },
  {
   "cell_type": "markdown",
   "metadata": {},
   "source": [
    "# run environment"
   ]
  },
  {
   "cell_type": "code",
   "execution_count": 2,
   "metadata": {
    "collapsed": true
   },
   "outputs": [],
   "source": [
    "os.environ[\"CUDA_VISIBLE_DEVICES\"] = \"1\"\n",
    "gpu_options = tf.GPUOptions(per_process_gpu_memory_fraction = 0.4)\n",
    "config = tf.ConfigProto(gpu_options=gpu_options)"
   ]
  },
  {
   "cell_type": "markdown",
   "metadata": {},
   "source": [
    "# params setup"
   ]
  },
  {
   "cell_type": "code",
   "execution_count": 3,
   "metadata": {
    "collapsed": true
   },
   "outputs": [],
   "source": [
    "NB_SENSOR_CHANNELS = 14\n",
    "\n",
    "NUM_CLASSES = 14\n",
    "\n",
    "# Hardcoded length of the sliding window mechanism employed to segment the data\n",
    "SLIDING_WINDOW_LENGTH = 24\n",
    "\n",
    "# Length of the input sequence after convolutional operations\n",
    "FINAL_SEQUENCE_LENGTH = 8\n",
    "\n",
    "# Hardcoded step of the sliding window mechanism employed to segment the data\n",
    "SLIDING_WINDOW_STEP = 12\n",
    "\n",
    "# Batch Size\n",
    "BATCH_SIZE = 128\n",
    "\n",
    "# Number filters convolutional layers\n",
    "NUM_FILTERS = 64\n",
    "\n",
    "# Size filters convolutional layers\n",
    "FILTER_SIZE = 5\n",
    "\n",
    "# Number of unit in the long short-term recurrent layers\n",
    "NUM_UNITS_LSTM = 128"
   ]
  },
  {
   "cell_type": "markdown",
   "metadata": {},
   "source": [
    "# load data"
   ]
  },
  {
   "cell_type": "code",
   "execution_count": 14,
   "metadata": {},
   "outputs": [
    {
     "name": "stdout",
     "output_type": "stream",
     "text": [
      "Separating data into 80% training set & 20% test set...\n",
      "Dataset separated.\n",
      "\n",
      "((160000, 14), (160000, 1), (40000, 1))\n"
     ]
    }
   ],
   "source": [
    "def load_X(X_path):\n",
    "    file = open(X_path, 'r')\n",
    "    # Read dataset from disk, dealing with text files' syntax\n",
    "    X_signal = [np.array(item, dtype=np.float32) for item in [\n",
    "               line.strip().split('\\t') for line in file]]\n",
    "    file.close()\n",
    "    return np.array(X_signal)\n",
    "\n",
    "\n",
    "# Load \"y\" (the neural network's training and testing outputs)\n",
    "def load_y(y_path):\n",
    "    file = open(y_path, 'r')\n",
    "    # Read dataset from disk, dealing with text file's syntax\n",
    "    y_ = np.array([elem for elem in [line.strip().split('\\t') for line in file]], \n",
    "                  dtype=np.int32)\n",
    "    file.close()\n",
    "    # Substract 1 to each output class for friendly 0-based indexing\n",
    "    return y_ \n",
    "\n",
    "labels = {'0':'file', '1':'network', '2':'service', '3':'database', '4':'communication', '5':'memory', '6':'driver', \n",
    "    '7':'system', '8':'application', '9':'io', '10':'others', '11':'security', '12':'disk', '13':'processor'}\n",
    "\n",
    "fault_label = {\n",
    "    '0':'file', '1':'network', '2':'service', '3':'database', '5':'memory', \n",
    "    '10':'others', '11':'security', '12':'disk', '13':'processor'}\n",
    "\n",
    "dataset_path = \"data_msg_type/\"\n",
    "X_path = dataset_path + \"x.txt\"\n",
    "y_path = dataset_path + \"y.txt\"\n",
    "\n",
    "X = load_X(X_path)\n",
    "y = load_y(y_path)\n",
    "\n",
    "# Separate our training data into test and training.\n",
    "print(\"Separating data into 80% training set & 20% test set...\")\n",
    "X_train, X_test, y_train, y_test = cross_validation.train_test_split(\n",
    "    X, y, test_size=0.2, random_state=33)#add random state here...\n",
    "print(\"Dataset separated.\\n\")\n",
    "\n",
    "print(X_train.shape, y_train.shape, y_test.shape)"
   ]
  },
  {
   "cell_type": "markdown",
   "metadata": {},
   "source": [
    "# sliding window"
   ]
  },
  {
   "cell_type": "code",
   "execution_count": 5,
   "metadata": {},
   "outputs": [
    {
     "name": "stdout",
     "output_type": "stream",
     "text": [
      "after sliding window (testing): inputs (3332, 24, 14), targets (3332,)\n",
      "after sliding window (testing): inputs (3332, 24, 14, 1), targets (3332,)\n"
     ]
    }
   ],
   "source": [
    "assert NB_SENSOR_CHANNELS == X_train.shape[1]\n",
    "def opp_sliding_window(data_x, data_y, ws, ss):\n",
    "    data_x = sliding_window(data_x,(ws,data_x.shape[1]),(ss,1))\n",
    "    data_y = np.asarray([[i[-1]] for i in sliding_window(data_y,(ws,1),(ss,1))])\n",
    "    return data_x.astype(np.float32), data_y.reshape(len(data_y)).astype(np.int32)\n",
    "\n",
    "# Sensor data is segmented using a sliding window mechanism\n",
    "y_test\n",
    "X_test, y_test = opp_sliding_window(X_test, y_test, SLIDING_WINDOW_LENGTH, \n",
    "                                    SLIDING_WINDOW_STEP)\n",
    "print(\"after sliding window (testing): inputs {0}, targets {1}\".format(X_test.shape, \n",
    "                                                                          y_test.shape))\n",
    "# Data is reshaped since the input of the network is a 4 dimension tensor\n",
    "X_test = X_test.reshape((-1, SLIDING_WINDOW_LENGTH, NB_SENSOR_CHANNELS, 1))\n",
    "\n",
    "# Sensor data is segmented using a sliding window mechanism\n",
    "X_train, y_train = opp_sliding_window(X_train, y_train, SLIDING_WINDOW_LENGTH, \n",
    "                                      SLIDING_WINDOW_STEP)\n",
    "print(\"after sliding window (testing): inputs {0}, targets {1}\".format(\n",
    "                                      X_test.shape, y_test.shape))\n",
    "# Data is reshaped since the input of the network is a 4 dimension tensor\n",
    "X_train = X_train.reshape((-1, SLIDING_WINDOW_LENGTH, NB_SENSOR_CHANNELS, 1))"
   ]
  },
  {
   "cell_type": "markdown",
   "metadata": {},
   "source": [
    "# one hot"
   ]
  },
  {
   "cell_type": "code",
   "execution_count": 6,
   "metadata": {},
   "outputs": [
    {
     "name": "stdout",
     "output_type": "stream",
     "text": [
      "data is ready\n"
     ]
    }
   ],
   "source": [
    "def one_hot(label):\n",
    "    \"\"\"convert label from dense to one hot\n",
    "      argument:\n",
    "        label: ndarray dense label ,shape: [sample_num,1]\n",
    "      return:\n",
    "        one_hot_label: ndarray  one hot, shape: [sample_num,n_class]\n",
    "    \"\"\"\n",
    "    label_num = len(label)\n",
    "    new_label = label.reshape(label_num)  # shape : [sample_num]\n",
    "    # because max is 6, and we will create 7 columns\n",
    "    n_values = np.max(new_label) + 1\n",
    "    return np.eye(n_values)[np.array(new_label, dtype=np.int32)]\n",
    "\n",
    "y_test=one_hot(y_test)\n",
    "y_train=one_hot(y_train)\n",
    "\n",
    "print(\"data is ready\")"
   ]
  },
  {
   "cell_type": "markdown",
   "metadata": {},
   "source": [
    "# define network "
   ]
  },
  {
   "cell_type": "code",
   "execution_count": 7,
   "metadata": {
    "collapsed": true
   },
   "outputs": [],
   "source": [
    "def init_weights(shape):\n",
    "    return tf.Variable(tf.random_normal(shape, stddev=0.01))\n",
    "\n",
    "def model(X, w, w2, w3, w4, rnnW, rnnB, lstm_size):\n",
    "    # l1a shape=(?, 28, 28, 32)\n",
    "    l1a = tf.nn.relu(tf.nn.conv2d(X, w, strides=[1, 1, 1, 1], padding='VALID'))\n",
    "    # l1 shape=(?, 14, 14, 32)\n",
    "    #|l1 = tf.nn.max_pool(l1a, ksize=[1, 2, 2, 1], strides=[1, 2, 2, 1], padding='SAME')\n",
    "    #l1 = tf.nn.dropout(l1, p_keep_conv)\n",
    "                     \n",
    "    # l2a shape=(?, 14, 14, 64)\n",
    "    l2a = tf.nn.relu(tf.nn.conv2d(l1a, w2, strides=[1, 1, 1, 1], padding='VALID'))\n",
    "    # l2 shape=(?, 7, 7, 64)\n",
    "    #l2 = tf.nn.max_pool(l2a, ksize=[1, 2, 2, 1], strides=[1, 2, 2, 1], padding='SAME')\n",
    "    #l2 = tf.nn.dropout(l2, p_keep_conv)\n",
    "\n",
    "    # l3a shape=(?, 7, 7, 128)\n",
    "    l3a = tf.nn.relu(tf.nn.conv2d(l2a, w3, strides=[1, 1, 1, 1], padding='VALID'))        \n",
    "    # l3 shape=(?, 4, 4, 128)                           \n",
    "    #l3 = tf.nn.max_pool(l3a, ksize=[1, 2, 2, 1], strides=[1, 2, 2, 1], padding='SAME')\n",
    "    # reshape to (?, 2048)\n",
    "    #l3 = tf.reshape(l3, [-1, w4.get_shape().as_list()[0]])  \n",
    "    #l3 = tf.nn.dropout(l3, p_keep_conv)\n",
    "                 \n",
    "    # l3a shape=(?, 7, 7, 128)\n",
    "    l4a = tf.nn.relu(tf.nn.conv2d(l3a, w4, strides=[1, 1, 1, 1], padding='VALID'))\n",
    "                     \n",
    "    shuff = tf.transpose(l4a, [1, 0, 2, 3])\n",
    "    shp1 = tf.reshape(shuff, [-1, lstm_size])\n",
    "    print(shp1.shape)\n",
    "    # split them to time_step_size (28 arrays)\n",
    "    X_split = tf.split(shp1, 56, 0) \n",
    "    \n",
    "    lstm_cell = tf.contrib.rnn.BasicLSTMCell(lstm_size, \n",
    "                                        forget_bias=1.0, state_is_tuple=True)  \n",
    "    lstm_cell2 = tf.contrib.rnn.BasicLSTMCell(lstm_size, \n",
    "                                        forget_bias=1.0, state_is_tuple=True)\n",
    "    # Stack two LSTM layers, both layers has the same shape\n",
    "    lstm_layers = tf.contrib.rnn.MultiRNNCell([lstm_cell, lstm_cell2], \n",
    "                                              state_is_tuple=True)\n",
    "                     \n",
    "    outputs, _states = tf.contrib.rnn.static_rnn(lstm_layers, X_split, dtype=tf.float32)\n",
    "    print(outputs[-1].shape)\n",
    "    \n",
    "    print(\"tf net end\")\n",
    "\n",
    "    return tf.matmul(outputs[-1], rnnW) + rnnB"
   ]
  },
  {
   "cell_type": "markdown",
   "metadata": {},
   "source": [
    "# model config"
   ]
  },
  {
   "cell_type": "code",
   "execution_count": 8,
   "metadata": {},
   "outputs": [
    {
     "name": "stdout",
     "output_type": "stream",
     "text": [
      "(?, 128)\n",
      "(?, 128)\n",
      "tf net end\n",
      "get cnn output\n",
      "net work done\n"
     ]
    }
   ],
   "source": [
    "X = tf.placeholder(\"float\", [None, 24, 14, 1])\n",
    "Y = tf.placeholder(\"float\", [None, 14])\n",
    "\n",
    "lstm_size = 128\n",
    "w = init_weights([5, 1, 1, 64])       # 3x3x1 conv, 32 outputs\n",
    "w2 = init_weights([5, 1, 64, 64])     # 3x3x32 conv, 64 outputs\n",
    "w3 = init_weights([5, 1, 64, 64])    # 3x3x32 conv, 128 outputs\n",
    "w4 = init_weights([5, 1, 64, 64]) # FC 128 * 4 * 4 inputs, 625 outputs\n",
    "\n",
    "rnnW = init_weights([lstm_size, 14])\n",
    "rnnB = init_weights([14])\n",
    "pre_Y = model(X, w, w2, w3, w4, rnnW, rnnB,lstm_size)\n",
    "print (\"get cnn output\");\n",
    "\n",
    "cost = tf.reduce_mean(tf.nn.softmax_cross_entropy_with_logits(logits=pre_Y, labels=Y))\n",
    "train_op = tf.train.RMSPropOptimizer(0.001, 0.9).minimize(cost)\n",
    "predict_op = tf.argmax(pre_Y, 1)\n",
    "\n",
    "print(\"net work done\")"
   ]
  },
  {
   "cell_type": "markdown",
   "metadata": {},
   "source": [
    "# train and test"
   ]
  },
  {
   "cell_type": "code",
   "execution_count": 9,
   "metadata": {
    "scrolled": true
   },
   "outputs": [
    {
     "name": "stdout",
     "output_type": "stream",
     "text": [
      "(0, 0.75270108043217288)\n",
      "(1, 0.75270108043217288)\n",
      "(2, 0.75270108043217288)\n",
      "(3, 0.75270108043217288)\n",
      "(4, 0.75270108043217288)\n",
      "(5, 0.75270108043217288)\n",
      "(6, 0.75270108043217288)\n",
      "(7, 0.75270108043217288)\n",
      "(8, 0.75270108043217288)\n",
      "(9, 0.75270108043217288)\n",
      "(10, 0.75270108043217288)\n",
      "(11, 0.75270108043217288)\n",
      "(12, 0.75270108043217288)\n",
      "(13, 0.75270108043217288)\n",
      "(14, 0.75270108043217288)\n",
      "(15, 0.75270108043217288)\n",
      "(16, 0.75270108043217288)\n",
      "(17, 0.75270108043217288)\n",
      "(18, 0.75270108043217288)\n",
      "(19, 0.75270108043217288)\n",
      "(20, 0.75270108043217288)\n",
      "(21, 0.75270108043217288)\n",
      "(22, 0.75270108043217288)\n",
      "(23, 0.75270108043217288)\n",
      "(24, 0.75270108043217288)\n",
      "(25, 0.75270108043217288)\n",
      "(26, 0.75270108043217288)\n",
      "(27, 0.75270108043217288)\n",
      "(28, 0.75270108043217288)\n",
      "(29, 0.75270108043217288)\n",
      "(30, 0.75270108043217288)\n",
      "(31, 0.75270108043217288)\n",
      "(32, 0.75270108043217288)\n",
      "(33, 0.75270108043217288)\n",
      "(34, 0.75270108043217288)\n",
      "(35, 0.75270108043217288)\n",
      "(36, 0.75270108043217288)\n",
      "(37, 0.75270108043217288)\n",
      "(38, 0.75270108043217288)\n",
      "(39, 0.75270108043217288)\n",
      "(40, 0.75270108043217288)\n",
      "(41, 0.75270108043217288)\n",
      "(42, 0.75270108043217288)\n",
      "(43, 0.75270108043217288)\n",
      "(44, 0.75270108043217288)\n",
      "(45, 0.75270108043217288)\n",
      "(46, 0.75270108043217288)\n",
      "(47, 0.75270108043217288)\n",
      "(48, 0.75270108043217288)\n",
      "(49, 0.75270108043217288)\n",
      "(50, 0.75270108043217288)\n",
      "(51, 0.75270108043217288)\n",
      "(52, 0.75270108043217288)\n",
      "(53, 0.75270108043217288)\n",
      "(54, 0.75270108043217288)\n",
      "(55, 0.75270108043217288)\n",
      "(56, 0.75270108043217288)\n",
      "(57, 0.75270108043217288)\n",
      "(58, 0.75270108043217288)\n",
      "(59, 0.75270108043217288)\n",
      "(60, 0.75270108043217288)\n",
      "(61, 0.75270108043217288)\n",
      "(62, 0.75270108043217288)\n",
      "(63, 0.75270108043217288)\n",
      "(64, 0.75270108043217288)\n",
      "(65, 0.75270108043217288)\n",
      "(66, 0.75270108043217288)\n",
      "(67, 0.75270108043217288)\n",
      "(68, 0.75270108043217288)\n",
      "(69, 0.75270108043217288)\n",
      "(70, 0.75270108043217288)\n",
      "(71, 0.75270108043217288)\n",
      "(72, 0.75270108043217288)\n",
      "(73, 0.75270108043217288)\n",
      "(74, 0.75270108043217288)\n",
      "(75, 0.75270108043217288)\n",
      "(76, 0.75270108043217288)\n",
      "(77, 0.75270108043217288)\n",
      "(78, 0.75270108043217288)\n",
      "(79, 0.75270108043217288)\n",
      "(80, 0.75270108043217288)\n",
      "(81, 0.75270108043217288)\n",
      "(82, 0.75270108043217288)\n",
      "(83, 0.75270108043217288)\n",
      "(84, 0.75240096038415372)\n",
      "(85, 0.75240096038415372)\n",
      "(86, 0.75240096038415372)\n",
      "(87, 0.75270108043217288)\n",
      "(88, 0.75240096038415372)\n",
      "(89, 0.75)\n",
      "(90, 0.74939975990396157)\n",
      "(91, 0.74279711884753896)\n",
      "(92, 0.74339735894357739)\n",
      "(93, 0.73289315726290516)\n",
      "(94, 0.72569027611044423)\n",
      "(95, 0.71398559423769503)\n",
      "(96, 0.7067827130852341)\n",
      "(97, 0.71008403361344541)\n",
      "(98, 0.70378151260504207)\n",
      "(99, 0.68847539015606241)\n"
     ]
    }
   ],
   "source": [
    "def iterate_minibatches(inputs, targets, batchsize, shuffle=False):\n",
    "    assert len(inputs) == len(targets)\n",
    "    if shuffle:\n",
    "        indices = np.arange(len(inputs))\n",
    "        np.random.shuffle(indices)\n",
    "    for start_idx in range(0, len(inputs) - batchsize + 1, batchsize):\n",
    "        if shuffle:\n",
    "            excerpt = indices[start_idx:start_idx + batchsize]\n",
    "        else:\n",
    "            excerpt = slice(start_idx, start_idx + batchsize)\n",
    "        yield inputs[excerpt], targets[excerpt]\n",
    "\n",
    "# Launch the graph in a session\n",
    "with tf.Session(config=config) as sess:\n",
    "    # you need to initialize all variables\n",
    "    tf.global_variables_initializer().run()\n",
    "\n",
    "    for i in range(100):\n",
    "        for start, end in zip(range(0, len(X_train), BATCH_SIZE), \n",
    "                              range(BATCH_SIZE, len(X_train)+1, BATCH_SIZE)):\n",
    "            sess.run(train_op, feed_dict={X: X_train[start:end], Y: y_train[start:end]})\n",
    "\n",
    "        test_indices = np.arange(len(X_test))  # Get A Test Batch\n",
    "        np.random.shuffle(test_indices)\n",
    "        test_indices = test_indices[0:]\n",
    "\n",
    "        print(i, np.mean(np.argmax(y_test[test_indices], axis=1) ==\n",
    "                         sess.run(predict_op, feed_dict={X: X_test[test_indices]})))"
   ]
  }
 ],
 "metadata": {
  "kernelspec": {
   "display_name": "Python 2",
   "language": "python",
   "name": "python2"
  },
  "language_info": {
   "codemirror_mode": {
    "name": "ipython",
    "version": 2
   },
   "file_extension": ".py",
   "mimetype": "text/x-python",
   "name": "python",
   "nbconvert_exporter": "python",
   "pygments_lexer": "ipython2",
   "version": "2.7.12"
  }
 },
 "nbformat": 4,
 "nbformat_minor": 2
}
