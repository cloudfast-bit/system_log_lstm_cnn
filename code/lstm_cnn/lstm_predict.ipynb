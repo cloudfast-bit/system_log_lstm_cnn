{
 "cells": [
  {
   "cell_type": "code",
   "execution_count": 1,
   "metadata": {},
   "outputs": [
    {
     "name": "stderr",
     "output_type": "stream",
     "text": [
      "/usr/local/lib/python2.7/dist-packages/sklearn/cross_validation.py:44: DeprecationWarning: This module was deprecated in version 0.18 in favor of the model_selection module into which all the refactored classes and functions are moved. Also note that the interface of the new CV iterators are different from that of this module. This module will be removed in 0.20.\n",
      "  \"This module will be removed in 0.20.\", DeprecationWarning)\n"
     ]
    }
   ],
   "source": [
    "import os\n",
    "import numpy as np\n",
    "import tensorflow as tf\n",
    "import matplotlib\n",
    "import matplotlib.pyplot as plt\n",
    "from sklearn import metrics, cross_validation"
   ]
  },
  {
   "cell_type": "markdown",
   "metadata": {},
   "source": [
    "# run enviroment"
   ]
  },
  {
   "cell_type": "code",
   "execution_count": 2,
   "metadata": {
    "collapsed": true
   },
   "outputs": [],
   "source": [
    "os.environ[\"CUDA_VISIBLE_DEVICES\"] = \"1\"\n",
    "gpu_options = tf.GPUOptions(per_process_gpu_memory_fraction = 0.4)\n",
    "sess_config = tf.ConfigProto(gpu_options=gpu_options)"
   ]
  },
  {
   "cell_type": "markdown",
   "metadata": {},
   "source": [
    "# load data"
   ]
  },
  {
   "cell_type": "code",
   "execution_count": 3,
   "metadata": {
    "collapsed": true
   },
   "outputs": [],
   "source": [
    "# Load \"X\" (the neural network's training and testing inputs)\n",
    "def load_X(X_path):\n",
    "    X_list = []\n",
    "    file = open(X_path, 'r')\n",
    "    # Read dataset from disk, dealing with text files' syntax\n",
    "    X_signal = [np.array(item, dtype=np.float32) for item in [\n",
    "               line.strip().split('\\t') for line in file]]\n",
    "    X_list.append(X_signal)\n",
    "    file.close()\n",
    "    return np.transpose(np.array(X_list), (1, 2, 0))\n",
    "\n",
    "\n",
    "# Load \"y\" (the neural network's training and testing outputs)\n",
    "def load_y(y_path):\n",
    "    file = open(y_path, 'r')\n",
    "    # Read dataset from disk, dealing with text file's syntax\n",
    "    y_ = np.array([elem for elem in [line.strip().split('\\t') for line in file]], \n",
    "                  dtype=np.int32)\n",
    "    file.close()\n",
    "    # Substract 1 to each output class for friendly 0-based indexing\n",
    "    return y_"
   ]
  },
  {
   "cell_type": "code",
   "execution_count": 4,
   "metadata": {},
   "outputs": [
    {
     "name": "stdout",
     "output_type": "stream",
     "text": [
      "Separating data into 80% training set & 20% test set...\n",
      "Dataset separated.\n",
      "\n"
     ]
    }
   ],
   "source": [
    "labels = {'0':'file', '1':'network', '2':'service', '3':'database', '4':'communication', '5':'memory', '6':'driver', \n",
    "    '7':'system', '8':'application', '9':'io', '10':'others', '11':'security', '12':'disk', '13':'processor'}\n",
    "\n",
    "dataset_path = \"data_msg_type/\"\n",
    "X_path = dataset_path + \"x.txt\"\n",
    "y_path = dataset_path + \"y.txt\"\n",
    "\n",
    "X = load_X(X_path)\n",
    "y = load_y(y_path)\n",
    "\n",
    "# Separate our training data into test and training.\n",
    "print(\"Separating data into 80% training set & 20% test set...\")\n",
    "X_train, X_test, y_train, y_test = cross_validation.train_test_split(\n",
    "    X, y, test_size=0.2, random_state=33)#add random state here...\n",
    "print(\"Dataset separated.\\n\")"
   ]
  },
  {
   "cell_type": "markdown",
   "metadata": {},
   "source": [
    "# param config"
   ]
  },
  {
   "cell_type": "code",
   "execution_count": 5,
   "metadata": {},
   "outputs": [
    {
     "name": "stdout",
     "output_type": "stream",
     "text": [
      "test features shape, labels shape, each features mean, each features standard deviation\n",
      "((40000, 14, 1), (40000, 1), 0.11178214, 0.41461828)\n",
      "the dataset is properly normalised, as expected.\n"
     ]
    }
   ],
   "source": [
    "class Config(object):\n",
    "    \"\"\"\n",
    "    A class to store parameters, the input should be feature mat of training and testing\n",
    "    Note: it would be more interesting to use a HyperOpt search space:\n",
    "    https://github.com/hyperopt/hyperopt\n",
    "    \"\"\"\n",
    "    def __init__(self, X_train, X_test):\n",
    "        # Input data\n",
    "        self.train_count = len(X_train)  # 200,000 training series\n",
    "        self.test_data_count = len(X_test)  # 40,000 testing series\n",
    "        self.n_steps = len(X_train[0])  # 14 time_steps (features) per series\n",
    "\n",
    "        # Training\n",
    "        self.learning_rate = 0.0001\n",
    "        self.lambda_loss_amount = 0.005\n",
    "        self.training_epochs = self.train_count * 100\n",
    "        self.batch_size = 1024\n",
    "        self.display_iter = 10000  # To show test set accuracy during training\n",
    "\n",
    "        # LSTM structure\n",
    "        # Features count is of 1 (1*3D sensors features over time)\n",
    "        self.n_inputs = len(X_train[0][0]) # 1\n",
    "        self.n_hidden = 128  # nb of neurons inside the neural network\n",
    "        self.n_classes = 14  # Final output classes\n",
    "        \n",
    "        self.W = {\n",
    "            'hidden': tf.Variable(tf.random_normal([self.n_inputs, self.n_hidden])),\n",
    "            'output': tf.Variable(tf.random_normal([self.n_hidden, self.n_classes]))}\n",
    "        self.biases = {\n",
    "            'hidden': tf.Variable(tf.random_normal([self.n_hidden], mean=1.0)),\n",
    "            'output': tf.Variable(tf.random_normal([self.n_classes]))}\n",
    "        \n",
    "config = Config(X_train, X_test)\n",
    "print(\"test features shape, labels shape, each features mean, each features standard deviation\")\n",
    "print(X_test.shape, y_test.shape,\n",
    "      np.mean(X_test), np.std(X_test))\n",
    "print(\"the dataset is properly normalised, as expected.\")"
   ]
  },
  {
   "cell_type": "markdown",
   "metadata": {},
   "source": [
    "# lstm network"
   ]
  },
  {
   "cell_type": "code",
   "execution_count": 6,
   "metadata": {
    "collapsed": true
   },
   "outputs": [],
   "source": [
    "def LSTM_Network(_X, config):\n",
    "    \"\"\"\n",
    "    Two LSTM cells are stacked which adds deepness to the neural network.\n",
    "    Args:\n",
    "        _X: ndarray feature matrix, shape: [batch_size, time_steps, n_inputs]\n",
    "        return: matrix  output shape [batch_size,n_classes]\n",
    "    \"\"\"\n",
    "    # (NOTE: This step could be greatly optimised by shaping the dataset once\n",
    "    # input shape: (batch_size, n_steps, n_input)\n",
    "    _X = tf.transpose(_X, [1, 0, 2])  # permute n_steps and batch_size\n",
    "    # Reshape to prepare input to hidden activation\n",
    "    _X = tf.reshape(_X, [-1, config.n_inputs])\n",
    "    # new shape: (n_steps*batch_size, n_input)\n",
    "\n",
    "    # Linear activation\n",
    "    _X = tf.nn.relu(tf.matmul(_X, config.W['hidden']) + config.biases['hidden'])\n",
    "    # Split data because rnn cell needs a list of inputs for the RNN inner loop\n",
    "    _X = tf.split(_X, config.n_steps, 0)\n",
    "    # new shape: n_steps * (batch_size, n_hidden)\n",
    "\n",
    "    # Define two stacked LSTM cells (two recurrent layers deep) with tensorflow\n",
    "    lstm_cell_1 = tf.contrib.rnn.BasicLSTMCell(config.n_hidden, forget_bias=1.0, \n",
    "                  state_is_tuple=True)\n",
    "    lstm_cell_2 = tf.contrib.rnn.BasicLSTMCell(config.n_hidden, forget_bias=1.0, \n",
    "                  state_is_tuple=True)\n",
    "    lstm_cells = tf.contrib.rnn.MultiRNNCell([lstm_cell_1, lstm_cell_2], \n",
    "                  state_is_tuple=True)\n",
    "    # Get LSTM cell output\n",
    "    outputs, states = tf.contrib.rnn.static_rnn(lstm_cells, _X, dtype=tf.float32)\n",
    "\n",
    "    # Get last time step's output feature for a \"many to one\" style classifier,\n",
    "    # as in the image describing RNNs at the top of this page\n",
    "    lstm_last_output = outputs[-1]\n",
    "\n",
    "    # Linear activation\n",
    "    return tf.matmul(lstm_last_output, config.W['output']) + config.biases['output']"
   ]
  },
  {
   "cell_type": "markdown",
   "metadata": {},
   "source": [
    "# batch extract"
   ]
  },
  {
   "cell_type": "code",
   "execution_count": 7,
   "metadata": {
    "collapsed": true
   },
   "outputs": [],
   "source": [
    "def extract_batch_size(_train, step, batch_size):   \n",
    "    # Function to fetch a \"batch_size\" amount of data from \"(X|y)_train\" data.    \n",
    "    shape = list(_train.shape)\n",
    "    shape[0] = batch_size\n",
    "    batch_s = np.empty(shape)\n",
    "\n",
    "    for i in range(batch_size):\n",
    "        # Loop index\n",
    "        index = ((step-1)*batch_size + i) % len(_train)\n",
    "        batch_s[i] = _train[index] \n",
    "\n",
    "    return batch_s"
   ]
  },
  {
   "cell_type": "markdown",
   "metadata": {},
   "source": [
    "# one hot"
   ]
  },
  {
   "cell_type": "code",
   "execution_count": 8,
   "metadata": {
    "collapsed": true
   },
   "outputs": [],
   "source": [
    "def one_hot(y_):\n",
    "    \"\"\"\n",
    "    Function to encode output labels from number indexes.\n",
    "    E.g.: [[5], [0], [3]] --> [[0, 0, 0, 0, 0, 1], [1, 0, 0, 0, 0, 0], [0, 0, 0, 1, 0, 0]]\n",
    "    \"\"\"\n",
    "    y_ = y_.reshape(len(y_))\n",
    "    #n_values = int(np.max(y_)) + 1\n",
    "    n_values = config.n_classes\n",
    "    return np.eye(n_values)[np.array(y_, dtype=np.int32)]  # Returns FLOATS"
   ]
  },
  {
   "cell_type": "markdown",
   "metadata": {},
   "source": [
    "# build the neural network"
   ]
  },
  {
   "cell_type": "code",
   "execution_count": 9,
   "metadata": {
    "collapsed": true
   },
   "outputs": [],
   "source": [
    "x = tf.placeholder(tf.float32, [None, config.n_steps, config.n_inputs])\n",
    "y = tf.placeholder(tf.float32, [None, config.n_classes])\n",
    "\n",
    "pred_y = LSTM_Network(x, config)\n",
    "\n",
    "# Loss,optimizer,evaluation\n",
    "l2 = config.lambda_loss_amount * \\\n",
    "    sum(tf.nn.l2_loss(tf_var) for tf_var in tf.trainable_variables())\n",
    "# Softmax loss and L2\n",
    "cost = tf.reduce_mean(\n",
    "    tf.nn.softmax_cross_entropy_with_logits(labels=y, logits=pred_y)) + l2\n",
    "optimizer = tf.train.AdamOptimizer(\n",
    "    learning_rate=config.learning_rate).minimize(cost)\n",
    "\n",
    "correct_pred = tf.equal(tf.argmax(pred_y, 1), tf.argmax(y, 1))\n",
    "accuracy = tf.reduce_mean(tf.cast(correct_pred, dtype=tf.float32))"
   ]
  },
  {
   "cell_type": "markdown",
   "metadata": {},
   "source": [
    "# train the neural network"
   ]
  },
  {
   "cell_type": "code",
   "execution_count": 10,
   "metadata": {
    "scrolled": true
   },
   "outputs": [
    {
     "name": "stdout",
     "output_type": "stream",
     "text": [
      "Training epochs #1024:   Batch Loss = 13.510088, Accuracy = 0.009765625\n",
      "Performance on test set: Batch Loss = 12.4600315094, Accuracy = 0.00619999971241\n",
      "Training epochs #640000:   Batch Loss = 6.050955, Accuracy = 0.99609375\n",
      "Performance on test set: Batch Loss = 6.06106948853, Accuracy = 0.992274105549\n",
      "Training epochs #1280000:   Batch Loss = 5.248656, Accuracy = 0.9970703125\n",
      "Performance on test set: Batch Loss = 5.25184345245, Accuracy = 0.995499134064\n",
      "Training epochs #1920000:   Batch Loss = 4.652505, Accuracy = 0.9990234375\n",
      "Performance on test set: Batch Loss = 4.65477800369, Accuracy = 0.998774051666\n",
      "Training epochs #2560000:   Batch Loss = 4.230476, Accuracy = 0.994140625\n",
      "Performance on test set: Batch Loss = 4.24167203903, Accuracy = 0.99117410183\n",
      "Training epochs #3200000:   Batch Loss = 3.868141, Accuracy = 0.9970703125\n",
      "Performance on test set: Batch Loss = 3.87071943283, Accuracy = 0.99724906683\n",
      "Training epochs #3840000:   Batch Loss = 3.541767, Accuracy = 0.9970703125\n",
      "Performance on test set: Batch Loss = 3.54312205315, Accuracy = 0.997724056244\n",
      "Training epochs #4480000:   Batch Loss = 3.235361, Accuracy = 0.9990234375\n",
      "Performance on test set: Batch Loss = 3.23625183105, Accuracy = 0.999049067497\n",
      "Training epochs #5120000:   Batch Loss = 2.947518, Accuracy = 0.9990234375\n",
      "Performance on test set: Batch Loss = 2.94856357574, Accuracy = 0.999049127102\n",
      "Training epochs #5760000:   Batch Loss = 2.678376, Accuracy = 1.0\n",
      "Performance on test set: Batch Loss = 2.67980599403, Accuracy = 0.999423980713\n",
      "Training epochs #6400000:   Batch Loss = 2.495903, Accuracy = 0.9951171875\n",
      "Performance on test set: Batch Loss = 2.49815917015, Accuracy = 0.994799077511\n",
      "Training epochs #7040000:   Batch Loss = 2.305458, Accuracy = 0.9990234375\n",
      "Performance on test set: Batch Loss = 2.30766582489, Accuracy = 0.997649073601\n",
      "Training epochs #7680000:   Batch Loss = 2.124319, Accuracy = 0.9990234375\n",
      "Performance on test set: Batch Loss = 2.12635302544, Accuracy = 0.997849106789\n",
      "Training epochs #8320000:   Batch Loss = 1.949056, Accuracy = 1.0\n",
      "Performance on test set: Batch Loss = 1.95125150681, Accuracy = 0.997999072075\n",
      "Training epochs #8960000:   Batch Loss = 1.780775, Accuracy = 1.0\n",
      "Performance on test set: Batch Loss = 1.78301358223, Accuracy = 0.998024106026\n",
      "Training epochs #9600000:   Batch Loss = 1.620202, Accuracy = 1.0\n",
      "Performance on test set: Batch Loss = 1.62263071537, Accuracy = 0.998074054718\n",
      "Training epochs #10240000:   Batch Loss = 1.469077, Accuracy = 1.0\n",
      "Performance on test set: Batch Loss = 1.4710777998, Accuracy = 0.998324036598\n",
      "Training epochs #10880000:   Batch Loss = 1.330724, Accuracy = 0.998046875\n",
      "Performance on test set: Batch Loss = 1.330742836, Accuracy = 0.998149037361\n",
      "Training epochs #11520000:   Batch Loss = 1.242315, Accuracy = 0.99609375\n",
      "Performance on test set: Batch Loss = 1.24587059021, Accuracy = 0.996174097061\n",
      "Training epochs #12160000:   Batch Loss = 1.149719, Accuracy = 1.0\n",
      "Performance on test set: Batch Loss = 1.15224897861, Accuracy = 0.997924089432\n",
      "Training epochs #12800000:   Batch Loss = 1.064253, Accuracy = 1.0\n",
      "Performance on test set: Batch Loss = 1.0669605732, Accuracy = 0.99812412262\n",
      "Training epochs #13440000:   Batch Loss = 0.982894, Accuracy = 1.0\n",
      "Performance on test set: Batch Loss = 0.985715568066, Accuracy = 0.998324036598\n",
      "Training epochs #14080000:   Batch Loss = 0.905351, Accuracy = 1.0\n",
      "Performance on test set: Batch Loss = 0.90768122673, Accuracy = 0.998524069786\n",
      "Training epochs #14720000:   Batch Loss = 0.830904, Accuracy = 1.0\n",
      "Performance on test set: Batch Loss = 0.833544611931, Accuracy = 0.998124063015\n",
      "Training epochs #15360000:   Batch Loss = 0.762569, Accuracy = 0.99609375\n",
      "Performance on test set: Batch Loss = 0.764656126499, Accuracy = 0.997524082661\n",
      "Training epochs #16000000:   Batch Loss = 0.699512, Accuracy = 0.99609375\n",
      "Performance on test set: Batch Loss = 0.699581205845, Accuracy = 0.998174130917\n",
      "Optimization Finished!\n",
      "Final result: Batch Loss = 0.699581205845, Accuracy = 0.998174130917\n"
     ]
    }
   ],
   "source": [
    "# tracking training performance\n",
    "test_losses = []\n",
    "test_accuracies = []\n",
    "train_losses = []\n",
    "train_accuracies = []\n",
    "\n",
    "# Launch the graph\n",
    "# Note that log_device_placement can be turned ON but will cause console spam with RNNs.\n",
    "sess = tf.InteractiveSession(config=sess_config)\n",
    "init = tf.global_variables_initializer()\n",
    "sess.run(init)\n",
    "\n",
    "# Perform Training steps with \"batch_size\" amount of example data at each loop\n",
    "step = 1\n",
    "while step * config.batch_size <= config.training_epochs:\n",
    "    batch_xs = extract_batch_size(X_train, step, config.batch_size)\n",
    "    batch_ys = one_hot(extract_batch_size(y_train, step, config.batch_size))\n",
    "\n",
    "    # Fit training using batch data\n",
    "    _, loss, acc = sess.run([optimizer, cost, accuracy],\n",
    "        feed_dict={x: batch_xs, y: batch_ys})\n",
    "\n",
    "    train_losses.append(loss)\n",
    "    train_accuracies.append(acc)  \n",
    "\n",
    "    # Evaluate network only at some steps for faster training: \n",
    "    if (step*config.batch_size % config.display_iter == 0) or (step == 1) \\\n",
    "        or (step * config.batch_size > config.training_epochs):\n",
    "\n",
    "        # To not spam console, show training accuracy/loss in this \"if\"\n",
    "        print(\"Training epochs #\" + str(step*config.batch_size) + \\\n",
    "          \":   Batch Loss = \" + \"{:.6f}\".format(loss) + \\\n",
    "          \", Accuracy = {}\".format(acc))\n",
    "\n",
    "        # Evaluation on the test set (no learning made here - just evaluation for diagnosis)\n",
    "        loss, acc = sess.run([cost, accuracy], feed_dict={x: X_test, y: one_hot(y_test)})\n",
    "\n",
    "        test_losses.append(loss)\n",
    "        test_accuracies.append(acc)\n",
    "\n",
    "        print(\"Performance on test set: \" + \"Batch Loss = {}\".format(loss) + \\\n",
    "            \", Accuracy = {}\".format(acc))\n",
    "    step += 1\n",
    "\n",
    "print(\"Optimization Finished!\")\n",
    "\n",
    "# Accuracy for test data\n",
    "one_hot_predictions, accs, final_loss = sess.run([pred_y, accuracy, cost],\n",
    "    feed_dict={x: X_test, y: one_hot(y_test)})\n",
    "\n",
    "test_losses.append(final_loss)\n",
    "test_accuracies.append(accs)\n",
    "\n",
    "print(\"Final result: \" + \"Batch Loss = {}\".format(final_loss) + \\\n",
    "    \", Accuracy = {}\".format(accs))"
   ]
  },
  {
   "cell_type": "markdown",
   "metadata": {},
   "source": [
    "# performance visualization"
   ]
  },
  {
   "cell_type": "code",
   "execution_count": 11,
   "metadata": {
    "scrolled": false
   },
   "outputs": [
    {
     "data": {
      "image/png": "[encoded data removed]",
      "text/plain": [
       "<matplotlib.figure.Figure at 0x7f14c1c66f50>"
      ]
     },
     "metadata": {},
     "output_type": "display_data"
    },
    {
     "data": {
      "text/plain": [
       "<matplotlib.figure.Figure at 0x7f14ac748a50>"
      ]
     },
     "metadata": {},
     "output_type": "display_data"
    }
   ],
   "source": [
    "#font = {'family': 'Bitstream Vera Sans', 'weight': 'bold', 'size': 12}\n",
    "\n",
    "#matplotlib.rc('font', **font)\n",
    "\n",
    "#width = 12\n",
    "#height = 12\n",
    "#plt.figure(figsize=(width, height))\n",
    "\n",
    "indep_train_axis = np.array(range(config.batch_size, \n",
    "    (len(train_losses)+1)*config.batch_size, config.batch_size))\n",
    "plt.plot(indep_train_axis, np.array(train_losses), \"b--\", label=\"Train losses\")\n",
    "plt.plot(indep_train_axis, np.array(train_accuracies), \"g--\", label=\"Train accuracies\")\n",
    "\n",
    "indep_test_axis = np.append(np.array(range(config.batch_size, \n",
    "    len(test_losses)*config.display_iter, config.display_iter)[:-1]), \n",
    "    [config.training_epochs])\n",
    "\n",
    "plt.plot(indep_test_axis, np.array(test_losses), \"b-\", label=\"Test losses\")\n",
    "plt.plot(indep_test_axis, np.array(test_accuracies), \"g-\", label=\"Test accuracies\")\n",
    "\n",
    "plt.title(\"Training session's progress over iterations\")\n",
    "plt.legend(loc='upper right', shadow=False)\n",
    "plt.ylabel('Training Progress (Loss or Accuracy values)')\n",
    "plt.xlabel('Training iteration')\n",
    "plt.savefig('result/lstm_loss_accuracy.png')\n",
    "plt.figure()\n",
    "plt.show()"
   ]
  },
  {
   "cell_type": "markdown",
   "metadata": {},
   "source": [
    "# multi-class confusion matrix and metrics plot"
   ]
  },
  {
   "cell_type": "code",
   "execution_count": 12,
   "metadata": {
    "scrolled": false
   },
   "outputs": [
    {
     "name": "stdout",
     "output_type": "stream",
     "text": [
      "Testing Accuracy: 99.8174130917%\n",
      "\n",
      "Precision: 99.6983959179%\n",
      "Recall: 99.8175%\n",
      "f1_score: 99.7560269173%\n",
      "\n",
      "Confusion Matrix:\n"
     ]
    },
    {
     "name": "stderr",
     "output_type": "stream",
     "text": [
      "/usr/local/lib/python2.7/dist-packages/sklearn/metrics/classification.py:1113: UndefinedMetricWarning: Precision is ill-defined and being set to 0.0 in labels with no predicted samples.\n",
      "  'precision', 'predicted', average, warn_for)\n",
      "/usr/local/lib/python2.7/dist-packages/sklearn/metrics/classification.py:1113: UndefinedMetricWarning: F-score is ill-defined and being set to 0.0 in labels with no predicted samples.\n",
      "  'precision', 'predicted', average, warn_for)\n"
     ]
    },
    {
     "name": "stdout",
     "output_type": "stream",
     "text": [
      "[[  279     0     0     0     0     0     0     0     0     0     0     0\n",
      "      0]\n",
      " [    0  1475     0     0     0     0     0     0     0     0     0     0\n",
      "      0]\n",
      " [    0     0  5774     0     0     0     0     0     0     0     0     0\n",
      "      0]\n",
      " [    0     0     7     0     9     0     0     0     0     0     0     0\n",
      "      0]\n",
      " [    0     0     0     0   248     0     0     0     0     0     0     0\n",
      "      0]\n",
      " [    0     0     0     0     0 29818     0     0     0     0     0     0\n",
      "      0]\n",
      " [    0     0     0     0     1     0    62     1     0     0     0     0\n",
      "      0]\n",
      " [    4     0     0     0     0     0     0   460    14     0     0     1\n",
      "      0]\n",
      " [    0     0     0     0     0     0     0     0   207     0     0     0\n",
      "      0]\n",
      " [    0     0     0     0     0     0     0     0     0   383     0     0\n",
      "      0]\n",
      " [    0     0     0     0     0     0     0     0     0     0     0    34\n",
      "      0]\n",
      " [    0     0     0     0     0     0     0     0     0     1     0  1101\n",
      "      0]\n",
      " [    0     0     0     0     0     0     0     0     0     1     0     0\n",
      "    120]]\n",
      "               precision    recall  f1-score   support\n",
      "\n",
      "     security       0.99      1.00      0.99       279\n",
      "       others       1.00      1.00      1.00      1475\n",
      "    processor       1.00      1.00      1.00      5774\n",
      "         disk       0.00      0.00      0.00        16\n",
      "      network       0.96      1.00      0.98       248\n",
      "         file       1.00      1.00      1.00     29818\n",
      "     database       1.00      0.97      0.98        64\n",
      "      service       1.00      0.96      0.98       479\n",
      "       memory       0.94      1.00      0.97       207\n",
      "communication       0.99      1.00      1.00       383\n",
      "       system       0.00      0.00      0.00        34\n",
      "       driver       0.97      1.00      0.98      1102\n",
      "           io       1.00      0.99      1.00       121\n",
      "\n",
      "  avg / total       1.00      1.00      1.00     40000\n",
      "\n"
     ]
    },
    {
     "name": "stderr",
     "output_type": "stream",
     "text": [
      "/usr/local/lib/python2.7/dist-packages/sklearn/metrics/classification.py:1113: UndefinedMetricWarning: Precision and F-score are ill-defined and being set to 0.0 in labels with no predicted samples.\n",
      "  'precision', 'predicted', average, warn_for)\n"
     ]
    },
    {
     "data": {
      "image/png": "[encoded data removed]",
      "text/plain": [
       "<matplotlib.figure.Figure at 0x7f14bc4dc7d0>"
      ]
     },
     "metadata": {},
     "output_type": "display_data"
    }
   ],
   "source": [
    "# Results\n",
    "predictions = one_hot_predictions.argmax(1)\n",
    "\n",
    "print(\"Testing Accuracy: {}%\".format(100*accuracy))\n",
    "\n",
    "print(\"\")\n",
    "print(\"Precision: {}%\".format(100*metrics.precision_score(\n",
    "    y_test, predictions, average=\"weighted\")))\n",
    "print(\"Recall: {}%\".format(100*metrics.recall_score(y_test, \n",
    "    predictions, average=\"weighted\")))\n",
    "print(\"f1_score: {}%\".format(100*metrics.f1_score(y_test, \n",
    "    predictions, average=\"weighted\")))\n",
    "\n",
    "print(\"\")\n",
    "print(\"Confusion Matrix:\")\n",
    "confusion_matrix = metrics.confusion_matrix(y_test, predictions)\n",
    "print(confusion_matrix)\n",
    "\n",
    "# Plot: \n",
    "## cmap can be changed to many colors, (colormaps.Oranges,OrRd, etc)\n",
    "def plot_CM(cm, title=\"Normalized Confusion Matrix\", cmap=plt.cm.Greens):\n",
    "    plt.imshow(cm, interpolation='nearest', cmap=cmap)\n",
    "    plt.title(title)\n",
    "    plt.colorbar()\n",
    "    tick_marks = np.arange(len(labels))\n",
    "    plt.xticks(tick_marks, labels.values(), rotation=90)\n",
    "    plt.yticks(tick_marks, labels.values())\n",
    "    plt.tight_layout()\n",
    "    plt.ylabel(\"True label\")\n",
    "    plt.xlabel(\"Predicted label\")\n",
    "    plt.show()\n",
    "    \n",
    "print(metrics.classification_report(\n",
    "    y_test, predictions, target_names = list(labels.values())))\n",
    "\n",
    "cm = confusion_matrix\n",
    "\n",
    "cm_normalized = cm.astype('float') / cm.sum(axis=1)[:,np.newaxis]\n",
    "plt.figure()\n",
    "plot_CM(cm_normalized)"
   ]
  },
  {
   "cell_type": "code",
   "execution_count": null,
   "metadata": {
    "collapsed": true
   },
   "outputs": [],
   "source": []
  }
 ],
 "metadata": {
  "kernelspec": {
   "display_name": "Python 2",
   "language": "python",
   "name": "python2"
  },
  "language_info": {
   "codemirror_mode": {
    "name": "ipython",
    "version": 2
   },
   "file_extension": ".py",
   "mimetype": "text/x-python",
   "name": "python",
   "nbconvert_exporter": "python",
   "pygments_lexer": "ipython2",
   "version": "2.7.12"
  }
 },
 "nbformat": 4,
 "nbformat_minor": 2
}
