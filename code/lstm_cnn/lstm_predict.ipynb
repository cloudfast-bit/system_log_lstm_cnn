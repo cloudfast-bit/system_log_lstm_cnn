{
 "cells": [
  {
   "cell_type": "code",
   "execution_count": 1,
   "metadata": {},
   "outputs": [
    {
     "name": "stderr",
     "output_type": "stream",
     "text": [
      "/usr/local/lib/python2.7/dist-packages/sklearn/cross_validation.py:44: DeprecationWarning: This module was deprecated in version 0.18 in favor of the model_selection module into which all the refactored classes and functions are moved. Also note that the interface of the new CV iterators are different from that of this module. This module will be removed in 0.20.\n",
      "  \"This module will be removed in 0.20.\", DeprecationWarning)\n"
     ]
    }
   ],
   "source": [
    "import os\n",
    "import numpy as np\n",
    "import tensorflow as tf\n",
    "import matplotlib\n",
    "import matplotlib.pyplot as plt\n",
    "from sklearn import metrics, cross_validation"
   ]
  },
  {
   "cell_type": "markdown",
   "metadata": {},
   "source": [
    "# run enviroment"
   ]
  },
  {
   "cell_type": "code",
   "execution_count": 2,
   "metadata": {
    "collapsed": true
   },
   "outputs": [],
   "source": [
    "os.environ[\"CUDA_VISIBLE_DEVICES\"] = \"1\"\n",
    "gpu_options = tf.GPUOptions(per_process_gpu_memory_fraction = 0.4)\n",
    "sess_config = tf.ConfigProto(gpu_options=gpu_options)"
   ]
  },
  {
   "cell_type": "markdown",
   "metadata": {},
   "source": [
    "# load data"
   ]
  },
  {
   "cell_type": "code",
   "execution_count": 3,
   "metadata": {
    "collapsed": true
   },
   "outputs": [],
   "source": [
    "# Load \"X\" (the neural network's training and testing inputs)\n",
    "def load_X(X_path):\n",
    "    X_list = []\n",
    "    file = open(X_path, 'r')\n",
    "    # Read dataset from disk, dealing with text files' syntax\n",
    "    X_signal = [np.array(item, dtype=np.float32) for item in [\n",
    "               line.strip().split('\\t') for line in file]]\n",
    "    X_list.append(X_signal)\n",
    "    file.close()\n",
    "    return np.transpose(np.array(X_list), (1, 2, 0))\n",
    "\n",
    "\n",
    "# Load \"y\" (the neural network's training and testing outputs)\n",
    "def load_y(y_path):\n",
    "    file = open(y_path, 'r')\n",
    "    # Read dataset from disk, dealing with text file's syntax\n",
    "    y_ = np.array([elem for elem in [line.strip().split('\\t') for line in file]], \n",
    "                  dtype=np.int32)\n",
    "    file.close()\n",
    "    # Substract 1 to each output class for friendly 0-based indexing\n",
    "    return y_"
   ]
  },
  {
   "cell_type": "code",
   "execution_count": 4,
   "metadata": {},
   "outputs": [
    {
     "name": "stdout",
     "output_type": "stream",
     "text": [
      "Separating data into 80% training set & 20% test set...\n",
      "Dataset separated.\n",
      "\n"
     ]
    }
   ],
   "source": [
    "labels = {'0':'file', '1':'network', '2':'service', '3':'database', '4':'communication', '5':'memory', '6':'driver', \n",
    "    '7':'system', '8':'application', '9':'io', '10':'others', '11':'security', '12':'disk', '13':'processor'}\n",
    "\n",
    "dataset_path = \"data_msg_type/\"\n",
    "X_path = dataset_path + \"x.txt\"\n",
    "y_path = dataset_path + \"y.txt\"\n",
    "\n",
    "X = load_X(X_path)\n",
    "y = load_y(y_path)\n",
    "\n",
    "# Separate our training data into test and training.\n",
    "print(\"Separating data into 80% training set & 20% test set...\")\n",
    "X_train, X_test, y_train, y_test = cross_validation.train_test_split(\n",
    "    X, y, test_size=0.2, random_state=33)#add random state here...\n",
    "print(\"Dataset separated.\\n\")"
   ]
  },
  {
   "cell_type": "markdown",
   "metadata": {},
   "source": [
    "# param config"
   ]
  },
  {
   "cell_type": "code",
   "execution_count": 5,
   "metadata": {},
   "outputs": [
    {
     "name": "stdout",
     "output_type": "stream",
     "text": [
      "test features shape, labels shape, each features mean, each features standard deviation\n",
      "((40000, 14, 1), (40000, 1), 0.11178214, 0.41461828)\n",
      "the dataset is properly normalised, as expected.\n"
     ]
    }
   ],
   "source": [
    "class Config(object):\n",
    "    \"\"\"\n",
    "    A class to store parameters, the input should be feature mat of training and testing\n",
    "    Note: it would be more interesting to use a HyperOpt search space:\n",
    "    https://github.com/hyperopt/hyperopt\n",
    "    \"\"\"\n",
    "    def __init__(self, X_train, X_test):\n",
    "        # Input data\n",
    "        self.train_count = len(X_train)  # 200,000 training series\n",
    "        self.test_data_count = len(X_test)  # 40,000 testing series\n",
    "        self.n_steps = len(X_train[0])  # 14 time_steps (features) per series\n",
    "\n",
    "        # Training\n",
    "        self.learning_rate = 0.0025\n",
    "        self.lambda_loss_amount = 0.0015\n",
    "        self.training_epochs = self.train_count * 100\n",
    "        self.batch_size = 1024\n",
    "        self.display_iter = 10000  # To show test set accuracy during training\n",
    "\n",
    "        # LSTM structure\n",
    "        # Features count is of 1 (1*3D sensors features over time)\n",
    "        self.n_inputs = len(X_train[0][0]) # 1\n",
    "        self.n_hidden = 128  # nb of neurons inside the neural network\n",
    "        self.n_classes = 14  # Final output classes\n",
    "        \n",
    "        self.W = {\n",
    "            'hidden': tf.Variable(tf.random_normal([self.n_inputs, self.n_hidden])),\n",
    "            'output': tf.Variable(tf.random_normal([self.n_hidden, self.n_classes]))}\n",
    "        self.biases = {\n",
    "            'hidden': tf.Variable(tf.random_normal([self.n_hidden], mean=1.0)),\n",
    "            'output': tf.Variable(tf.random_normal([self.n_classes]))}\n",
    "        \n",
    "config = Config(X_train, X_test)\n",
    "print(\"test features shape, labels shape, each features mean, each features standard deviation\")\n",
    "print(X_test.shape, y_test.shape,\n",
    "      np.mean(X_test), np.std(X_test))\n",
    "print(\"the dataset is properly normalised, as expected.\")"
   ]
  },
  {
   "cell_type": "markdown",
   "metadata": {},
   "source": [
    "# lstm network"
   ]
  },
  {
   "cell_type": "code",
   "execution_count": 6,
   "metadata": {
    "collapsed": true
   },
   "outputs": [],
   "source": [
    "def LSTM_Network(_X, config):\n",
    "    \"\"\"\n",
    "    Two LSTM cells are stacked which adds deepness to the neural network.\n",
    "    Args:\n",
    "        _X: ndarray feature matrix, shape: [batch_size, time_steps, n_inputs]\n",
    "        return: matrix  output shape [batch_size,n_classes]\n",
    "    \"\"\"\n",
    "    # (NOTE: This step could be greatly optimised by shaping the dataset once\n",
    "    # input shape: (batch_size, n_steps, n_input)\n",
    "    _X = tf.transpose(_X, [1, 0, 2])  # permute n_steps and batch_size\n",
    "    # Reshape to prepare input to hidden activation\n",
    "    _X = tf.reshape(_X, [-1, config.n_inputs])\n",
    "    # new shape: (n_steps*batch_size, n_input)\n",
    "\n",
    "    # Linear activation\n",
    "    _X = tf.nn.relu(tf.matmul(_X, config.W['hidden']) + config.biases['hidden'])\n",
    "    # Split data because rnn cell needs a list of inputs for the RNN inner loop\n",
    "    _X = tf.split(_X, config.n_steps, 0)\n",
    "    # new shape: n_steps * (batch_size, n_hidden)\n",
    "\n",
    "    # Define two stacked LSTM cells (two recurrent layers deep) with tensorflow\n",
    "    lstm_cell_1 = tf.contrib.rnn.BasicLSTMCell(config.n_hidden, forget_bias=1.0, \n",
    "                  state_is_tuple=True)\n",
    "    lstm_cell_2 = tf.contrib.rnn.BasicLSTMCell(config.n_hidden, forget_bias=1.0, \n",
    "                  state_is_tuple=True)\n",
    "    lstm_cells = tf.contrib.rnn.MultiRNNCell([lstm_cell_1, lstm_cell_2], \n",
    "                  state_is_tuple=True)\n",
    "    # Get LSTM cell output\n",
    "    outputs, states = tf.contrib.rnn.static_rnn(lstm_cells, _X, dtype=tf.float32)\n",
    "\n",
    "    # Get last time step's output feature for a \"many to one\" style classifier,\n",
    "    # as in the image describing RNNs at the top of this page\n",
    "    lstm_last_output = outputs[-1]\n",
    "\n",
    "    # Linear activation\n",
    "    return tf.matmul(lstm_last_output, config.W['output']) + config.biases['output']"
   ]
  },
  {
   "cell_type": "markdown",
   "metadata": {},
   "source": [
    "# batch extract"
   ]
  },
  {
   "cell_type": "code",
   "execution_count": 7,
   "metadata": {
    "collapsed": true
   },
   "outputs": [],
   "source": [
    "def extract_batch_size(_train, step, batch_size):   \n",
    "    # Function to fetch a \"batch_size\" amount of data from \"(X|y)_train\" data.    \n",
    "    shape = list(_train.shape)\n",
    "    shape[0] = batch_size\n",
    "    batch_s = np.empty(shape)\n",
    "\n",
    "    for i in range(batch_size):\n",
    "        # Loop index\n",
    "        index = ((step-1)*batch_size + i) % len(_train)\n",
    "        batch_s[i] = _train[index] \n",
    "\n",
    "    return batch_s"
   ]
  },
  {
   "cell_type": "markdown",
   "metadata": {},
   "source": [
    "# one hot"
   ]
  },
  {
   "cell_type": "code",
   "execution_count": 8,
   "metadata": {
    "collapsed": true
   },
   "outputs": [],
   "source": [
    "def one_hot(y_):\n",
    "    \"\"\"\n",
    "    Function to encode output labels from number indexes.\n",
    "    E.g.: [[5], [0], [3]] --> [[0, 0, 0, 0, 0, 1], [1, 0, 0, 0, 0, 0], [0, 0, 0, 1, 0, 0]]\n",
    "    \"\"\"\n",
    "    y_ = y_.reshape(len(y_))\n",
    "    #n_values = int(np.max(y_)) + 1\n",
    "    n_values = config.n_classes\n",
    "    return np.eye(n_values)[np.array(y_, dtype=np.int32)]  # Returns FLOATS"
   ]
  },
  {
   "cell_type": "markdown",
   "metadata": {},
   "source": [
    "# build the neural network"
   ]
  },
  {
   "cell_type": "code",
   "execution_count": 9,
   "metadata": {
    "collapsed": true
   },
   "outputs": [],
   "source": [
    "x = tf.placeholder(tf.float32, [None, config.n_steps, config.n_inputs])\n",
    "y = tf.placeholder(tf.float32, [None, config.n_classes])\n",
    "\n",
    "pred_y = LSTM_Network(x, config)\n",
    "\n",
    "# Loss,optimizer,evaluation\n",
    "l2 = config.lambda_loss_amount * \\\n",
    "    sum(tf.nn.l2_loss(tf_var) for tf_var in tf.trainable_variables())\n",
    "# Softmax loss and L2\n",
    "cost = tf.reduce_mean(\n",
    "    tf.nn.softmax_cross_entropy_with_logits(labels=y, logits=pred_y)) + l2\n",
    "optimizer = tf.train.AdamOptimizer(\n",
    "    learning_rate=config.learning_rate).minimize(cost)\n",
    "\n",
    "correct_pred = tf.equal(tf.argmax(pred_y, 1), tf.argmax(y, 1))\n",
    "accuracy = tf.reduce_mean(tf.cast(correct_pred, dtype=tf.float32))"
   ]
  },
  {
   "cell_type": "markdown",
   "metadata": {},
   "source": [
    "# train the neural network"
   ]
  },
  {
   "cell_type": "code",
   "execution_count": 10,
   "metadata": {
    "scrolled": true
   },
   "outputs": [
    {
     "name": "stdout",
     "output_type": "stream",
     "text": [
      "Training epochs #1024:   Batch Loss = 3.943049, Accuracy = 0.7548828125\n",
      "Performance on test set: Batch Loss = 5.98480987549, Accuracy = 0.74544942379\n",
      "Training epochs #640000:   Batch Loss = 0.812612, Accuracy = 0.994140625\n",
      "Performance on test set: Batch Loss = 0.82048368454, Accuracy = 0.991124153137\n",
      "Training epochs #1280000:   Batch Loss = 0.479876, Accuracy = 0.998046875\n",
      "Performance on test set: Batch Loss = 0.48402222991, Accuracy = 0.995849192142\n",
      "Training epochs #1920000:   Batch Loss = 0.430759, Accuracy = 0.9951171875\n",
      "Performance on test set: Batch Loss = 0.436577707529, Accuracy = 0.995349168777\n",
      "Training epochs #2560000:   Batch Loss = 0.343900, Accuracy = 0.998046875\n",
      "Performance on test set: Batch Loss = 0.349253475666, Accuracy = 0.996624112129\n",
      "Training epochs #3200000:   Batch Loss = 0.813920, Accuracy = 0.94140625\n",
      "Performance on test set: Batch Loss = 0.8063839674, Accuracy = 0.941724181175\n",
      "Training epochs #3840000:   Batch Loss = 0.557993, Accuracy = 0.9638671875\n",
      "Performance on test set: Batch Loss = 0.559206366539, Accuracy = 0.962124109268\n",
      "Training epochs #4480000:   Batch Loss = 0.312247, Accuracy = 0.9951171875\n",
      "Performance on test set: Batch Loss = 0.317581802607, Accuracy = 0.991649150848\n",
      "Training epochs #5120000:   Batch Loss = 0.401846, Accuracy = 0.96875\n",
      "Performance on test set: Batch Loss = 0.401696950197, Accuracy = 0.969424128532\n",
      "Training epochs #5760000:   Batch Loss = 0.332583, Accuracy = 0.98828125\n",
      "Performance on test set: Batch Loss = 0.334450721741, Accuracy = 0.989199221134\n",
      "Training epochs #6400000:   Batch Loss = 0.424680, Accuracy = 0.9873046875\n",
      "Performance on test set: Batch Loss = 0.42370903492, Accuracy = 0.987649083138\n",
      "Training epochs #7040000:   Batch Loss = 0.178590, Accuracy = 0.9970703125\n",
      "Performance on test set: Batch Loss = 0.181513369083, Accuracy = 0.996824085712\n",
      "Training epochs #7680000:   Batch Loss = 0.129932, Accuracy = 0.9970703125\n",
      "Performance on test set: Batch Loss = 0.132300212979, Accuracy = 0.997998952866\n",
      "Training epochs #8320000:   Batch Loss = 0.140748, Accuracy = 1.0\n",
      "Performance on test set: Batch Loss = 0.14454972744, Accuracy = 0.997699081898\n",
      "Training epochs #8960000:   Batch Loss = 0.288896, Accuracy = 0.9931640625\n",
      "Performance on test set: Batch Loss = 0.28949791193, Accuracy = 0.993124067783\n",
      "Training epochs #9600000:   Batch Loss = 0.200467, Accuracy = 0.9951171875\n",
      "Performance on test set: Batch Loss = 0.2029825598, Accuracy = 0.995299041271\n",
      "Training epochs #10240000:   Batch Loss = 0.226801, Accuracy = 0.9951171875\n",
      "Performance on test set: Batch Loss = 0.231090947986, Accuracy = 0.995824038982\n",
      "Training epochs #10880000:   Batch Loss = 0.121520, Accuracy = 1.0\n",
      "Performance on test set: Batch Loss = 0.124218836427, Accuracy = 0.998374044895\n",
      "Training epochs #11520000:   Batch Loss = 0.088934, Accuracy = 1.0\n",
      "Performance on test set: Batch Loss = 0.0923248529434, Accuracy = 0.998649060726\n",
      "Training epochs #12160000:   Batch Loss = 0.267817, Accuracy = 0.99609375\n",
      "Performance on test set: Batch Loss = 0.277080893517, Accuracy = 0.99417412281\n",
      "Training epochs #12800000:   Batch Loss = 0.116158, Accuracy = 1.0\n",
      "Performance on test set: Batch Loss = 0.118953794241, Accuracy = 0.997198998928\n",
      "Training epochs #13440000:   Batch Loss = 0.101370, Accuracy = 1.0\n",
      "Performance on test set: Batch Loss = 0.104371115565, Accuracy = 0.998199105263\n",
      "Training epochs #14080000:   Batch Loss = 0.137892, Accuracy = 1.0\n",
      "Performance on test set: Batch Loss = 0.142253682017, Accuracy = 0.997349023819\n",
      "Training epochs #14720000:   Batch Loss = 0.183808, Accuracy = 0.99609375\n",
      "Performance on test set: Batch Loss = 0.19290342927, Accuracy = 0.992549002171\n",
      "Training epochs #15360000:   Batch Loss = 0.111643, Accuracy = 0.9970703125\n",
      "Performance on test set: Batch Loss = 0.117959797382, Accuracy = 0.994224131107\n",
      "Training epochs #16000000:   Batch Loss = 0.141191, Accuracy = 0.998046875\n",
      "Performance on test set: Batch Loss = 0.145438179374, Accuracy = 0.997249126434\n",
      "Optimization Finished!\n",
      "Final result: Batch Loss = 0.145438164473, Accuracy = 0.997249007225\n"
     ]
    }
   ],
   "source": [
    "# tracking training performance\n",
    "test_losses = []\n",
    "test_accuracies = []\n",
    "train_losses = []\n",
    "train_accuracies = []\n",
    "\n",
    "# Launch the graph\n",
    "# Note that log_device_placement can be turned ON but will cause console spam with RNNs.\n",
    "sess = tf.InteractiveSession(config=sess_config)\n",
    "init = tf.global_variables_initializer()\n",
    "sess.run(init)\n",
    "\n",
    "# Perform Training steps with \"batch_size\" amount of example data at each loop\n",
    "step = 1\n",
    "while step * config.batch_size <= config.training_epochs:\n",
    "    batch_xs = extract_batch_size(X_train, step, config.batch_size)\n",
    "    batch_ys = one_hot(extract_batch_size(y_train, step, config.batch_size))\n",
    "\n",
    "    # Fit training using batch data\n",
    "    _, loss, acc = sess.run([optimizer, cost, accuracy],\n",
    "        feed_dict={x: batch_xs, y: batch_ys})\n",
    "\n",
    "    train_losses.append(loss)\n",
    "    train_accuracies.append(acc)  \n",
    "\n",
    "    # Evaluate network only at some steps for faster training: \n",
    "    if (step*config.batch_size % config.display_iter == 0) or (step == 1) \\\n",
    "        or (step * config.batch_size > config.training_epochs):\n",
    "\n",
    "        # To not spam console, show training accuracy/loss in this \"if\"\n",
    "        print(\"Training epochs #\" + str(step*config.batch_size) + \\\n",
    "          \":   Batch Loss = \" + \"{:.6f}\".format(loss) + \\\n",
    "          \", Accuracy = {}\".format(acc))\n",
    "\n",
    "        # Evaluation on the test set (no learning made here - just evaluation for diagnosis)\n",
    "        loss, acc = sess.run([cost, accuracy], feed_dict={x: X_test, y: one_hot(y_test)})\n",
    "\n",
    "        test_losses.append(loss)\n",
    "        test_accuracies.append(acc)\n",
    "\n",
    "        print(\"Performance on test set: \" + \"Batch Loss = {}\".format(loss) + \\\n",
    "            \", Accuracy = {}\".format(acc))\n",
    "    step += 1\n",
    "\n",
    "print(\"Optimization Finished!\")\n",
    "\n",
    "# Accuracy for test data\n",
    "one_hot_predictions, accuracy, final_loss = sess.run([pred_y, accuracy, cost],\n",
    "    feed_dict={x: X_test, y: one_hot(y_test)})\n",
    "\n",
    "test_losses.append(final_loss)\n",
    "test_accuracies.append(accuracy)\n",
    "\n",
    "print(\"Final result: \" + \"Batch Loss = {}\".format(final_loss) + \\\n",
    "    \", Accuracy = {}\".format(accuracy))"
   ]
  },
  {
   "cell_type": "markdown",
   "metadata": {},
   "source": [
    "# performance visualization"
   ]
  },
  {
   "cell_type": "code",
   "execution_count": 36,
   "metadata": {
    "scrolled": false
   },
   "outputs": [
    {
     "data": {
      "image/png": "[encoded data removed]",
      "text/plain": [
       "<matplotlib.figure.Figure at 0x7f5a88706990>"
      ]
     },
     "metadata": {},
     "output_type": "display_data"
    },
    {
     "data": {
      "text/plain": [
       "<matplotlib.figure.Figure at 0x7f5a881b0a90>"
      ]
     },
     "metadata": {},
     "output_type": "display_data"
    }
   ],
   "source": [
    "#font = {'family': 'Bitstream Vera Sans', 'weight': 'bold', 'size': 12}\n",
    "\n",
    "#matplotlib.rc('font', **font)\n",
    "\n",
    "#width = 12\n",
    "#height = 12\n",
    "#plt.figure(figsize=(width, height))\n",
    "\n",
    "indep_train_axis = np.array(range(config.batch_size, \n",
    "    (len(train_losses)+1)*config.batch_size, config.batch_size))\n",
    "plt.plot(indep_train_axis, np.array(train_losses), \"b--\", label=\"Train losses\")\n",
    "plt.plot(indep_train_axis, np.array(train_accuracies), \"g--\", label=\"Train accuracies\")\n",
    "\n",
    "indep_test_axis = np.append(np.array(range(config.batch_size, \n",
    "    len(test_losses)*config.display_iter, config.display_iter)[:-1]), \n",
    "    [config.training_epochs])\n",
    "\n",
    "plt.plot(indep_test_axis, np.array(test_losses), \"b-\", label=\"Test losses\")\n",
    "plt.plot(indep_test_axis, np.array(test_accuracies), \"g-\", label=\"Test accuracies\")\n",
    "\n",
    "plt.title(\"Training session's progress over iterations\")\n",
    "plt.legend(loc='upper right', shadow=False)\n",
    "plt.ylabel('Training Progress (Loss or Accuracy values)')\n",
    "plt.xlabel('Training iteration')\n",
    "plt.savefig('result/lstm_loss_accuracy.png')\n",
    "plt.figure()\n",
    "plt.show()"
   ]
  },
  {
   "cell_type": "markdown",
   "metadata": {},
   "source": [
    "# multi-class confusion matrix and metrics plot"
   ]
  },
  {
   "cell_type": "code",
   "execution_count": 37,
   "metadata": {
    "scrolled": false
   },
   "outputs": [
    {
     "name": "stdout",
     "output_type": "stream",
     "text": [
      "Testing Accuracy: 99.7249007225%\n",
      "\n",
      "Precision: 99.6138976224%\n",
      "Recall: 99.725%\n",
      "f1_score: 99.6598314459%\n",
      "\n",
      "Confusion Matrix:\n",
      "[[  270     0     0     0     8     0     0     0     0     0     0     0\n",
      "      1]\n",
      " [    0  1475     0     0     0     0     0     0     0     0     0     0\n",
      "      0]\n",
      " [    0     0  5774     0     0     0     0     0     0     0     0     0\n",
      "      0]\n",
      " [    0     0     7     0     8     0     0     0     1     0     0     0\n",
      "      0]\n",
      " [    0     0     0     0   244     0     0     0     4     0     0     0\n",
      "      0]\n",
      " [    0     0     0     0     0 29818     0     0     0     0     0     0\n",
      "      0]\n",
      " [    1     0     0     0     1    20    42     0     0     0     0     0\n",
      "      0]\n",
      " [    8     0     0     0     0     0     0   456    14     0     0     1\n",
      "      0]\n",
      " [    0     0     0     0     0     0     0     0   207     0     0     0\n",
      "      0]\n",
      " [    0     0     0     0     0     0     0     0     0   383     0     0\n",
      "      0]\n",
      " [    0     0     0     0     0     0     0     0     0    34     0     0\n",
      "      0]\n",
      " [    0     0     0     0     0     0     0     0     0     1     0  1101\n",
      "      0]\n",
      " [    0     0     0     0     0     0     0     0     0     1     0     0\n",
      "    120]]\n",
      "               precision    recall  f1-score   support\n",
      "\n",
      "     security       0.97      0.97      0.97       279\n",
      "       others       1.00      1.00      1.00      1475\n",
      "    processor       1.00      1.00      1.00      5774\n",
      "         disk       0.00      0.00      0.00        16\n",
      "      network       0.93      0.98      0.96       248\n",
      "         file       1.00      1.00      1.00     29818\n",
      "     database       1.00      0.66      0.79        64\n",
      "      service       1.00      0.95      0.98       479\n",
      "       memory       0.92      1.00      0.96       207\n",
      "communication       0.91      1.00      0.96       383\n",
      "       system       0.00      0.00      0.00        34\n",
      "       driver       1.00      1.00      1.00      1102\n",
      "           io       0.99      0.99      0.99       121\n",
      "\n",
      "  avg / total       1.00      1.00      1.00     40000\n",
      "\n"
     ]
    },
    {
     "data": {
      "image/png": "[encoded data removed]",
      "text/plain": [
       "<matplotlib.figure.Figure at 0x7f5b046af5d0>"
      ]
     },
     "metadata": {},
     "output_type": "display_data"
    }
   ],
   "source": [
    "# Results\n",
    "predictions = one_hot_predictions.argmax(1)\n",
    "\n",
    "print(\"Testing Accuracy: {}%\".format(100*accuracy))\n",
    "\n",
    "print(\"\")\n",
    "print(\"Precision: {}%\".format(100*metrics.precision_score(\n",
    "    y_test, predictions, average=\"weighted\")))\n",
    "print(\"Recall: {}%\".format(100*metrics.recall_score(y_test, \n",
    "    predictions, average=\"weighted\")))\n",
    "print(\"f1_score: {}%\".format(100*metrics.f1_score(y_test, \n",
    "    predictions, average=\"weighted\")))\n",
    "\n",
    "print(\"\")\n",
    "print(\"Confusion Matrix:\")\n",
    "confusion_matrix = metrics.confusion_matrix(y_test, predictions)\n",
    "print(confusion_matrix)\n",
    "\n",
    "# Plot: \n",
    "## cmap can be changed to many colors, (colormaps.Oranges,OrRd, etc)\n",
    "def plot_CM(cm, title=\"Normalized Confusion Matrix\", cmap=plt.cm.Greens):\n",
    "    plt.imshow(cm, interpolation='nearest', cmap=cmap)\n",
    "    plt.title(title)\n",
    "    plt.colorbar()\n",
    "    tick_marks = np.arange(len(labels))\n",
    "    plt.xticks(tick_marks, labels.values(), rotation=90)\n",
    "    plt.yticks(tick_marks, labels.values())\n",
    "    plt.tight_layout()\n",
    "    plt.ylabel(\"True label\")\n",
    "    plt.xlabel(\"Predicted label\")\n",
    "    plt.show()\n",
    "    \n",
    "print(metrics.classification_report(\n",
    "    y_test, predictions, target_names = list(labels.values())))\n",
    "\n",
    "cm = confusion_matrix\n",
    "\n",
    "cm_normalized = cm.astype('float') / cm.sum(axis=1)[:,np.newaxis]\n",
    "plt.figure()\n",
    "plot_CM(cm_normalized)"
   ]
  }
 ],
 "metadata": {
  "kernelspec": {
   "display_name": "Python 2",
   "language": "python",
   "name": "python2"
  },
  "language_info": {
   "codemirror_mode": {
    "name": "ipython",
    "version": 2
   },
   "file_extension": ".py",
   "mimetype": "text/x-python",
   "name": "python",
   "nbconvert_exporter": "python",
   "pygments_lexer": "ipython2",
   "version": "2.7.12"
  }
 },
 "nbformat": 4,
 "nbformat_minor": 2
}
