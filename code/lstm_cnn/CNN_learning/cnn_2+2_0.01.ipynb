{
 "cells": [
  {
   "cell_type": "code",
   "execution_count": 1,
   "metadata": {},
   "outputs": [
    {
     "name": "stderr",
     "output_type": "stream",
     "text": [
      "/usr/local/lib/python2.7/dist-packages/sklearn/cross_validation.py:44: DeprecationWarning: This module was deprecated in version 0.18 in favor of the model_selection module into which all the refactored classes and functions are moved. Also note that the interface of the new CV iterators are different from that of this module. This module will be removed in 0.20.\n",
      "  \"This module will be removed in 0.20.\", DeprecationWarning)\n"
     ]
    }
   ],
   "source": [
    "import os\n",
    "import numpy as np\n",
    "import matplotlib.pyplot as plt\n",
    "from sklearn import cross_validation, metrics\n",
    "import tensorflow as tf"
   ]
  },
  {
   "cell_type": "markdown",
   "metadata": {},
   "source": [
    "# run environment"
   ]
  },
  {
   "cell_type": "code",
   "execution_count": 2,
   "metadata": {
    "collapsed": true
   },
   "outputs": [],
   "source": [
    "os.environ[\"CUDA_VISIBLE_DEVICES\"] = \"1\"\n",
    "gpu_options = tf.GPUOptions(per_process_gpu_memory_fraction = 0.4)\n",
    "sess_config = tf.ConfigProto(gpu_options=gpu_options)"
   ]
  },
  {
   "cell_type": "markdown",
   "metadata": {},
   "source": [
    "# label"
   ]
  },
  {
   "cell_type": "code",
   "execution_count": 3,
   "metadata": {
    "collapsed": true
   },
   "outputs": [],
   "source": [
    "labels = {'0':'file', '1':'network', '2':'service', '3':'database', '4':'communication', '5':'memory', '6':'driver', \n",
    "    '7':'system', '8':'application', '9':'io', '10':'others', '11':'security', '12':'disk', '13':'processor'}\n",
    "\n",
    "fault_label = {'0':'file', '1':'network', '2':'service', '3':'database', '4':'communication', '5':'memory', '6':'driver', \n",
    "    '7':'system','9':'io', '10':'others', '11':'security', '12':'disk', '13':'processor'}"
   ]
  },
  {
   "cell_type": "markdown",
   "metadata": {},
   "source": [
    "# load data"
   ]
  },
  {
   "cell_type": "code",
   "execution_count": 4,
   "metadata": {},
   "outputs": [
    {
     "name": "stdout",
     "output_type": "stream",
     "text": [
      "Dataset separated.\n",
      "\n",
      "((80000, 10, 14, 1), (80000, 14), (20000, 10, 14, 1), (20000, 14))\n"
     ]
    }
   ],
   "source": [
    "def one_hot(y):\n",
    "    y = y.reshape(len(y))\n",
    "    n_values = np.max(y) + 1\n",
    "    return np.eye(n_values)[np.array(y, dtype=np.int32)]  # Returns FLOATS\n",
    "\n",
    "\n",
    "def load_X(X_path):\n",
    "    X_list = []\n",
    "    file = open(X_path, 'r')\n",
    "    # Read dataset from disk, dealing with text files' syntax\n",
    "    X_signal = [np.array(item, dtype=np.float32) for item in [\n",
    "               line.strip().split('\\t') for line in file]]\n",
    "    X_list.append(X_signal)\n",
    "    file.close()\n",
    "    return np.transpose(np.array(X_list), (1, 2, 0))\n",
    "\n",
    "\n",
    "# Load \"y\" (the neural network's training and testing outputs)\n",
    "def load_y(y_path):\n",
    "    file = open(y_path, 'r')\n",
    "    # Read dataset from disk, dealing with text file's syntax\n",
    "    y_ = np.array([elem for elem in [line.strip().split('\\t') for line in file]], \n",
    "                  dtype=np.int32)\n",
    "    file.close()\n",
    "    # Substract 1 to each output class for friendly 0-based indexing\n",
    "    return one_hot(y_-1)\n",
    "\n",
    "\n",
    "dataset_path = \"../data_msg_type/\"\n",
    "trainX_path = dataset_path + \"semantic_train_x.txt\"\n",
    "trainY_path = dataset_path + \"semantic_train_y.txt\"\n",
    "testX_path = dataset_path + \"semantic_test_x.txt\"\n",
    "testY_path = dataset_path + \"semantic_test_y.txt\"\n",
    "\n",
    "\n",
    "train_x = load_X(trainX_path)\n",
    "train_y = load_y(trainY_path)\n",
    "test_x = load_X(testX_path)\n",
    "test_y = load_y(testY_path)\n",
    "\n",
    "train_x = train_x.reshape(len(train_x), 10, 14, 1)\n",
    "test_x = test_x.reshape(len(test_x), 10, 14, 1)\n",
    "\n",
    "'''\n",
    "# Separate our training data into test and training.\n",
    "print(\"Separating data into 80% training set & 20% test set...\")\n",
    "train_x, test_x, train_y, test_y = cross_validation.train_test_split(\n",
    "    x, y, test_size=0.2, random_state=33)#add random state here...\n",
    "'''\n",
    "\n",
    "print(\"Dataset separated.\\n\")\n",
    "print(train_x.shape, train_y.shape, test_x.shape, test_y.shape)"
   ]
  },
  {
   "cell_type": "markdown",
   "metadata": {},
   "source": [
    "# define parameters"
   ]
  },
  {
   "cell_type": "code",
   "execution_count": 6,
   "metadata": {
    "collapsed": true
   },
   "outputs": [],
   "source": [
    "learning_rate = 0.01\n",
    "training_iters = 800000\n",
    "batch_size = 1000\n",
    "display_step = 20000\n",
    "\n",
    "# Network Parameters\n",
    "input_height = 10\n",
    "input_width = 14\n",
    "num_channels = 1\n",
    "n_classes = 14\n",
    "dropout = 0.75 # Dropout, probability to keep units"
   ]
  },
  {
   "cell_type": "markdown",
   "metadata": {},
   "source": [
    "# network config"
   ]
  },
  {
   "cell_type": "code",
   "execution_count": 7,
   "metadata": {
    "collapsed": true
   },
   "outputs": [],
   "source": [
    "# Create some wrappers for simplicity\n",
    "def conv2d(x, W, b, strides=1):\n",
    "    # Conv2D wrapper, with bias and relu activation\n",
    "    x = tf.nn.conv2d(x, W, strides=[1, strides, strides, 1], padding='SAME')\n",
    "    x = tf.nn.bias_add(x, b)\n",
    "    return tf.nn.relu(x)\n",
    "\n",
    "\n",
    "def maxpool2d(x, k=2):\n",
    "    # MaxPool2D wrapper\n",
    "    return tf.nn.max_pool(x, ksize=[1, k, k, 1], strides=[1, k, k, 1], padding='SAME')\n",
    "\n",
    "\n",
    "# Create model\n",
    "def conv_net(x, weights, biases, dropout):\n",
    "    # Reshape input picture\n",
    "    x = tf.reshape(x, shape=[-1, 10, 14, 1])\n",
    "\n",
    "    # Convolution Layer\n",
    "    conv1 = conv2d(x, weights['wc1'], biases['bc1'])\n",
    "    # Max Pooling (down-sampling)\n",
    "    conv1 = maxpool2d(conv1, k=2)\n",
    "    print(conv1.shape)\n",
    "\n",
    "    # Convolution Layer\n",
    "    conv2 = conv2d(conv1, weights['wc2'], biases['bc2'])\n",
    "    # Max Pooling (down-sampling)\n",
    "    conv2 = maxpool2d(conv2, k=2)\n",
    "    print(conv2.shape)\n",
    "\n",
    "    # Reshape conv2 output to fit fully connected layer input\n",
    "    fc1 = tf.reshape(conv2, [-1, weights['wd1'].get_shape().as_list()[0]])\n",
    "    \n",
    "    # Fully connected layer\n",
    "    fc1 = tf.add(tf.matmul(fc1, weights['wd1']), biases['bd1'])\n",
    "    fc1 = tf.nn.relu(fc1)\n",
    "    print(fc1.shape)\n",
    "    \n",
    "    # Apply Dropout\n",
    "    fc1 = tf.nn.dropout(fc1, dropout)\n",
    "\n",
    "    # Output, class prediction\n",
    "    fc2 = tf.add(tf.matmul(fc1, weights['out']), biases['out'])\n",
    "    print(fc2.shape)\n",
    "    return fc2\n",
    "\n",
    "# Store layers weight & bias\n",
    "weights = {\n",
    "    # 3x4 conv, 1 input, 32 outputs\n",
    "    'wc1': tf.Variable(tf.random_normal([3, 4, 1, 32])),\n",
    "    # 3x4 conv, 32 inputs, 64 outputs\n",
    "    'wc2': tf.Variable(tf.random_normal([3, 4, 32, 64])),\n",
    "    # fully connected, 3*4*64 inputs, 1024 outputs\n",
    "    'wd1': tf.Variable(tf.random_normal([3*4*64, 1024])),\n",
    "    # 1024 inputs, 14 outputs (class prediction)\n",
    "    'out': tf.Variable(tf.random_normal([1024, n_classes]))\n",
    "}\n",
    "\n",
    "biases = {\n",
    "    'bc1': tf.Variable(tf.random_normal([32])),\n",
    "    'bc2': tf.Variable(tf.random_normal([64])),\n",
    "    'bd1': tf.Variable(tf.random_normal([1024])),\n",
    "    'out': tf.Variable(tf.random_normal([n_classes]))\n",
    "}"
   ]
  },
  {
   "cell_type": "markdown",
   "metadata": {},
   "source": [
    "# build model"
   ]
  },
  {
   "cell_type": "code",
   "execution_count": 8,
   "metadata": {},
   "outputs": [
    {
     "name": "stdout",
     "output_type": "stream",
     "text": [
      "(?, 5, 7, 32)\n",
      "(?, 3, 4, 64)\n",
      "(?, 1024)\n",
      "(?, 14)\n"
     ]
    }
   ],
   "source": [
    "x = tf.placeholder(tf.float32, [None,input_height,input_width,num_channels])\n",
    "y = tf.placeholder(tf.float32, [None, n_classes])\n",
    "keep_prob = tf.placeholder(tf.float32) #dropout (keep probability)\n",
    "\n",
    "pred = conv_net(x, weights, biases, keep_prob)\n",
    "\n",
    "# Define loss and optimizer\n",
    "cost = tf.reduce_mean(tf.nn.softmax_cross_entropy_with_logits(logits=pred, labels=y))\n",
    "optimizer = tf.train.AdamOptimizer(learning_rate=learning_rate).minimize(cost)\n",
    "\n",
    "# Evaluate model\n",
    "correct_pred = tf.equal(tf.argmax(pred, 1), tf.argmax(y, 1))\n",
    "accuracy = tf.reduce_mean(tf.cast(correct_pred, tf.float32))"
   ]
  },
  {
   "cell_type": "markdown",
   "metadata": {},
   "source": [
    "# train and test"
   ]
  },
  {
   "cell_type": "code",
   "execution_count": 9,
   "metadata": {
    "scrolled": true
   },
   "outputs": [
    {
     "name": "stdout",
     "output_type": "stream",
     "text": [
      "Training epochs #1000: Batch Loss = 24442.134766, Accuracy = 0.0959999933839\n",
      "Performance on test set: Training epochs #1000, Batch Loss = 6943.81884766, Accuracy = 0.288999974728\n",
      "Training epochs #20000: Batch Loss = 5508.133789, Accuracy = 0.165999993682\n",
      "Performance on test set: Training epochs #20000, Batch Loss = 7577.27392578, Accuracy = 0.0100000007078\n",
      "Training epochs #40000: Batch Loss = 258.793823, Accuracy = 0.799999892712\n",
      "Performance on test set: Training epochs #40000, Batch Loss = 181.091110229, Accuracy = 0.943000078201\n",
      "Training epochs #60000: Batch Loss = 97.915009, Accuracy = 0.930000007153\n",
      "Performance on test set: Training epochs #60000, Batch Loss = 98.3348846436, Accuracy = 0.942999958992\n",
      "Training epochs #80000: Batch Loss = 38.843811, Accuracy = 0.939000070095\n",
      "Performance on test set: Training epochs #80000, Batch Loss = 59.1715278625, Accuracy = 0.954999983311\n",
      "Training epochs #100000: Batch Loss = 305.815613, Accuracy = 0.355000019073\n",
      "Performance on test set: Training epochs #100000, Batch Loss = 1069.45068359, Accuracy = 0.169999986887\n",
      "Training epochs #120000: Batch Loss = 45.908752, Accuracy = 0.89099997282\n",
      "Performance on test set: Training epochs #120000, Batch Loss = 40.2314224243, Accuracy = 0.942999958992\n",
      "Training epochs #140000: Batch Loss = 17.082268, Accuracy = 0.932000041008\n",
      "Performance on test set: Training epochs #140000, Batch Loss = 15.2671289444, Accuracy = 0.954999983311\n",
      "Training epochs #160000: Batch Loss = 8.166037, Accuracy = 0.951000034809\n",
      "Performance on test set: Training epochs #160000, Batch Loss = 10.3853178024, Accuracy = 0.955000042915\n",
      "Training epochs #180000: Batch Loss = 66.076279, Accuracy = 0.48299998045\n",
      "Performance on test set: Training epochs #180000, Batch Loss = 303.017791748, Accuracy = 0.169999986887\n",
      "Training epochs #200000: Batch Loss = 3.978520, Accuracy = 0.962000012398\n",
      "Performance on test set: Training epochs #200000, Batch Loss = 6.44195175171, Accuracy = 0.961000025272\n",
      "Training epochs #220000: Batch Loss = 2.114087, Accuracy = 0.95300000906\n",
      "Performance on test set: Training epochs #220000, Batch Loss = 1.2393257618, Accuracy = 0.958000004292\n",
      "Training epochs #240000: Batch Loss = 0.800291, Accuracy = 0.975999951363\n",
      "Performance on test set: Training epochs #240000, Batch Loss = 0.987162590027, Accuracy = 0.97200012207\n",
      "Training epochs #260000: Batch Loss = 26.678741, Accuracy = 0.60799998045\n",
      "Performance on test set: Training epochs #260000, Batch Loss = 53.0406494141, Accuracy = 0.0450000017881\n",
      "Training epochs #280000: Batch Loss = 2.503492, Accuracy = 0.950000047684\n",
      "Performance on test set: Training epochs #280000, Batch Loss = 2.39729189873, Accuracy = 0.955000042915\n",
      "Training epochs #300000: Batch Loss = 1.973356, Accuracy = 0.958000004292\n",
      "Performance on test set: Training epochs #300000, Batch Loss = 1.77823781967, Accuracy = 0.954999983311\n",
      "Training epochs #320000: Batch Loss = 0.561312, Accuracy = 0.983000040054\n",
      "Performance on test set: Training epochs #320000, Batch Loss = 1.02766275406, Accuracy = 0.969000041485\n",
      "Training epochs #340000: Batch Loss = 20.042089, Accuracy = 0.465000003576\n",
      "Performance on test set: Training epochs #340000, Batch Loss = 31.9625434875, Accuracy = 0.0220000017434\n",
      "Training epochs #360000: Batch Loss = 2.135339, Accuracy = 0.958000063896\n",
      "Performance on test set: Training epochs #360000, Batch Loss = 2.19428873062, Accuracy = 0.954999983311\n",
      "Training epochs #380000: Batch Loss = 2.283305, Accuracy = 0.959999978542\n",
      "Performance on test set: Training epochs #380000, Batch Loss = 1.93727827072, Accuracy = 0.969000101089\n",
      "Training epochs #400000: Batch Loss = 0.804812, Accuracy = 0.976000010967\n",
      "Performance on test set: Training epochs #400000, Batch Loss = 1.7436453104, Accuracy = 0.969000101089\n",
      "Training epochs #420000: Batch Loss = 13.151672, Accuracy = 0.463000059128\n",
      "Performance on test set: Training epochs #420000, Batch Loss = 13.5147600174, Accuracy = 0.0219999998808\n",
      "Training epochs #440000: Batch Loss = 1.971386, Accuracy = 0.961000025272\n",
      "Performance on test set: Training epochs #440000, Batch Loss = 1.63653373718, Accuracy = 0.95500010252\n",
      "Training epochs #460000: Batch Loss = 1.366737, Accuracy = 0.958000004292\n",
      "Performance on test set: Training epochs #460000, Batch Loss = 1.01723837852, Accuracy = 0.954999983311\n",
      "Training epochs #480000: Batch Loss = 0.639373, Accuracy = 0.967999994755\n",
      "Performance on test set: Training epochs #480000, Batch Loss = 0.607495963573, Accuracy = 0.955000042915\n",
      "Training epochs #500000: Batch Loss = 19.360666, Accuracy = 0.417999982834\n",
      "Performance on test set: Training epochs #500000, Batch Loss = 50.558971405, Accuracy = 0.0220000017434\n",
      "Training epochs #520000: Batch Loss = 1.655813, Accuracy = 0.960000038147\n",
      "Performance on test set: Training epochs #520000, Batch Loss = 2.60099053383, Accuracy = 0.954999983311\n",
      "Training epochs #540000: Batch Loss = 1.284676, Accuracy = 0.946000099182\n",
      "Performance on test set: Training epochs #540000, Batch Loss = 1.4768280983, Accuracy = 0.955000042915\n",
      "Training epochs #560000: Batch Loss = 0.931042, Accuracy = 0.952000021935\n",
      "Performance on test set: Training epochs #560000, Batch Loss = 1.04729878902, Accuracy = 0.970999956131\n",
      "Training epochs #580000: Batch Loss = 13.507709, Accuracy = 0.45199996233\n",
      "Performance on test set: Training epochs #580000, Batch Loss = 22.4201469421, Accuracy = 0.17199999094\n",
      "Training epochs #600000: Batch Loss = 2.209008, Accuracy = 0.960000038147\n",
      "Performance on test set: Training epochs #600000, Batch Loss = 2.46982622147, Accuracy = 0.954999983311\n",
      "Training epochs #620000: Batch Loss = 1.656011, Accuracy = 0.967000067234\n",
      "Performance on test set: Training epochs #620000, Batch Loss = 1.90142977238, Accuracy = 0.971000015736\n",
      "Training epochs #640000: Batch Loss = 1.235776, Accuracy = 0.976000010967\n",
      "Performance on test set: Training epochs #640000, Batch Loss = 1.62869620323, Accuracy = 0.97000002861\n",
      "Training epochs #660000: Batch Loss = 6.275267, Accuracy = 0.569999992847\n",
      "Performance on test set: Training epochs #660000, Batch Loss = 30.1471176147, Accuracy = 0.0380000025034\n",
      "Training epochs #680000: Batch Loss = 2.133026, Accuracy = 0.964000046253\n",
      "Performance on test set: Training epochs #680000, Batch Loss = 3.17987060547, Accuracy = 0.954999983311\n",
      "Training epochs #700000: Batch Loss = 3.231899, Accuracy = 0.958999991417\n",
      "Performance on test set: Training epochs #700000, Batch Loss = 3.28688621521, Accuracy = 0.954999983311\n",
      "Training epochs #720000: Batch Loss = 1.504941, Accuracy = 0.969000041485\n",
      "Performance on test set: Training epochs #720000, Batch Loss = 2.32164907455, Accuracy = 0.954999983311\n",
      "Training epochs #740000: Batch Loss = 3.949917, Accuracy = 0.707999944687\n",
      "Performance on test set: Training epochs #740000, Batch Loss = 31.5248641968, Accuracy = 0.0520000047982\n",
      "Training epochs #760000: Batch Loss = 1.642335, Accuracy = 0.962000072002\n",
      "Performance on test set: Training epochs #760000, Batch Loss = 2.27797079086, Accuracy = 0.955000042915\n",
      "Training epochs #780000: Batch Loss = 2.586872, Accuracy = 0.958000004292\n",
      "Performance on test set: Training epochs #780000, Batch Loss = 2.87752604485, Accuracy = 0.954999983311\n",
      "Training epochs #800000: Batch Loss = 1.577429, Accuracy = 0.974000036716\n",
      "Performance on test set: Training epochs #800000, Batch Loss = 2.53882217407, Accuracy = 0.955000042915\n",
      "Optimization Finished!\n"
     ]
    }
   ],
   "source": [
    "def extract_batch_size(_train, step, batch_size):   \n",
    "    # Function to fetch a \"batch_size\" amount of data from \"(X|y)_train\" data.    \n",
    "    shape = list(_train.shape)\n",
    "    shape[0] = batch_size\n",
    "    batch_s = np.empty(shape)\n",
    "    for i in range(batch_size):\n",
    "        # Loop index\n",
    "        index = ((step-1)*batch_size + i) % len(_train)\n",
    "        batch_s[i] = _train[index] \n",
    "    return batch_s\n",
    "\n",
    "\n",
    "test_losses = []\n",
    "test_accuracies = []\n",
    "test_predictions = []\n",
    "train_losses = []\n",
    "train_accuracies = []\n",
    "\n",
    "\n",
    "init = tf.global_variables_initializer()\n",
    "with tf.Session(config=sess_config) as sess:\n",
    "    sess.run(init)\n",
    "    \n",
    "    step = 1\n",
    "    # Keep training until reach max iterations\n",
    "    while step * batch_size <= training_iters:\n",
    "        batch_xs = extract_batch_size(train_x, step, batch_size)\n",
    "        batch_ys = extract_batch_size(train_y, step, batch_size)\n",
    "\n",
    "        # Fit training using batch data\n",
    "        _, loss, acc = sess.run([optimizer, cost, accuracy],\n",
    "                       feed_dict={x: batch_xs, y: batch_ys, keep_prob: dropout})\n",
    "\n",
    "        train_losses.append(loss)\n",
    "        train_accuracies.append(acc)  \n",
    "        \n",
    "        \n",
    "        batch_xt = extract_batch_size(test_x, step, batch_size)\n",
    "        batch_yt = extract_batch_size(test_y, step, batch_size)\n",
    "    \n",
    "        # Evaluation on the test set (no learning made here - just evaluation for diagnosis)\n",
    "        test_predict, test_loss, test_acc = sess.run([pred, cost, accuracy], \n",
    "                                            feed_dict={x: batch_xt, y: batch_yt, keep_prob: 1.})\n",
    "        \n",
    "        test_predictions.append(np.argmax(test_predict, axis=1))\n",
    "        test_losses.append(test_loss)\n",
    "        test_accuracies.append(test_acc)\n",
    "\n",
    "        # Evaluate network only at some steps for faster training: \n",
    "        if (step*batch_size % display_step == 0) or (step == 1) \\\n",
    "            or (step * batch_size > training_iters):\n",
    "\n",
    "            print(\"Training epochs #\" + str(step*batch_size) + \\\n",
    "                  \": Batch Loss = \" + \"{:.6f}\".format(loss) + \\\n",
    "                  \", Accuracy = {}\".format(acc))\n",
    "        \n",
    "            print(\"Performance on test set: \" + \"Training epochs #\" + str(step*batch_size) +\\\n",
    "                  \", Batch Loss = {}\".format(test_loss) + \", Accuracy = {}\".format(test_acc))\n",
    "        step += 1\n",
    "\n",
    "    print(\"Optimization Finished!\")"
   ]
  },
  {
   "cell_type": "markdown",
   "metadata": {},
   "source": [
    "# performance visualization"
   ]
  },
  {
   "cell_type": "code",
   "execution_count": 10,
   "metadata": {},
   "outputs": [
    {
     "data": {
      "image/png": "[encoded data removed]",
      "text/plain": [
       "<matplotlib.figure.Figure at 0x7fcdf54579d0>"
      ]
     },
     "metadata": {},
     "output_type": "display_data"
    },
    {
     "data": {
      "text/plain": [
       "<matplotlib.figure.Figure at 0x7fcdeaf55390>"
      ]
     },
     "metadata": {},
     "output_type": "display_data"
    }
   ],
   "source": [
    "#font = {'family': 'Bitstream Vera Sans', 'weight': 'bold', 'size': 12}\n",
    "#matplotlib.rc('font', **font)\n",
    "width = 12\n",
    "height = 8\n",
    "plt.figure(figsize=(width, height))\n",
    "\n",
    "indep_train_axis = np.array(range(batch_size, \n",
    "                   (len(train_losses)+1)*batch_size, batch_size))\n",
    "plt.plot(indep_train_axis, np.array(train_losses), \"b--\", label=\"Train losses\")\n",
    "plt.plot(indep_train_axis, np.array(train_accuracies), \"g--\", label=\"Train accuracies\")\n",
    "\n",
    "indep_test_axis = np.append(np.array(range(batch_size, \n",
    "                  len(test_losses)*batch_size, batch_size)), training_iters)\n",
    "plt.plot(indep_test_axis, np.array(test_losses), \"b-\", label=\"Test losses\")\n",
    "plt.plot(indep_test_axis, np.array(test_accuracies), \"g-\", label=\"Test accuracies\")\n",
    "\n",
    "plt.title(\"Training session's progress over iterations\")\n",
    "plt.legend(loc='upper right', shadow=False)\n",
    "plt.ylabel('Training Progress (Loss or Accuracy values)')\n",
    "plt.xlabel('Training iteration')\n",
    "plt.savefig('result/lstm_loss_accuracy.png')\n",
    "plt.figure()\n",
    "plt.show()"
   ]
  },
  {
   "cell_type": "code",
   "execution_count": 11,
   "metadata": {},
   "outputs": [
    {
     "name": "stdout",
     "output_type": "stream",
     "text": [
      "Best Testing Accuracy: 100.000011921%\n",
      "\n",
      "Precision: 83.5192913601%\n",
      "Recall: 88.335%\n",
      "f1_score: 84.1284207551%\n",
      "\n",
      "Confusion Matrix:\n",
      "[[    0     0     0     0     0     7    11     0     0     0     0     0\n",
      "      0]\n",
      " [    0   220     0     0    33    17   633     0     0     8     0     0\n",
      "      0]\n",
      " [    0     0   213     0     0     0     0     0     0     0     0     0\n",
      "      0]\n",
      " [    0     0     0     0     0     0     2     0     0     0     0     0\n",
      "      0]\n",
      " [    0     0     0     0  2727     0   154    10     0     0     0     0\n",
      "      0]\n",
      " [    0     3     0     0     2    13   330     0     0     0     0     0\n",
      "      0]\n",
      " [    0     7     0     0     0     0 14488     0     0     0     0     0\n",
      "      0]\n",
      " [    0     1     0     0    42     1   487     4     0     0     0     0\n",
      "      0]\n",
      " [    0     0     0     0     0     0   132     0     0     0     0     0\n",
      "      0]\n",
      " [    0     0     0     0     0     0     2     0     0     2     0     0\n",
      "      0]\n",
      " [    0     0     0     0     0     0     8     0     0     0     0     0\n",
      "      0]\n",
      " [    0     1     0     0   283     0   149     0     0     0     0     0\n",
      "      0]\n",
      " [    0     0     0     0     0     0    10     0     0     0     0     0\n",
      "      0]]\n",
      "               precision    recall  f1-score   support\n",
      "\n",
      "     security       0.00      0.00      0.00        18\n",
      "       others       0.95      0.24      0.38       911\n",
      "    processor       1.00      1.00      1.00       213\n",
      "         disk       0.00      0.00      0.00         2\n",
      "      network       0.88      0.94      0.91      2891\n",
      "         file       0.34      0.04      0.07       348\n",
      "     database       0.88      1.00      0.94     14495\n",
      "      service       0.29      0.01      0.01       535\n",
      "       memory       0.00      0.00      0.00       132\n",
      "communication       0.20      0.50      0.29         4\n",
      "       system       0.00      0.00      0.00         8\n",
      "       driver       0.00      0.00      0.00       433\n",
      "           io       0.00      0.00      0.00        10\n",
      "\n",
      "  avg / total       0.84      0.88      0.84     20000\n",
      "\n"
     ]
    },
    {
     "name": "stderr",
     "output_type": "stream",
     "text": [
      "/usr/local/lib/python2.7/dist-packages/sklearn/metrics/classification.py:1113: UndefinedMetricWarning: Precision is ill-defined and being set to 0.0 in labels with no predicted samples.\n",
      "  'precision', 'predicted', average, warn_for)\n",
      "/usr/local/lib/python2.7/dist-packages/sklearn/metrics/classification.py:1113: UndefinedMetricWarning: F-score is ill-defined and being set to 0.0 in labels with no predicted samples.\n",
      "  'precision', 'predicted', average, warn_for)\n",
      "/usr/local/lib/python2.7/dist-packages/sklearn/metrics/classification.py:1113: UndefinedMetricWarning: Precision and F-score are ill-defined and being set to 0.0 in labels with no predicted samples.\n",
      "  'precision', 'predicted', average, warn_for)\n"
     ]
    },
    {
     "data": {
      "text/plain": [
       "<matplotlib.figure.Figure at 0x7fcdbbb70ad0>"
      ]
     },
     "metadata": {},
     "output_type": "display_data"
    },
    {
     "data": {
      "image/png": "[encoded data removed]",
      "text/plain": [
       "<matplotlib.figure.Figure at 0x7fcdaf5b7590>"
      ]
     },
     "metadata": {},
     "output_type": "display_data"
    }
   ],
   "source": [
    "# Results\n",
    "predictions = []\n",
    "length = len(test_predictions)-20\n",
    "for i in range(20):\n",
    "    predictions.extend(test_predictions[length+i])\n",
    "\n",
    "true_y = np.argmax(test_y, axis=1)\n",
    "\n",
    "print(\"Best Testing Accuracy: {}%\".format(100*max(test_accuracies)))\n",
    "\n",
    "print(\"\")\n",
    "print(\"Precision: {}%\".format(100*metrics.precision_score(\n",
    "    true_y, predictions, average=\"weighted\")))\n",
    "print(\"Recall: {}%\".format(100*metrics.recall_score(true_y, \n",
    "    predictions, average=\"weighted\")))\n",
    "print(\"f1_score: {}%\".format(100*metrics.f1_score(true_y, \n",
    "    predictions, average=\"weighted\")))\n",
    "\n",
    "print(\"\")\n",
    "print(\"Confusion Matrix:\")\n",
    "confusion_matrix = metrics.confusion_matrix(true_y, predictions)\n",
    "print(confusion_matrix)\n",
    "\n",
    "# Plot: \n",
    "## cmap can be changed to many colors, (colormaps.Oranges,OrRd, etc)\n",
    "def plot_CM(cm, title=\"Normalized Confusion Matrix\", cmap=plt.cm.summer):\n",
    "    width = 12\n",
    "    height = 8\n",
    "    plt.figure(figsize=(width, height))\n",
    "    plt.imshow(cm, interpolation='nearest', cmap=cmap)\n",
    "    plt.title(title)\n",
    "    plt.colorbar()\n",
    "    tick_marks = np.arange(len(fault_label))\n",
    "    plt.xticks(tick_marks, fault_label.values(), rotation=90)\n",
    "    plt.yticks(tick_marks, fault_label.values())\n",
    "    plt.tight_layout()\n",
    "    plt.ylabel(\"True label\")\n",
    "    plt.xlabel(\"Predicted label\")\n",
    "    plt.show()\n",
    "    \n",
    "print(metrics.classification_report(\n",
    "    true_y, predictions, target_names = list(labels.values())))\n",
    "\n",
    "cm = confusion_matrix\n",
    "\n",
    "cm_normalized = cm.astype('float') / cm.sum(axis=1)[:,np.newaxis]\n",
    "plt.figure()\n",
    "plot_CM(cm_normalized)"
   ]
  },
  {
   "cell_type": "code",
   "execution_count": null,
   "metadata": {
    "collapsed": true
   },
   "outputs": [],
   "source": []
  }
 ],
 "metadata": {
  "kernelspec": {
   "display_name": "Python 2",
   "language": "python",
   "name": "python2"
  },
  "language_info": {
   "codemirror_mode": {
    "name": "ipython",
    "version": 2
   },
   "file_extension": ".py",
   "mimetype": "text/x-python",
   "name": "python",
   "nbconvert_exporter": "python",
   "pygments_lexer": "ipython2",
   "version": "2.7.12"
  }
 },
 "nbformat": 4,
 "nbformat_minor": 2
}
