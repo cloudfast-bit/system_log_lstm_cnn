{
 "cells": [
  {
   "cell_type": "code",
   "execution_count": 1,
   "metadata": {},
   "outputs": [
    {
     "name": "stderr",
     "output_type": "stream",
     "text": [
      "/usr/local/lib/python2.7/dist-packages/sklearn/cross_validation.py:44: DeprecationWarning: This module was deprecated in version 0.18 in favor of the model_selection module into which all the refactored classes and functions are moved. Also note that the interface of the new CV iterators are different from that of this module. This module will be removed in 0.20.\n",
      "  \"This module will be removed in 0.20.\", DeprecationWarning)\n"
     ]
    }
   ],
   "source": [
    "import pandas as pd\n",
    "import numpy as np\n",
    "import matplotlib.pyplot as plt\n",
    "from sklearn import cross_validation\n",
    "from sklearn.metrics import classification_report, confusion_matrix\n",
    "import tensorflow as tf\n",
    "import os"
   ]
  },
  {
   "cell_type": "markdown",
   "metadata": {},
   "source": [
    "# run environment"
   ]
  },
  {
   "cell_type": "code",
   "execution_count": 2,
   "metadata": {
    "collapsed": true
   },
   "outputs": [],
   "source": [
    "os.environ[\"CUDA_VISIBLE_DEVICES\"] = \"1\"\n",
    "gpu_options = tf.GPUOptions(per_process_gpu_memory_fraction = 0.4)\n",
    "sess_config = tf.ConfigProto(gpu_options=gpu_options)"
   ]
  },
  {
   "cell_type": "markdown",
   "metadata": {},
   "source": [
    "# load data"
   ]
  },
  {
   "cell_type": "code",
   "execution_count": 3,
   "metadata": {},
   "outputs": [
    {
     "name": "stdout",
     "output_type": "stream",
     "text": [
      "Separating data into 80% training set & 20% test set...\n",
      "Dataset separated.\n",
      "\n"
     ]
    }
   ],
   "source": [
    "def segment_(data,window_size = 7):\n",
    "    segments = np.empty((0,window_size,2))\n",
    "    labels = np.empty((0))\n",
    "    for line in data:\n",
    "        line = np.array(line).reshape(1,window_size,2)\n",
    "        segments = np.vstack([segments,line])\n",
    "    return segments\n",
    "\n",
    "fault_label = {\n",
    "    '0':'file', '1':'network', '2':'service', '3':'database', '4':'communication', '5':'memory', '6':'driver', \n",
    "    '7':'system', '8':'application', '9':'io', '10':'others', '11':'security', '12':'disk', '13':'processor'}\n",
    "\n",
    "X, labels = [], [] \n",
    "\n",
    "with open(\"data_msg_type/x.txt\", 'rU') as f:\n",
    "        res = list(f)\n",
    "        for line in res:\n",
    "            line.strip(\"\\n\")\n",
    "            features = line.split(\"\\t\")\n",
    "            while features.__contains__(\"\"):\n",
    "                features.remove(\"\")\n",
    "            for i in range(len(features)):\n",
    "                features[i] = float(features[i])\n",
    "            X.append(features)\n",
    "            \n",
    "with open(\"data_msg_type/y.txt\", 'rU') as f:\n",
    "        res = list(f)\n",
    "        for line in res:\n",
    "            labels.append(int(line.strip(\"\\n\")[0]))\n",
    "            \n",
    "\n",
    "segments = segment_(X)\n",
    "labels = np.asarray(pd.get_dummies(labels), dtype = np.int8)\n",
    "\n",
    "x = segments.reshape(len(segments), 1, 7, 2)\n",
    "y = labels\n",
    "\n",
    "# Separate our training data into test and training.\n",
    "print(\"Separating data into 80% training set & 20% test set...\")\n",
    "train_x, test_x, train_y, test_y = cross_validation.train_test_split(\n",
    "    x, y, test_size=0.2, random_state=33)#add random state here...\n",
    "print(\"Dataset separated.\\n\")"
   ]
  },
  {
   "cell_type": "markdown",
   "metadata": {},
   "source": [
    "# define parameters"
   ]
  },
  {
   "cell_type": "code",
   "execution_count": 13,
   "metadata": {
    "collapsed": true
   },
   "outputs": [],
   "source": [
    "input_height = 1\n",
    "input_width = 7\n",
    "num_channels = 2\n",
    "num_labels = 10\n",
    "\n",
    "batch_size = 128\n",
    "kernel_size = 3\n",
    "depth = 20\n",
    "num_hidden = 1000\n",
    "\n",
    "learning_rate = 0.0001\n",
    "# iteration times\n",
    "training_epochs = 100\n",
    "\n",
    "total_batches = train_x.shape[0] // batch_size"
   ]
  },
  {
   "cell_type": "markdown",
   "metadata": {},
   "source": [
    "# network config"
   ]
  },
  {
   "cell_type": "code",
   "execution_count": 14,
   "metadata": {
    "collapsed": true
   },
   "outputs": [],
   "source": [
    "# init nn parameters\n",
    "def weight_variable(shape):\n",
    "    initial = tf.truncated_normal(shape, stddev = 0.1)\n",
    "    return tf.Variable(initial)\n",
    "\n",
    "def bias_variable(shape):\n",
    "    initial = tf.constant(0.0, shape = shape)\n",
    "    return tf.Variable(initial)\n",
    "\n",
    "# conv\n",
    "def depthwise_conv2d(x, W):\n",
    "    return tf.nn.depthwise_conv2d(x,W, [1, 1, 1, 1], padding='VALID')\n",
    "\n",
    "def apply_depthwise_conv(x,kernel_size,num_channels,depth):\n",
    "    weights = weight_variable([1, kernel_size, num_channels, depth])\n",
    "    biases = bias_variable([depth * num_channels])\n",
    "    return tf.nn.relu(tf.add(depthwise_conv2d(x, weights),biases))\n",
    "    \n",
    "def apply_max_pool(x,kernel_size,stride_size):\n",
    "    return tf.nn.max_pool(x, ksize=[1, 1, kernel_size, 1], \n",
    "                          strides=[1, 1, stride_size, 1], padding='VALID')"
   ]
  },
  {
   "cell_type": "markdown",
   "metadata": {},
   "source": [
    "# build network"
   ]
  },
  {
   "cell_type": "code",
   "execution_count": 15,
   "metadata": {
    "collapsed": true
   },
   "outputs": [],
   "source": [
    "X = tf.placeholder(tf.float32, shape=[None,input_height,input_width,num_channels])\n",
    "Y = tf.placeholder(tf.float32, shape=[None,num_labels])\n",
    "\n",
    "c = apply_depthwise_conv(X,kernel_size,num_channels,depth)\n",
    "p = apply_max_pool(c,1,1)\n",
    "c = apply_depthwise_conv(p,3,depth*num_channels,depth//10)\n",
    "\n",
    "shape = c.get_shape().as_list()\n",
    "c_flat = tf.reshape(c, [-1, shape[1] * shape[2] * shape[3]])\n",
    "\n",
    "f_weights_l1 = weight_variable([shape[1] * shape[2] * depth * num_channels * (depth//10), num_hidden])\n",
    "f_biases_l1 = bias_variable([num_hidden])\n",
    "f = tf.nn.tanh(tf.add(tf.matmul(c_flat, f_weights_l1),f_biases_l1))\n",
    "\n",
    "out_weights = weight_variable([num_hidden, num_labels])\n",
    "out_biases = bias_variable([num_labels])\n",
    "y_ = tf.nn.softmax(tf.matmul(f, out_weights) + out_biases)\n",
    "\n",
    "# loss func\n",
    "loss = -tf.reduce_sum(Y * tf.log(y_))\n",
    "optimizer = tf.train.GradientDescentOptimizer(learning_rate = learning_rate).minimize(loss)\n",
    "\n",
    "correct_prediction = tf.equal(tf.argmax(y_,1), tf.argmax(Y,1))\n",
    "accuracy = tf.reduce_mean(tf.cast(correct_prediction, tf.float32))\n",
    "\n",
    "cost_history = np.empty(shape=[1], dtype=float)"
   ]
  },
  {
   "cell_type": "markdown",
   "metadata": {},
   "source": [
    "# train and test"
   ]
  },
  {
   "cell_type": "code",
   "execution_count": 16,
   "metadata": {
    "scrolled": true
   },
   "outputs": [
    {
     "name": "stdout",
     "output_type": "stream",
     "text": [
      "Epoch:  0  Training Loss:  16.9433  Training Accuracy:  0.966161\n",
      "Epoch:  1  Training Loss:  6.36572  Training Accuracy:  0.98753\n",
      "Epoch:  2  Training Loss:  3.09731  Training Accuracy:  0.991299\n",
      "Epoch:  3  Training Loss:  1.45071  Training Accuracy:  0.992805\n",
      "Epoch:  4  Training Loss:  0.860183  Training Accuracy:  0.99413\n",
      "Epoch:  5  Training Loss:  0.596208  Training Accuracy:  0.994311\n",
      "Epoch:  6  Training Loss:  0.444605  Training Accuracy:  0.995493\n",
      "Epoch:  7  Training Loss:  0.344241  Training Accuracy:  0.997437\n",
      "Epoch:  8  Training Loss:  0.274428  Training Accuracy:  0.998224\n",
      "Epoch:  9  Training Loss:  0.225477  Training Accuracy:  0.999255\n",
      "Epoch:  10  Training Loss:  0.190496  Training Accuracy:  0.999268\n",
      "Epoch:  11  Training Loss:  0.164617  Training Accuracy:  0.999449\n",
      "Epoch:  12  Training Loss:  0.144878  Training Accuracy:  0.999449\n",
      "Epoch:  13  Training Loss:  0.129365  Training Accuracy:  0.999461\n",
      "Epoch:  14  Training Loss:  0.116859  Training Accuracy:  0.999461\n",
      "Epoch:  15  Training Loss:  0.106763  Training Accuracy:  0.999599\n",
      "Epoch:  16  Training Loss:  0.0984493  Training Accuracy:  0.999599\n",
      "Epoch:  17  Training Loss:  0.0910064  Training Accuracy:  0.999655\n",
      "Epoch:  18  Training Loss:  0.0844079  Training Accuracy:  0.999655\n",
      "Epoch:  19  Training Loss:  0.0785728  Training Accuracy:  0.999655\n",
      "Epoch:  20  Training Loss:  0.0733383  Training Accuracy:  0.999655\n",
      "Epoch:  21  Training Loss:  0.0686305  Training Accuracy:  0.999693\n",
      "Epoch:  22  Training Loss:  0.0643832  Training Accuracy:  0.999693\n",
      "Epoch:  23  Training Loss:  0.0605435  Training Accuracy:  0.999693\n",
      "Epoch:  24  Training Loss:  0.0570867  Training Accuracy:  0.999699\n",
      "Epoch:  25  Training Loss:  0.0539252  Training Accuracy:  0.99988\n",
      "Epoch:  26  Training Loss:  0.0510736  Training Accuracy:  0.99988\n",
      "Epoch:  27  Training Loss:  0.0484653  Training Accuracy:  0.99988\n",
      "Epoch:  28  Training Loss:  0.046111  Training Accuracy:  0.999886\n",
      "Epoch:  29  Training Loss:  0.0439381  Training Accuracy:  0.999886\n",
      "Epoch:  30  Training Loss:  0.0419499  Training Accuracy:  0.999886\n",
      "Epoch:  31  Training Loss:  0.0401575  Training Accuracy:  0.999886\n",
      "Epoch:  32  Training Loss:  0.0385021  Training Accuracy:  0.999886\n",
      "Epoch:  33  Training Loss:  0.0369748  Training Accuracy:  0.999892\n",
      "Epoch:  34  Training Loss:  0.0355795  Training Accuracy:  0.999892\n",
      "Epoch:  35  Training Loss:  0.0342715  Training Accuracy:  0.999892\n",
      "Epoch:  36  Training Loss:  0.0330894  Training Accuracy:  0.999924\n",
      "Epoch:  37  Training Loss:  0.031958  Training Accuracy:  0.999924\n",
      "Epoch:  38  Training Loss:  0.0309259  Training Accuracy:  0.999924\n",
      "Epoch:  39  Training Loss:  0.0299769  Training Accuracy:  0.999923\n",
      "Epoch:  40  Training Loss:  0.0290776  Training Accuracy:  0.999924\n",
      "Epoch:  41  Training Loss:  0.0282489  Training Accuracy:  0.999923\n",
      "Epoch:  42  Training Loss:  0.0274878  Training Accuracy:  0.999924\n",
      "Epoch:  43  Training Loss:  0.0267452  Training Accuracy:  0.999923\n",
      "Epoch:  44  Training Loss:  0.0260523  Training Accuracy:  0.999924\n",
      "Epoch:  45  Training Loss:  0.0254218  Training Accuracy:  0.999924\n",
      "Epoch:  46  Training Loss:  0.0248175  Training Accuracy:  0.999924\n",
      "Epoch:  47  Training Loss:  0.0242589  Training Accuracy:  0.999924\n",
      "Epoch:  48  Training Loss:  0.0237228  Training Accuracy:  0.999924\n",
      "Epoch:  49  Training Loss:  0.0232265  Training Accuracy:  0.999924\n",
      "Epoch:  50  Training Loss:  0.0227577  Training Accuracy:  0.999924\n",
      "Epoch:  51  Training Loss:  0.022312  Training Accuracy:  0.999924\n",
      "Epoch:  52  Training Loss:  0.0218904  Training Accuracy:  0.999923\n",
      "Epoch:  53  Training Loss:  0.021477  Training Accuracy:  0.999924\n",
      "Epoch:  54  Training Loss:  0.0211089  Training Accuracy:  0.999924\n",
      "Epoch:  55  Training Loss:  0.0207479  Training Accuracy:  0.999924\n",
      "Epoch:  56  Training Loss:  0.0204021  Training Accuracy:  0.999924\n",
      "Epoch:  57  Training Loss:  0.0200849  Training Accuracy:  0.999923\n",
      "Epoch:  58  Training Loss:  0.0197687  Training Accuracy:  0.999923\n",
      "Epoch:  59  Training Loss:  0.0194777  Training Accuracy:  0.999924\n",
      "Epoch:  60  Training Loss:  0.0191912  Training Accuracy:  0.999924\n",
      "Epoch:  61  Training Loss:  0.0189275  Training Accuracy:  0.999924\n",
      "Epoch:  62  Training Loss:  0.0186616  Training Accuracy:  0.999924\n",
      "Epoch:  63  Training Loss:  0.0184306  Training Accuracy:  0.999924\n",
      "Epoch:  64  Training Loss:  0.018185  Training Accuracy:  0.999924\n",
      "Epoch:  65  Training Loss:  0.017962  Training Accuracy:  0.999924\n",
      "Epoch:  66  Training Loss:  0.0177328  Training Accuracy:  0.999924\n",
      "Epoch:  67  Training Loss:  0.0175149  Training Accuracy:  0.999923\n",
      "Epoch:  68  Training Loss:  0.0173275  Training Accuracy:  0.999924\n",
      "Epoch:  69  Training Loss:  0.0171235  Training Accuracy:  0.999924\n",
      "Epoch:  70  Training Loss:  0.0169495  Training Accuracy:  0.999924\n",
      "Epoch:  71  Training Loss:  0.0167586  Training Accuracy:  0.999924\n",
      "Epoch:  72  Training Loss:  0.0165843  Training Accuracy:  0.999923\n",
      "Epoch:  73  Training Loss:  0.0164293  Training Accuracy:  0.999924\n",
      "Epoch:  74  Training Loss:  0.0162636  Training Accuracy:  0.999924\n",
      "Epoch:  75  Training Loss:  0.0161063  Training Accuracy:  0.999924\n",
      "Epoch:  76  Training Loss:  0.0159507  Training Accuracy:  0.999924\n",
      "Epoch:  77  Training Loss:  0.0158117  Training Accuracy:  0.999924\n",
      "Epoch:  78  Training Loss:  0.0156539  Training Accuracy:  0.999924\n",
      "Epoch:  79  Training Loss:  0.0155095  Training Accuracy:  0.999924\n",
      "Epoch:  80  Training Loss:  0.0153814  Training Accuracy:  0.999923\n",
      "Epoch:  81  Training Loss:  0.0152447  Training Accuracy:  0.999924\n",
      "Epoch:  82  Training Loss:  0.0151094  Training Accuracy:  0.999924\n",
      "Epoch:  83  Training Loss:  0.0149774  Training Accuracy:  0.999924\n",
      "Epoch:  84  Training Loss:  0.0148631  Training Accuracy:  0.999924\n",
      "Epoch:  85  Training Loss:  0.0147483  Training Accuracy:  0.999924\n",
      "Epoch:  86  Training Loss:  0.0146116  Training Accuracy:  0.999924\n",
      "Epoch:  87  Training Loss:  0.0144982  Training Accuracy:  0.999923\n",
      "Epoch:  88  Training Loss:  0.014388  Training Accuracy:  0.999924\n",
      "Epoch:  89  Training Loss:  0.0142576  Training Accuracy:  0.999923\n",
      "Epoch:  90  Training Loss:  0.0141462  Training Accuracy:  0.999924\n",
      "Epoch:  91  Training Loss:  0.0140269  Training Accuracy:  0.999924\n",
      "Epoch:  92  Training Loss:  0.0139094  Training Accuracy:  0.999924\n",
      "Epoch:  93  Training Loss:  0.0138034  Training Accuracy:  0.999924\n",
      "Epoch:  94  Training Loss:  0.0136972  Training Accuracy:  0.999924\n",
      "Epoch:  95  Training Loss:  0.0135646  Training Accuracy:  0.999923\n",
      "Epoch:  96  Training Loss:  0.0134567  Training Accuracy:  0.999924\n",
      "Epoch:  97  Training Loss:  0.0133463  Training Accuracy:  0.999924\n",
      "Epoch:  98  Training Loss:  0.0132359  Training Accuracy:  0.999924\n",
      "Epoch:  99  Training Loss:  0.0131129  Training Accuracy:  0.999924\n",
      "Testing Accuracy: 0.999974131584\n",
      "()\n",
      "temp_y_true [0 1 2 4 5 6 7 8 9]\n",
      "temp_y_pred [0 1 2 4 5 6 7 8 9]\n",
      "               precision    recall  f1-score   support\n",
      "\n",
      "     security       1.00      1.00      1.00       279\n",
      "       others       1.00      1.00      1.00      3115\n",
      "    processor       1.00      1.00      1.00      5774\n",
      "         disk       1.00      1.00      1.00        16\n",
      "      network       1.00      1.00      1.00       248\n",
      "         file       1.00      1.00      1.00     29818\n",
      "     database       1.00      1.00      1.00        64\n",
      "      service       1.00      1.00      1.00       479\n",
      "       memory       1.00      1.00      1.00       207\n",
      "\n",
      "  avg / total       1.00      1.00      1.00     40000\n",
      "\n",
      "confusion_matrix: \n",
      "[[  279     0     0     0     0     0     0     0     0]\n",
      " [    0  3115     0     0     0     0     0     0     0]\n",
      " [    0     0  5774     0     0     0     0     0     0]\n",
      " [    0     0     0    16     0     0     0     0     0]\n",
      " [    0     0     0     0   248     0     0     0     0]\n",
      " [    0     0     0     0     0 29818     0     0     0]\n",
      " [    0     0     0     0     0     0    64     0     0]\n",
      " [    1     0     0     0     0     0     0   478     0]\n",
      " [    0     0     0     0     0     0     0     0   207]]\n"
     ]
    }
   ],
   "source": [
    "with tf.Session() as session:\n",
    "    tf.global_variables_initializer().run()\n",
    "    for epoch in range(training_epochs):\n",
    "        for b in range(total_batches):    \n",
    "            offset = (b * batch_size) % (train_y.shape[0] - batch_size)\n",
    "            batch_x = train_x[offset:(offset + batch_size), :, :, :]\n",
    "            batch_y = train_y[offset:(offset + batch_size), :]\n",
    "            _, c = session.run([optimizer, loss],feed_dict={X: batch_x, Y : batch_y})\n",
    "            cost_history = np.append(cost_history,c)\n",
    "        print \"Epoch: \",epoch,\" Training Loss: \",c,\" Training Accuracy: \", \\\n",
    "          session.run(accuracy, feed_dict={X: train_x, Y: train_y})\n",
    "    y_pred = tf.argmax(y_, 1)\n",
    "    y_true = np.argmax(test_y, 1)\n",
    "    final_acc, y_pred = session.run([accuracy, y_pred], feed_dict={X: test_x, Y: test_y})\n",
    "    print \"Testing Accuracy: {}\".format(final_acc)\n",
    "    print()\n",
    "    \n",
    "    # model metrics\n",
    "    temp_y_true = np.unique(y_true)\n",
    "    temp_y_pred = np.unique(y_pred) \n",
    "    np.save(\"data/y_true\", y_true) \n",
    "    np.save(\"data/y_pred\", y_pred) \n",
    "    print \"temp_y_true\", temp_y_true \n",
    "    print \"temp_y_pred\", temp_y_pred\n",
    "    \n",
    "    print(classification_report(y_true, y_pred, \n",
    "                                target_names = fault_label.values()))\n",
    "    print(\"confusion_matrix: \")\n",
    "    print confusion_matrix(y_true, y_pred)"
   ]
  },
  {
   "cell_type": "markdown",
   "metadata": {},
   "source": [
    "# evalution"
   ]
  },
  {
   "cell_type": "code",
   "execution_count": null,
   "metadata": {
    "collapsed": true
   },
   "outputs": [],
   "source": [
    "#font = {'family': 'Bitstream Vera Sans', 'weight': 'bold', 'size': 12}\n",
    "\n",
    "#matplotlib.rc('font', **font)\n",
    "\n",
    "#width = 12\n",
    "#height = 12\n",
    "#plt.figure(figsize=(width, height))\n",
    "\n",
    "indep_train_axis = np.array(range(config.batch_size, \n",
    "    (len(train_losses)+1)*config.batch_size, config.batch_size))\n",
    "plt.plot(indep_train_axis, np.array(train_losses), \"b--\", label=\"Train losses\")\n",
    "plt.plot(indep_train_axis, np.array(train_accuracies), \"g--\", label=\"Train accuracies\")\n",
    "\n",
    "indep_test_axis = np.append(np.array(range(config.batch_size, \n",
    "    len(test_losses)*config.display_iter, config.display_iter)[:-1]), \n",
    "    [config.training_epochs])\n",
    "\n",
    "plt.plot(indep_test_axis, np.array(test_losses), \"b-\", label=\"Test losses\")\n",
    "plt.plot(indep_test_axis, np.array(test_accuracies), \"g-\", label=\"Test accuracies\")\n",
    "\n",
    "plt.title(\"Training session's progress over iterations\")\n",
    "plt.legend(loc='upper right', shadow=False)\n",
    "plt.ylabel('Training Progress (Loss or Accuracy values)')\n",
    "plt.xlabel('Training iteration')\n",
    "plt.savefig('result/lstm_loss_accuracy.png')\n",
    "plt.figure()\n",
    "plt.show()"
   ]
  },
  {
   "cell_type": "markdown",
   "metadata": {},
   "source": [
    "# confusion matrix"
   ]
  },
  {
   "cell_type": "code",
   "execution_count": 18,
   "metadata": {},
   "outputs": [
    {
     "name": "stdout",
     "output_type": "stream",
     "text": [
      "               precision    recall  f1-score   support\n",
      "\n",
      "     security       1.00      1.00      1.00       279\n",
      "       others       1.00      1.00      1.00      3115\n",
      "    processor       1.00      1.00      1.00      5774\n",
      "         disk       1.00      1.00      1.00        16\n",
      "      network       1.00      1.00      1.00       248\n",
      "         file       1.00      1.00      1.00     29818\n",
      "     database       1.00      1.00      1.00        64\n",
      "      service       1.00      1.00      1.00       479\n",
      "       memory       1.00      1.00      1.00       207\n",
      "\n",
      "  avg / total       1.00      1.00      1.00     40000\n",
      "\n",
      "[[  279     0     0     0     0     0     0     0     0]\n",
      " [    0  3115     0     0     0     0     0     0     0]\n",
      " [    0     0  5774     0     0     0     0     0     0]\n",
      " [    0     0     0    16     0     0     0     0     0]\n",
      " [    0     0     0     0   248     0     0     0     0]\n",
      " [    0     0     0     0     0 29818     0     0     0]\n",
      " [    0     0     0     0     0     0    64     0     0]\n",
      " [    1     0     0     0     0     0     0   478     0]\n",
      " [    0     0     0     0     0     0     0     0   207]]\n",
      "()\n"
     ]
    },
    {
     "data": {
      "image/png": "[encoded data removed]",
      "text/plain": [
       "<matplotlib.figure.Figure at 0x7f7ff6499b90>"
      ]
     },
     "metadata": {},
     "output_type": "display_data"
    }
   ],
   "source": [
    "def plot_confusion_matrix(cm, title='Normalized Confusion matrix', \n",
    "                          cmap=plt.cm.get_cmap(\"Blues\")): \n",
    "    cm = cm / cm.astype(np.float).sum(axis=1) \n",
    "    #print \"confusion_matrix: \\n{}\".format(cm) \n",
    "    plt.imshow(cm, interpolation='nearest', cmap=cmap) \n",
    "    plt.title(title) \n",
    "    plt.colorbar() \n",
    "    tick_marks =np.arange(len(fault_label))\n",
    "    plt.xticks(tick_marks, fault_label.values(), rotation=45) \n",
    "    plt.yticks(tick_marks, fault_label.values()) \n",
    "    plt.tight_layout() \n",
    "    plt.ylabel('True label') \n",
    "    plt.xlabel('Predicted label') \n",
    "    plt.show()\n",
    "\n",
    "def test_(): \n",
    "    y_true = np.load(\"data/y_true.npy\") \n",
    "    y_pred = np.load(\"data/y_pred.npy\") \n",
    "    print(classification_report(y_true, y_pred, \n",
    "          target_names = fault_label.values()))\n",
    "    print(confusion_matrix(y_true, y_pred))\n",
    "    print()\n",
    "    plot_confusion_matrix(confusion_matrix(y_true, y_pred))\n",
    "\n",
    "if __name__ == \"__main__\":\n",
    "    test_()"
   ]
  }
 ],
 "metadata": {
  "kernelspec": {
   "display_name": "Python 2",
   "language": "python",
   "name": "python2"
  },
  "language_info": {
   "codemirror_mode": {
    "name": "ipython",
    "version": 2
   },
   "file_extension": ".py",
   "mimetype": "text/x-python",
   "name": "python",
   "nbconvert_exporter": "python",
   "pygments_lexer": "ipython2",
   "version": "2.7.12"
  }
 },
 "nbformat": 4,
 "nbformat_minor": 2
}
