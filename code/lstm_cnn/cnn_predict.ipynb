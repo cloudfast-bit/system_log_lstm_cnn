{
 "cells": [
  {
   "cell_type": "code",
   "execution_count": 1,
   "metadata": {
    "collapsed": true
   },
   "outputs": [],
   "source": [
    "import pandas as pd\n",
    "import numpy as np\n",
    "import matplotlib.pyplot as plt\n",
    "from sklearn.metrics import classification_report, confusion_matrix\n",
    "import tensorflow as tf"
   ]
  },
  {
   "cell_type": "code",
   "execution_count": 8,
   "metadata": {
    "collapsed": true
   },
   "outputs": [],
   "source": [
    "def segment_(data,window_size = 40):\n",
    "    segments = np.empty((0,window_size,3))\n",
    "    labels = np.empty((0))\n",
    "    for line in data:\n",
    "        line = np.array(line).reshape(1,window_size,3)\n",
    "        segments = np.vstack([segments,line])\n",
    "    return segments\n",
    "\n",
    "# init nn parameters\n",
    "def weight_variable(shape):\n",
    "    initial = tf.truncated_normal(shape, stddev = 0.1)\n",
    "    return tf.Variable(initial)\n",
    "\n",
    "def bias_variable(shape):\n",
    "    initial = tf.constant(0.0, shape = shape)\n",
    "    return tf.Variable(initial)\n",
    "\n",
    "# conv\n",
    "def depthwise_conv2d(x, W):\n",
    "    return tf.nn.depthwise_conv2d(x,W, [1, 1, 1, 1], padding='VALID')\n",
    "\n",
    "def apply_depthwise_conv(x,kernel_size,num_channels,depth):\n",
    "    weights = weight_variable([1, kernel_size, num_channels, depth])\n",
    "    biases = bias_variable([depth * num_channels])\n",
    "    return tf.nn.relu(tf.add(depthwise_conv2d(x, weights),biases))\n",
    "    \n",
    "def apply_max_pool(x,kernel_size,stride_size):\n",
    "    return tf.nn.max_pool(x, ksize=[1, 1, kernel_size, 1], \n",
    "                          strides=[1, 1, stride_size, 1], padding='VALID')"
   ]
  },
  {
   "cell_type": "markdown",
   "metadata": {},
   "source": [
    "# load data"
   ]
  },
  {
   "cell_type": "code",
   "execution_count": 32,
   "metadata": {},
   "outputs": [
    {
     "name": "stdout",
     "output_type": "stream",
     "text": [
      "(8360, 40, 3)\n",
      "(8360, 7)\n"
     ]
    }
   ],
   "source": [
    "fault_label = {'1': 'info',\n",
    "               '2': 'Critical',\n",
    "               '3': 'error',\n",
    "               '4': 'notice',\n",
    "               '5': 'warning',\n",
    "               '6': 'alert',\n",
    "               '7': 'emergency'}\n",
    "\n",
    "X, X_val, labels, labels_val = [], [], [], [] #validation set features\n",
    "\n",
    "with open(\"data/msg_token_train.txt\", 'rU') as f:\n",
    "        res = list(f)\n",
    "        for line in res:\n",
    "            line.strip(\"\\n\")\n",
    "            features = line.split(\"\\t\")\n",
    "            while features.__contains__(\"\"):\n",
    "                features.remove(\"\")\n",
    "            for i in range(len(features)):\n",
    "                features[i] = float(features[i])\n",
    "            X.append(features)\n",
    "            \n",
    "with open(\"data/msg_label_train.txt\", 'rU') as f:\n",
    "        res = list(f)\n",
    "        for line in res:\n",
    "            labels.append(int(line.strip(\"\\n\")[0]))\n",
    "            \n",
    "with open(\"data/msg_token_test.txt\", 'rU') as f:\n",
    "        res = list(f)\n",
    "        for line in res:\n",
    "            line.strip(\"\\n\")\n",
    "            features = line.split(\"\\t\")\n",
    "            while features.__contains__(\"\"):\n",
    "                features.remove(\"\")\n",
    "            for i in range(len(features)):\n",
    "                features[i] = float(features[i])\n",
    "            X_val.append(features)\n",
    "            \n",
    "with open(\"data/msg_label_test.txt\", 'rU') as f:\n",
    "        res = list(f)\n",
    "        for line in res:\n",
    "            labels_val.append(int(line.strip(\"\\n\")[0]))\n",
    "\n",
    "segments = segment_(X)\n",
    "segments_val = segment_(X_val)\n",
    "print(segments.shape)\n",
    "\n",
    "labels = np.asarray(pd.get_dummies(labels), dtype = np.int8)\n",
    "labels_val = np.asarray(pd.get_dummies(labels_val), dtype = np.int8)\n",
    "print(labels.shape)\n",
    "\n",
    "train_x = segments.reshape(len(segments), 1, 40, 3)\n",
    "train_y = labels\n",
    "test_x = segments_val.reshape(len(segments_val), 1, 40, 3)\n",
    "test_y = labels_val"
   ]
  },
  {
   "cell_type": "markdown",
   "metadata": {},
   "source": [
    "# define parameters"
   ]
  },
  {
   "cell_type": "code",
   "execution_count": 34,
   "metadata": {
    "collapsed": true
   },
   "outputs": [],
   "source": [
    "input_height = 1\n",
    "input_width = 40\n",
    "num_channels = 3\n",
    "num_labels = 7\n",
    "\n",
    "batch_size = 10\n",
    "kernel_size = 20\n",
    "depth = 20\n",
    "num_hidden = 1000\n",
    "\n",
    "learning_rate = 0.0001\n",
    "# iteration times\n",
    "training_epochs = 8\n",
    "\n",
    "total_batches = train_x.shape[0] // batch_size"
   ]
  },
  {
   "cell_type": "markdown",
   "metadata": {},
   "source": [
    "# build network"
   ]
  },
  {
   "cell_type": "code",
   "execution_count": 35,
   "metadata": {},
   "outputs": [],
   "source": [
    "X = tf.placeholder(tf.float32, shape=[None,input_height,input_width,num_channels])\n",
    "Y = tf.placeholder(tf.float32, shape=[None,num_labels])\n",
    "\n",
    "c = apply_depthwise_conv(X,kernel_size,num_channels,depth)\n",
    "p = apply_max_pool(c,10,2)\n",
    "c = apply_depthwise_conv(p,6,depth*num_channels,depth//10)\n",
    "\n",
    "shape = c.get_shape().as_list()\n",
    "c_flat = tf.reshape(c, [-1, shape[1] * shape[2] * shape[3]])\n",
    "\n",
    "f_weights_l1 = weight_variable([shape[1] * shape[2] * depth * num_channels * (depth//10), num_hidden])\n",
    "f_biases_l1 = bias_variable([num_hidden])\n",
    "f = tf.nn.tanh(tf.add(tf.matmul(c_flat, f_weights_l1),f_biases_l1))\n",
    "\n",
    "out_weights = weight_variable([num_hidden, num_labels])\n",
    "out_biases = bias_variable([num_labels])\n",
    "y_ = tf.nn.softmax(tf.matmul(f, out_weights) + out_biases)\n",
    "\n",
    "# loss func\n",
    "loss = -tf.reduce_sum(Y * tf.log(y_))\n",
    "optimizer = tf.train.GradientDescentOptimizer(learning_rate = learning_rate).minimize(loss)\n",
    "\n",
    "correct_prediction = tf.equal(tf.argmax(y_,1), tf.argmax(Y,1))\n",
    "accuracy = tf.reduce_mean(tf.cast(correct_prediction, tf.float32))\n",
    "\n",
    "cost_history = np.empty(shape=[1], dtype=float)"
   ]
  },
  {
   "cell_type": "markdown",
   "metadata": {},
   "source": [
    "# train and test"
   ]
  },
  {
   "cell_type": "code",
   "execution_count": 36,
   "metadata": {
    "scrolled": false
   },
   "outputs": [
    {
     "name": "stdout",
     "output_type": "stream",
     "text": [
      "Epoch:  0  Training Loss:  40.58  Training Accuracy:  0.436483\n",
      "Epoch:  1  Training Loss:  63.1225  Training Accuracy:  0.436483\n",
      "Epoch:  2  Training Loss:  63.2692  Training Accuracy:  0.436483\n",
      "Epoch:  3  Training Loss:  63.5631  Training Accuracy:  0.436483\n",
      "Epoch:  4  Training Loss:  63.8993  Training Accuracy:  0.436483\n",
      "Epoch:  5  Training Loss:  63.8944  Training Accuracy:  0.436483\n",
      "Epoch:  6  Training Loss:  63.8717  Training Accuracy:  0.436483\n",
      "Epoch:  7  Training Loss:  63.8629  Training Accuracy:  0.436483\n",
      "Testing Accuracy: 0.436265677214\n",
      "()\n",
      "temp_y_true [0 1 2 3 4 5 6]\n",
      "temp_y_pred [4]\n",
      "             precision    recall  f1-score   support\n",
      "\n",
      "       info       0.00      0.00      0.00       694\n",
      "      error       0.00      0.00      0.00       108\n",
      "   Critical       0.00      0.00      0.00        93\n",
      "    warning       0.00      0.00      0.00        42\n",
      "     notice       0.44      1.00      0.61       729\n",
      "  emergency       0.00      0.00      0.00         2\n",
      "      alert       0.00      0.00      0.00         3\n",
      "\n",
      "avg / total       0.19      0.44      0.27      1671\n",
      "\n",
      "confusion_matrix: \n",
      "[[  0   0   0   0 694   0   0]\n",
      " [  0   0   0   0 108   0   0]\n",
      " [  0   0   0   0  93   0   0]\n",
      " [  0   0   0   0  42   0   0]\n",
      " [  0   0   0   0 729   0   0]\n",
      " [  0   0   0   0   2   0   0]\n",
      " [  0   0   0   0   3   0   0]]\n"
     ]
    },
    {
     "name": "stderr",
     "output_type": "stream",
     "text": [
      "/usr/local/lib/python2.7/dist-packages/sklearn/metrics/classification.py:1113: UndefinedMetricWarning: Precision and F-score are ill-defined and being set to 0.0 in labels with no predicted samples.\n",
      "  'precision', 'predicted', average, warn_for)\n"
     ]
    }
   ],
   "source": [
    "with tf.Session() as session:\n",
    "    tf.global_variables_initializer().run()\n",
    "    for epoch in range(training_epochs):\n",
    "        for b in range(total_batches):    \n",
    "            offset = (b * batch_size) % (train_y.shape[0] - batch_size)\n",
    "            batch_x = train_x[offset:(offset + batch_size), :, :, :]\n",
    "            batch_y = train_y[offset:(offset + batch_size), :]\n",
    "            _, c = session.run([optimizer, loss],feed_dict={X: batch_x, Y : batch_y})\n",
    "            cost_history = np.append(cost_history,c)\n",
    "        print \"Epoch: \",epoch,\" Training Loss: \",c,\" Training Accuracy: \", \\\n",
    "          session.run(accuracy, feed_dict={X: train_x, Y: train_y})\n",
    "    y_pred = tf.argmax(y_, 1)\n",
    "    y_true = np.argmax(test_y, 1)\n",
    "    final_acc, y_pred = session.run([accuracy, y_pred], feed_dict={X: test_x, Y: test_y})\n",
    "    print \"Testing Accuracy: {}\".format(final_acc)\n",
    "    print()\n",
    "    \n",
    "    # model metrics\n",
    "    temp_y_true = np.unique(y_true)\n",
    "    temp_y_pred = np.unique(y_pred) \n",
    "    np.save(\"data/y_true\", y_true) \n",
    "    np.save(\"data/y_pred\", y_pred) \n",
    "    print \"temp_y_true\", temp_y_true \n",
    "    print \"temp_y_pred\", temp_y_pred\n",
    "    \n",
    "    print(classification_report(y_true, y_pred, \n",
    "                                target_names = fault_label.values()))\n",
    "    print(\"confusion_matrix: \")\n",
    "    print confusion_matrix(y_true, y_pred)"
   ]
  },
  {
   "cell_type": "markdown",
   "metadata": {},
   "source": [
    "# confusion matrix"
   ]
  },
  {
   "cell_type": "code",
   "execution_count": 39,
   "metadata": {},
   "outputs": [
    {
     "name": "stdout",
     "output_type": "stream",
     "text": [
      "             precision    recall  f1-score   support\n",
      "\n",
      "       info       0.00      0.00      0.00       694\n",
      "      error       0.00      0.00      0.00       108\n",
      "   Critical       0.00      0.00      0.00        93\n",
      "    warning       0.00      0.00      0.00        42\n",
      "     notice       0.44      1.00      0.61       729\n",
      "  emergency       0.00      0.00      0.00         2\n",
      "      alert       0.00      0.00      0.00         3\n",
      "\n",
      "avg / total       0.19      0.44      0.27      1671\n",
      "\n",
      "<function confusion_matrix at 0x7f0b264f27d0>\n",
      "[[  0   0   0   0 694   0   0]\n",
      " [  0   0   0   0 108   0   0]\n",
      " [  0   0   0   0  93   0   0]\n",
      " [  0   0   0   0  42   0   0]\n",
      " [  0   0   0   0 729   0   0]\n",
      " [  0   0   0   0   2   0   0]\n",
      " [  0   0   0   0   3   0   0]]\n",
      "()\n",
      "confusion_matrix: \n",
      "[[ 0.          0.          0.          0.          0.95198903  0.          0.        ]\n",
      " [ 0.          0.          0.          0.          0.14814815  0.          0.        ]\n",
      " [ 0.          0.          0.          0.          0.12757202  0.          0.        ]\n",
      " [ 0.          0.          0.          0.          0.05761317  0.          0.        ]\n",
      " [ 0.          0.          0.          0.          1.          0.          0.        ]\n",
      " [ 0.          0.          0.          0.          0.00274348  0.          0.        ]\n",
      " [ 0.          0.          0.          0.          0.00411523  0.          0.        ]]\n"
     ]
    },
    {
     "data": {
      "image/png": "[encoded data removed]",
      "text/plain": [
       "<matplotlib.figure.Figure at 0x7f0b01fd7050>"
      ]
     },
     "metadata": {},
     "output_type": "display_data"
    }
   ],
   "source": [
    "def plot_confusion_matrix(cm, title='Normalized Confusion matrix', \n",
    "                          cmap=plt.cm.get_cmap(\"Blues\")): \n",
    "    cm = cm / cm.astype(np.float).sum(axis=1) \n",
    "    print \"confusion_matrix: \\n{}\".format(cm) \n",
    "    plt.imshow(cm, interpolation='nearest', cmap=cmap) \n",
    "    plt.title(title) \n",
    "    plt.colorbar() \n",
    "    tick_marks = np.arange(6) \n",
    "    plt.xticks(tick_marks, [1, 2, 3, 4, 5, 6], rotation=45) \n",
    "    plt.yticks(tick_marks, [1, 2, 3, 4, 5, 6]) \n",
    "    plt.tight_layout() \n",
    "    plt.ylabel('True label') \n",
    "    plt.xlabel('Predicted label') \n",
    "    plt.show()\n",
    "\n",
    "def test_har(): \n",
    "    y_true = np.load(\"data/y_true.npy\") \n",
    "    y_pred = np.load(\"data/y_pred.npy\") \n",
    "    print(classification_report(y_true, y_pred, \n",
    "                                target_names = fault_label.values()))\n",
    "    print(confusion_matrix)\n",
    "    print(confusion_matrix(y_true, y_pred))\n",
    "    print()\n",
    "    plot_confusion_matrix(confusion_matrix(y_true, y_pred))\n",
    "\n",
    "if __name__ == \"__main__\":\n",
    "    test_har()"
   ]
  }
 ],
 "metadata": {
  "kernelspec": {
   "display_name": "Python 2",
   "language": "python",
   "name": "python2"
  },
  "language_info": {
   "codemirror_mode": {
    "name": "ipython",
    "version": 2
   },
   "file_extension": ".py",
   "mimetype": "text/x-python",
   "name": "python",
   "nbconvert_exporter": "python",
   "pygments_lexer": "ipython2",
   "version": "2.7.12"
  }
 },
 "nbformat": 4,
 "nbformat_minor": 2
}
