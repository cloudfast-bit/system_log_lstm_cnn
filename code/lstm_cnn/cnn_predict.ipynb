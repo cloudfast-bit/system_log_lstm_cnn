{
 "cells": [
  {
   "cell_type": "code",
   "execution_count": 1,
   "metadata": {},
   "outputs": [
    {
     "name": "stderr",
     "output_type": "stream",
     "text": [
      "/usr/local/lib/python2.7/dist-packages/sklearn/cross_validation.py:44: DeprecationWarning: This module was deprecated in version 0.18 in favor of the model_selection module into which all the refactored classes and functions are moved. Also note that the interface of the new CV iterators are different from that of this module. This module will be removed in 0.20.\n",
      "  \"This module will be removed in 0.20.\", DeprecationWarning)\n"
     ]
    }
   ],
   "source": [
    "import pandas as pd\n",
    "import numpy as np\n",
    "import matplotlib.pyplot as plt\n",
    "from sklearn import cross_validation\n",
    "from sklearn.metrics import classification_report, confusion_matrix\n",
    "import tensorflow as tf\n",
    "import os"
   ]
  },
  {
   "cell_type": "markdown",
   "metadata": {},
   "source": [
    "# run environment"
   ]
  },
  {
   "cell_type": "code",
   "execution_count": 2,
   "metadata": {
    "collapsed": true
   },
   "outputs": [],
   "source": [
    "os.environ[\"CUDA_VISIBLE_DEVICES\"] = \"1\"\n",
    "gpu_options = tf.GPUOptions(per_process_gpu_memory_fraction = 0.4)\n",
    "sess_config = tf.ConfigProto(gpu_options=gpu_options)"
   ]
  },
  {
   "cell_type": "markdown",
   "metadata": {},
   "source": [
    "# load data"
   ]
  },
  {
   "cell_type": "code",
   "execution_count": 11,
   "metadata": {},
   "outputs": [
    {
     "name": "stdout",
     "output_type": "stream",
     "text": [
      "Separating data into 80% training set & 20% test set...\n",
      "Dataset separated.\n",
      "\n",
      "((160000, 1, 7, 2), (160000, 14), (40000, 14))\n"
     ]
    }
   ],
   "source": [
    "def one_hot(y):\n",
    "    y = y.reshape(len(y))\n",
    "    n_values = np.max(y) + 1\n",
    "    return np.eye(n_values)[np.array(y, dtype=np.int32)]  # Returns FLOATS\n",
    "\n",
    "\n",
    "def load_X(X_path):\n",
    "    X_list = []\n",
    "    file = open(X_path, 'r')\n",
    "    # Read dataset from disk, dealing with text files' syntax\n",
    "    X_signal = [np.array(item, dtype=np.float32) for item in [\n",
    "               line.strip().split('\\t') for line in file]]\n",
    "    X_list.append(X_signal)\n",
    "    file.close()\n",
    "    return np.transpose(np.array(X_list), (1, 2, 0))\n",
    "\n",
    "\n",
    "# Load \"y\" (the neural network's training and testing outputs)\n",
    "def load_y(y_path):\n",
    "    file = open(y_path, 'r')\n",
    "    # Read dataset from disk, dealing with text file's syntax\n",
    "    y_ = np.array([elem for elem in [line.strip().split('\\t') for line in file]], \n",
    "                  dtype=np.int32)\n",
    "    file.close()\n",
    "    # Substract 1 to each output class for friendly 0-based indexing\n",
    "    return one_hot(y_)\n",
    "\n",
    "fault_label = {'0':'file', '1':'network', '2':'service', '3':'database', '4':'communication', '5':'memory', '6':'driver', \n",
    "    '7':'system', '8':'application', '9':'io', '10':'others', '11':'security', '12':'disk', '13':'processor'}\n",
    "\n",
    "dataset_path = \"data_msg_type/\"\n",
    "X_path = dataset_path + \"x.txt\"\n",
    "y_path = dataset_path + \"y.txt\"\n",
    "\n",
    "X = load_X(X_path)\n",
    "y = load_y(y_path)\n",
    "x = X.reshape(len(X), 1, 7, 2)\n",
    "\n",
    "# Separate our training data into test and training.\n",
    "print(\"Separating data into 80% training set & 20% test set...\")\n",
    "train_x, test_x, train_y, test_y = cross_validation.train_test_split(\n",
    "    x, y, test_size=0.2, random_state=33)#add random state here...\n",
    "print(\"Dataset separated.\\n\")\n",
    "print(train_x.shape, train_y.shape, test_y.shape)"
   ]
  },
  {
   "cell_type": "markdown",
   "metadata": {},
   "source": [
    "# define parameters"
   ]
  },
  {
   "cell_type": "code",
   "execution_count": 4,
   "metadata": {
    "collapsed": true
   },
   "outputs": [],
   "source": [
    "input_height = 1\n",
    "input_width = 7\n",
    "num_channels = 2\n",
    "num_labels = 14  \n",
    "\n",
    "batch_size = 128\n",
    "kernel_size = 3\n",
    "depth = 20\n",
    "num_hidden = 1000\n",
    "\n",
    "learning_rate = 0.001\n",
    "# iteration times\n",
    "training_epochs = 100\n",
    "\n",
    "total_batches = train_x.shape[0] // batch_size"
   ]
  },
  {
   "cell_type": "markdown",
   "metadata": {},
   "source": [
    "# network config"
   ]
  },
  {
   "cell_type": "code",
   "execution_count": 5,
   "metadata": {
    "collapsed": true
   },
   "outputs": [],
   "source": [
    "# init nn parameters\n",
    "def weight_variable(shape):\n",
    "    initial = tf.truncated_normal(shape, stddev = 0.1)\n",
    "    return tf.Variable(initial)\n",
    "\n",
    "def bias_variable(shape):\n",
    "    initial = tf.constant(0.0, shape = shape)\n",
    "    return tf.Variable(initial)\n",
    "\n",
    "# conv\n",
    "def depthwise_conv2d(x, W):\n",
    "    return tf.nn.depthwise_conv2d(x,W, [1, 1, 1, 1], padding='VALID')\n",
    "\n",
    "def apply_depthwise_conv(x,kernel_size,num_channels,depth):\n",
    "    weights = weight_variable([1, kernel_size, num_channels, depth])\n",
    "    biases = bias_variable([depth * num_channels])\n",
    "    return tf.nn.relu(tf.add(depthwise_conv2d(x, weights),biases))\n",
    "    \n",
    "def apply_max_pool(x,kernel_size,stride_size):\n",
    "    return tf.nn.max_pool(x, ksize=[1, 1, kernel_size, 1], \n",
    "                          strides=[1, 1, stride_size, 1], padding='VALID')"
   ]
  },
  {
   "cell_type": "markdown",
   "metadata": {},
   "source": [
    "# build network"
   ]
  },
  {
   "cell_type": "code",
   "execution_count": 6,
   "metadata": {
    "collapsed": true
   },
   "outputs": [],
   "source": [
    "X = tf.placeholder(tf.float32, shape=[None,input_height,input_width,num_channels])\n",
    "Y = tf.placeholder(tf.float32, shape=[None,num_labels])\n",
    "\n",
    "c = apply_depthwise_conv(X,kernel_size,num_channels,depth)\n",
    "p = apply_max_pool(c,1,1)\n",
    "c = apply_depthwise_conv(p,3,depth*num_channels,depth//10)\n",
    "\n",
    "shape = c.get_shape().as_list()\n",
    "c_flat = tf.reshape(c, [-1, shape[1] * shape[2] * shape[3]])\n",
    "\n",
    "f_weights_l1 = weight_variable([shape[1] * shape[2] * depth * num_channels * (depth//10), num_hidden])\n",
    "f_biases_l1 = bias_variable([num_hidden])\n",
    "f = tf.nn.tanh(tf.add(tf.matmul(c_flat, f_weights_l1),f_biases_l1))\n",
    "\n",
    "out_weights = weight_variable([num_hidden, num_labels])\n",
    "out_biases = bias_variable([num_labels])\n",
    "y_ = tf.nn.softmax(tf.matmul(f, out_weights) + out_biases)\n",
    "\n",
    "# loss func\n",
    "loss = -tf.reduce_sum(Y * tf.log(y_))\n",
    "optimizer = tf.train.GradientDescentOptimizer(learning_rate = learning_rate).minimize(loss)\n",
    "\n",
    "correct_prediction = tf.equal(tf.argmax(y_,1), tf.argmax(Y,1))\n",
    "accuracy = tf.reduce_mean(tf.cast(correct_prediction, tf.float32))\n",
    "\n",
    "cost_history = np.empty(shape=[1], dtype=float)"
   ]
  },
  {
   "cell_type": "markdown",
   "metadata": {},
   "source": [
    "# train and test"
   ]
  },
  {
   "cell_type": "code",
   "execution_count": 7,
   "metadata": {
    "scrolled": true
   },
   "outputs": [
    {
     "name": "stdout",
     "output_type": "stream",
     "text": [
      "Epoch:  0  Training Loss:  0.169573  Training Accuracy:  0.998468\n",
      "Epoch:  1  Training Loss:  0.0655929  Training Accuracy:  0.99883\n",
      "Epoch:  2  Training Loss:  0.0422432  Training Accuracy:  0.999049\n",
      "Epoch:  3  Training Loss:  0.0301881  Training Accuracy:  0.999699\n",
      "Epoch:  4  Training Loss:  0.0227108  Training Accuracy:  0.999805\n",
      "Epoch:  5  Training Loss:  0.017843  Training Accuracy:  0.99983\n",
      "Epoch:  6  Training Loss:  0.0145738  Training Accuracy:  0.999861\n",
      "Epoch:  7  Training Loss:  0.012415  Training Accuracy:  0.999861\n",
      "Epoch:  8  Training Loss:  0.0108439  Training Accuracy:  0.999911\n",
      "Epoch:  9  Training Loss:  0.00970526  Training Accuracy:  0.999911\n",
      "Epoch:  10  Training Loss:  0.00887846  Training Accuracy:  0.999924\n",
      "Epoch:  11  Training Loss:  0.00820043  Training Accuracy:  0.999924\n",
      "Epoch:  12  Training Loss:  0.00756564  Training Accuracy:  0.999924\n",
      "Epoch:  13  Training Loss:  0.00687725  Training Accuracy:  0.999923\n",
      "Epoch:  14  Training Loss:  0.00623022  Training Accuracy:  0.999949\n",
      "Epoch:  15  Training Loss:  0.00561121  Training Accuracy:  0.999949\n",
      "Epoch:  16  Training Loss:  0.00504572  Training Accuracy:  0.999948\n",
      "Epoch:  17  Training Loss:  0.00451827  Training Accuracy:  0.999942\n",
      "Epoch:  18  Training Loss:  0.00406809  Training Accuracy:  0.999942\n",
      "Epoch:  19  Training Loss:  0.00365216  Training Accuracy:  0.999942\n",
      "Epoch:  20  Training Loss:  0.003293  Training Accuracy:  0.999942\n",
      "Epoch:  21  Training Loss:  0.00297659  Training Accuracy:  0.999942\n",
      "Epoch:  22  Training Loss:  0.00270797  Training Accuracy:  0.999949\n",
      "Epoch:  23  Training Loss:  0.00245776  Training Accuracy:  0.999992\n",
      "Epoch:  24  Training Loss:  0.00224364  Training Accuracy:  0.999992\n",
      "Epoch:  25  Training Loss:  0.00206478  Training Accuracy:  0.999999\n",
      "Epoch:  26  Training Loss:  0.00189863  Training Accuracy:  0.999999\n",
      "Epoch:  27  Training Loss:  0.00175051  Training Accuracy:  0.999999\n",
      "Epoch:  28  Training Loss:  0.00162861  Training Accuracy:  0.999999\n",
      "Epoch:  29  Training Loss:  0.00151019  Training Accuracy:  0.999999\n",
      "Epoch:  30  Training Loss:  0.0014127  Training Accuracy:  0.999999\n",
      "Epoch:  31  Training Loss:  0.00131629  Training Accuracy:  0.999999\n",
      "Epoch:  32  Training Loss:  0.00124128  Training Accuracy:  0.999999\n",
      "Epoch:  33  Training Loss:  0.00117289  Training Accuracy:  0.999999\n",
      "Epoch:  34  Training Loss:  0.00110087  Training Accuracy:  0.999999\n",
      "Epoch:  35  Training Loss:  0.0010456  Training Accuracy:  0.999999\n",
      "Epoch:  36  Training Loss:  0.000983592  Training Accuracy:  0.999999\n",
      "Epoch:  37  Training Loss:  0.00093685  Training Accuracy:  0.999999\n",
      "Epoch:  38  Training Loss:  0.000895414  Training Accuracy:  0.999999\n",
      "Epoch:  39  Training Loss:  0.000845576  Training Accuracy:  0.999999\n",
      "Epoch:  40  Training Loss:  0.000810282  Training Accuracy:  0.999999\n",
      "Epoch:  41  Training Loss:  0.000778267  Training Accuracy:  0.999999\n",
      "Epoch:  42  Training Loss:  0.000748637  Training Accuracy:  0.999999\n",
      "Epoch:  43  Training Loss:  0.000709889  Training Accuracy:  0.999999\n",
      "Epoch:  44  Training Loss:  0.000682704  Training Accuracy:  0.999999\n",
      "Epoch:  45  Training Loss:  0.000659693  Training Accuracy:  0.999999\n",
      "Epoch:  46  Training Loss:  0.000637754  Training Accuracy:  0.999999\n",
      "Epoch:  47  Training Loss:  0.000615697  Training Accuracy:  0.999999\n",
      "Epoch:  48  Training Loss:  0.000584938  Training Accuracy:  0.999999\n",
      "Epoch:  49  Training Loss:  0.000566935  Training Accuracy:  0.999999\n",
      "Epoch:  50  Training Loss:  0.000550124  Training Accuracy:  0.999999\n",
      "Epoch:  51  Training Loss:  0.000534744  Training Accuracy:  0.999999\n",
      "Epoch:  52  Training Loss:  0.000519721  Training Accuracy:  0.999999\n",
      "Epoch:  53  Training Loss:  0.000505772  Training Accuracy:  0.999999\n",
      "Epoch:  54  Training Loss:  0.000480975  Training Accuracy:  0.999999\n",
      "Epoch:  55  Training Loss:  0.000468516  Training Accuracy:  0.999999\n",
      "Epoch:  56  Training Loss:  0.000456713  Training Accuracy:  0.999999\n",
      "Epoch:  57  Training Loss:  0.000445744  Training Accuracy:  0.999999\n",
      "Epoch:  58  Training Loss:  0.000435252  Training Accuracy:  0.999999\n",
      "Epoch:  59  Training Loss:  0.000424999  Training Accuracy:  0.999999\n",
      "Epoch:  60  Training Loss:  0.000415462  Training Accuracy:  0.999999\n",
      "Epoch:  61  Training Loss:  0.000405924  Training Accuracy:  0.999999\n",
      "Epoch:  62  Training Loss:  0.000385657  Training Accuracy:  0.999999\n",
      "Epoch:  63  Training Loss:  0.000377431  Training Accuracy:  0.999999\n",
      "Epoch:  64  Training Loss:  0.000369801  Training Accuracy:  0.999999\n",
      "Epoch:  65  Training Loss:  0.000362052  Training Accuracy:  0.999999\n",
      "Epoch:  66  Training Loss:  0.000353349  Training Accuracy:  0.999999\n",
      "Epoch:  67  Training Loss:  0.000346434  Training Accuracy:  0.999999\n",
      "Epoch:  68  Training Loss:  0.000339639  Training Accuracy:  0.999999\n",
      "Epoch:  69  Training Loss:  0.000333558  Training Accuracy:  0.999999\n",
      "Epoch:  70  Training Loss:  0.000327478  Training Accuracy:  0.999999\n",
      "Epoch:  71  Training Loss:  0.000321398  Training Accuracy:  0.999999\n",
      "Epoch:  72  Training Loss:  0.000316152  Training Accuracy:  0.999999\n",
      "Epoch:  73  Training Loss:  0.000310311  Training Accuracy:  0.999999\n",
      "Epoch:  74  Training Loss:  0.000305304  Training Accuracy:  0.999999\n",
      "Epoch:  75  Training Loss:  0.000288614  Training Accuracy:  0.999999\n",
      "Epoch:  76  Training Loss:  0.000283965  Training Accuracy:  0.999999\n",
      "Epoch:  77  Training Loss:  0.000278957  Training Accuracy:  0.999999\n",
      "Epoch:  78  Training Loss:  0.000274785  Training Accuracy:  0.999999\n",
      "Epoch:  79  Training Loss:  0.000270612  Training Accuracy:  0.999999\n",
      "Epoch:  80  Training Loss:  0.00026632  Training Accuracy:  0.999999\n",
      "Epoch:  81  Training Loss:  0.000262267  Training Accuracy:  0.999999\n",
      "Epoch:  82  Training Loss:  0.000258214  Training Accuracy:  0.999999\n",
      "Epoch:  83  Training Loss:  0.000254637  Training Accuracy:  0.999999\n",
      "Epoch:  84  Training Loss:  0.000250941  Training Accuracy:  0.999999\n",
      "Epoch:  85  Training Loss:  0.000247246  Training Accuracy:  0.999999\n",
      "Epoch:  86  Training Loss:  0.000243669  Training Accuracy:  0.999999\n",
      "Epoch:  87  Training Loss:  0.000240212  Training Accuracy:  0.999999\n",
      "Epoch:  88  Training Loss:  0.000236993  Training Accuracy:  0.999999\n",
      "Epoch:  89  Training Loss:  0.000234132  Training Accuracy:  0.999999\n",
      "Epoch:  90  Training Loss:  0.000231152  Training Accuracy:  0.999999\n",
      "Epoch:  91  Training Loss:  0.000228052  Training Accuracy:  0.999999\n",
      "Epoch:  92  Training Loss:  0.000225429  Training Accuracy:  0.999999\n",
      "Epoch:  93  Training Loss:  0.00022233  Training Accuracy:  0.999999\n",
      "Epoch:  94  Training Loss:  0.000219588  Training Accuracy:  0.999999\n",
      "Epoch:  95  Training Loss:  0.000217084  Training Accuracy:  0.999999\n",
      "Epoch:  96  Training Loss:  0.000214461  Training Accuracy:  0.999999\n",
      "Epoch:  97  Training Loss:  0.000211839  Training Accuracy:  0.999999\n",
      "Epoch:  98  Training Loss:  0.00019813  Training Accuracy:  0.999999\n",
      "Epoch:  99  Training Loss:  0.000195745  Training Accuracy:  0.999999\n",
      "Testing Accuracy: 0.99999910593\n",
      "()\n",
      "temp_y_true [ 0  1  2  4  5  6  7  8  9 10 11 12 13]\n",
      "temp_y_pred [ 0  1  2  4  5  6  7  8  9 10 11 12 13]\n"
     ]
    },
    {
     "ename": "NameError",
     "evalue": "name 'fault_label' is not defined",
     "output_type": "error",
     "traceback": [
      "\u001b[0;31m---------------------------------------------------------------------------\u001b[0m",
      "\u001b[0;31mNameError\u001b[0m                                 Traceback (most recent call last)",
      "\u001b[0;32m<ipython-input-7-29fb5a6a9e8e>\u001b[0m in \u001b[0;36m<module>\u001b[0;34m()\u001b[0m\n\u001b[1;32m     24\u001b[0m \u001b[0;34m\u001b[0m\u001b[0m\n\u001b[1;32m     25\u001b[0m     print(classification_report(y_true, y_pred, \n\u001b[0;32m---> 26\u001b[0;31m                                 target_names = fault_label.values()))\n\u001b[0m\u001b[1;32m     27\u001b[0m     \u001b[0;32mprint\u001b[0m\u001b[0;34m(\u001b[0m\u001b[0;34m\"confusion_matrix: \"\u001b[0m\u001b[0;34m)\u001b[0m\u001b[0;34m\u001b[0m\u001b[0m\n\u001b[1;32m     28\u001b[0m     \u001b[0;32mprint\u001b[0m \u001b[0mconfusion_matrix\u001b[0m\u001b[0;34m(\u001b[0m\u001b[0my_true\u001b[0m\u001b[0;34m,\u001b[0m \u001b[0my_pred\u001b[0m\u001b[0;34m)\u001b[0m\u001b[0;34m\u001b[0m\u001b[0m\n",
      "\u001b[0;31mNameError\u001b[0m: name 'fault_label' is not defined"
     ]
    }
   ],
   "source": [
    "with tf.Session() as session:\n",
    "    tf.global_variables_initializer().run()\n",
    "    for epoch in range(training_epochs):\n",
    "        for b in range(total_batches):    \n",
    "            offset = (b * batch_size) % (train_y.shape[0] - batch_size)\n",
    "            batch_x = train_x[offset:(offset + batch_size), :, :, :]\n",
    "            batch_y = train_y[offset:(offset + batch_size), :]\n",
    "            _, c = session.run([optimizer, loss],feed_dict={X: batch_x, Y : batch_y})\n",
    "            cost_history = np.append(cost_history,c)\n",
    "        print \"Epoch: \",epoch,\" Training Loss: \",c,\" Training Accuracy: \", \\\n",
    "          session.run(accuracy, feed_dict={X: train_x, Y: train_y})\n",
    "    y_pred = tf.argmax(y_, 1)\n",
    "    y_true = np.argmax(test_y, 1)\n",
    "    final_acc, y_pred = session.run([accuracy, y_pred], feed_dict={X: test_x, Y: test_y})\n",
    "    print \"Testing Accuracy: {}\".format(final_acc)\n",
    "    print()\n",
    "    \n",
    "    # model metrics\n",
    "    temp_y_true = np.unique(y_true)\n",
    "    temp_y_pred = np.unique(y_pred) \n",
    "    np.save(\"data/y_true\", y_true) \n",
    "    np.save(\"data/y_pred\", y_pred) \n",
    "    print \"temp_y_true\", temp_y_true \n",
    "    print \"temp_y_pred\", temp_y_pred\n",
    "    \n",
    "    print(classification_report(y_true, y_pred, \n",
    "                                target_names = fault_label.values()))\n",
    "    print(\"confusion_matrix: \")\n",
    "    print confusion_matrix(y_true, y_pred)"
   ]
  },
  {
   "cell_type": "markdown",
   "metadata": {},
   "source": [
    "# confusion matrix"
   ]
  },
  {
   "cell_type": "code",
   "execution_count": 12,
   "metadata": {},
   "outputs": [
    {
     "name": "stdout",
     "output_type": "stream",
     "text": [
      "               precision    recall  f1-score   support\n",
      "\n",
      "     security       1.00      1.00      1.00       279\n",
      "       others       1.00      1.00      1.00      1475\n",
      "    processor       1.00      1.00      1.00      5774\n",
      "         disk       1.00      1.00      1.00        16\n",
      "      network       1.00      1.00      1.00       248\n",
      "         file       1.00      1.00      1.00     29818\n",
      "     database       1.00      1.00      1.00        64\n",
      "      service       1.00      1.00      1.00       479\n",
      "       memory       1.00      1.00      1.00       207\n",
      "communication       1.00      1.00      1.00       383\n",
      "       system       1.00      1.00      1.00        34\n",
      "       driver       1.00      1.00      1.00      1102\n",
      "           io       1.00      1.00      1.00       121\n",
      "\n",
      "  avg / total       1.00      1.00      1.00     40000\n",
      "\n",
      "[[  279     0     0     0     0     0     0     0     0     0     0     0\n",
      "      0]\n",
      " [    0  1475     0     0     0     0     0     0     0     0     0     0\n",
      "      0]\n",
      " [    0     0  5774     0     0     0     0     0     0     0     0     0\n",
      "      0]\n",
      " [    0     0     0    16     0     0     0     0     0     0     0     0\n",
      "      0]\n",
      " [    0     0     0     0   248     0     0     0     0     0     0     0\n",
      "      0]\n",
      " [    0     0     0     0     0 29818     0     0     0     0     0     0\n",
      "      0]\n",
      " [    0     0     0     0     0     0    64     0     0     0     0     0\n",
      "      0]\n",
      " [    0     0     0     0     0     0     0   479     0     0     0     0\n",
      "      0]\n",
      " [    0     0     0     0     0     0     0     0   207     0     0     0\n",
      "      0]\n",
      " [    0     0     0     0     0     0     0     0     0   383     0     0\n",
      "      0]\n",
      " [    0     0     0     0     0     0     0     0     0     0    34     0\n",
      "      0]\n",
      " [    0     0     0     0     0     0     0     0     0     0     0  1102\n",
      "      0]\n",
      " [    0     0     0     0     0     0     0     0     0     0     0     0\n",
      "    121]]\n",
      "()\n"
     ]
    },
    {
     "data": {
      "image/png": "[encoded data removed]",
      "text/plain": [
       "<matplotlib.figure.Figure at 0x7f35f7738b90>"
      ]
     },
     "metadata": {},
     "output_type": "display_data"
    }
   ],
   "source": [
    "def plot_confusion_matrix(cm, title='Normalized Confusion matrix', \n",
    "                          cmap=plt.cm.get_cmap(\"Blues\")): \n",
    "    cm = cm / cm.astype(np.float).sum(axis=1) \n",
    "    #print \"confusion_matrix: \\n{}\".format(cm) \n",
    "    plt.imshow(cm, interpolation='nearest', cmap=cmap) \n",
    "    plt.title(title) \n",
    "    plt.colorbar() \n",
    "    tick_marks =np.arange(len(fault_label))\n",
    "    plt.xticks(tick_marks, fault_label.values(), rotation=45) \n",
    "    plt.yticks(tick_marks, fault_label.values()) \n",
    "    plt.tight_layout() \n",
    "    plt.ylabel('True label') \n",
    "    plt.xlabel('Predicted label') \n",
    "    plt.show()\n",
    "\n",
    "def test_(): \n",
    "    y_true = np.load(\"data/y_true.npy\") \n",
    "    y_pred = np.load(\"data/y_pred.npy\") \n",
    "    print(classification_report(y_true, y_pred, \n",
    "          target_names = fault_label.values()))\n",
    "    print(confusion_matrix(y_true, y_pred))\n",
    "    print()\n",
    "    plot_confusion_matrix(confusion_matrix(y_true, y_pred))\n",
    "\n",
    "if __name__ == \"__main__\":\n",
    "    test_()"
   ]
  },
  {
   "cell_type": "code",
   "execution_count": null,
   "metadata": {
    "collapsed": true
   },
   "outputs": [],
   "source": []
  }
 ],
 "metadata": {
  "kernelspec": {
   "display_name": "Python 2",
   "language": "python",
   "name": "python2"
  },
  "language_info": {
   "codemirror_mode": {
    "name": "ipython",
    "version": 2
   },
   "file_extension": ".py",
   "mimetype": "text/x-python",
   "name": "python",
   "nbconvert_exporter": "python",
   "pygments_lexer": "ipython2",
   "version": "2.7.12"
  }
 },
 "nbformat": 4,
 "nbformat_minor": 2
}
