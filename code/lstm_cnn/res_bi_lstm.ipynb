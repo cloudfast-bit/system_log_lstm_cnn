{
 "cells": [
  {
   "cell_type": "code",
   "execution_count": 22,
   "metadata": {},
   "outputs": [],
   "source": [
    "import numpy as np\n",
    "import os\n",
    "import matplotlib.pyplot as plt\n",
    "from sklearn import cross_validation\n",
    "from sklearn.metrics import classification_report, confusion_matrix\n",
    "from lstm_architecture import one_hot, run_with_config"
   ]
  },
  {
   "cell_type": "markdown",
   "metadata": {},
   "source": [
    "# network config"
   ]
  },
  {
   "cell_type": "code",
   "execution_count": 23,
   "metadata": {
    "collapsed": true
   },
   "outputs": [],
   "source": [
    "class Config(object):\n",
    "    \"\"\"\n",
    "    define a class to store parameters,\n",
    "    the input should be feature mat of training and testing\n",
    "    \"\"\"\n",
    "\n",
    "    def __init__(self, X_train, X_test):\n",
    "        # Data shaping\n",
    "        self.train_count = len(X_train)  # 160000 training series\n",
    "        self.test_data_count = len(X_test)  # 40000 testing series\n",
    "        self.n_steps = len(X_train[0])  # 14 time_steps per series\n",
    "        self.n_classes = 14  # Final output classes\n",
    "\n",
    "        # Training\n",
    "        self.learning_rate = 0.0001\n",
    "        self.lambda_loss_amount = 0.005\n",
    "        self.training_epochs = 1000\n",
    "        self.batch_size = 128\n",
    "        self.clip_gradients = 15.0\n",
    "        self.gradient_noise_scale = None\n",
    "        # Dropout is added on inputs and after each stacked layers (but not\n",
    "        # between residual layers).\n",
    "        self.keep_prob_for_dropout = 0.85  # **(1/3.0)\n",
    "\n",
    "        # Linear+relu structure\n",
    "        self.bias_mean = 0.3\n",
    "        # I would recommend between 0.1 and 1.0 or to change and use a xavier\n",
    "        # initializer\n",
    "        self.weights_stddev = 0.2\n",
    "\n",
    "        ########\n",
    "        # NOTE: I think that if any of the below parameters are changed,\n",
    "        # the best is to readjust every parameters in the \"Training\" section\n",
    "        # above to properly compare the architectures only once optimised.\n",
    "        ########\n",
    "\n",
    "        # LSTM structure\n",
    "        # Features count is of 9: three 3D sensors features over time\n",
    "        self.n_inputs = len(X_train[0][0])\n",
    "        self.n_hidden = 128  # nb of neurons inside the neural network\n",
    "        # Use bidir in every LSTM cell, or not:\n",
    "        self.use_bidirectionnal_cells = False\n",
    "\n",
    "        # High-level deep architecture\n",
    "        self.also_add_dropout_between_stacked_cells = False "
   ]
  },
  {
   "cell_type": "markdown",
   "metadata": {},
   "source": [
    "# load data"
   ]
  },
  {
   "cell_type": "code",
   "execution_count": null,
   "metadata": {},
   "outputs": [
    {
     "name": "stdout",
     "output_type": "stream",
     "text": [
      "Separating data into 80% training set & 20% test set...\n",
      "Dataset separated.\n",
      "\n",
      "((160000, 14, 1), (160000, 14), (40000, 14))\n"
     ]
    }
   ],
   "source": [
    "def load_X(X_path):\n",
    "    X_list = []\n",
    "    file = open(X_path, 'r')\n",
    "    # Read dataset from disk, dealing with text files' syntax\n",
    "    X_signal = [np.array(item, dtype=np.float32) for item in [\n",
    "               line.strip().split('\\t') for line in file]]\n",
    "    X_list.append(X_signal)\n",
    "    file.close()\n",
    "    return np.transpose(np.array(X_list), (1, 2, 0))\n",
    "\n",
    "\n",
    "# Load \"y\" (the neural network's training and testing outputs)\n",
    "def load_y(y_path):\n",
    "    file = open(y_path, 'r')\n",
    "    # Read dataset from disk, dealing with text file's syntax\n",
    "    y_ = np.array([elem for elem in [line.strip().split('\\t') for line in file]], \n",
    "                  dtype=np.int32)\n",
    "    file.close()\n",
    "    # Substract 1 to each output class for friendly 0-based indexing\n",
    "    return one_hot(y_)\n",
    "\n",
    "labels = {'0':'file', '1':'network', '2':'service', '3':'database', '4':'communication', '5':'memory', '6':'driver', \n",
    "    '7':'system', '8':'application', '9':'io', '10':'others', '11':'security', '12':'disk', '13':'processor'}\n",
    "\n",
    "dataset_path = \"data_msg_type/\"\n",
    "X_path = dataset_path + \"x.txt\"\n",
    "y_path = dataset_path + \"y.txt\"\n",
    "\n",
    "X = load_X(X_path)\n",
    "y = load_y(y_path)\n",
    "\n",
    "# Separate our training data into test and training.\n",
    "print(\"Separating data into 80% training set & 20% test set...\")\n",
    "X_train, X_test, y_train, y_test = cross_validation.train_test_split(\n",
    "    X, y, test_size=0.2, random_state=33)#add random state here...\n",
    "print(\"Dataset separated.\\n\")\n",
    "\n",
    "print(X_train.shape, y_train.shape, y_test.shape)"
   ]
  },
  {
   "cell_type": "markdown",
   "metadata": {},
   "source": [
    "# train and test"
   ]
  },
  {
   "cell_type": "code",
   "execution_count": null,
   "metadata": {
    "scrolled": true
   },
   "outputs": [
    {
     "name": "stdout",
     "output_type": "stream",
     "text": [
      "learning_rate: 0.001\n",
      "lambda_loss_amount: 0.005\n",
      "\n",
      "Some useful info to get an insight on dataset's shape and normalisation:\n",
      "features shape, labels shape, each features mean, each features standard deviation\n",
      "((40000, 14, 1), (40000, 14), 0.11178214, 0.41461828)\n",
      "the dataset is therefore properly normalised, as expected.\n",
      "(14, ?, 1)\n",
      "(?, 1)\n",
      "(14, '(?, 1)')\n",
      "\n",
      "Creating hidden #1:\n",
      "(14, '(?, 128)')\n",
      "\n",
      "Creating hidden #2:\n",
      "(14, '(?, 128)')\n",
      "\n",
      "Creating hidden #3:\n",
      "(14, '(?, 128)')\n",
      "\n",
      "Unregularised variables:\n",
      "LSTM_network/layer_1/relu_fc_biases_noreg:0\n",
      "LSTM_network/layer_2/relu_fc_biases_noreg:0\n",
      "LSTM_network/layer_3/relu_fc_biases_noreg:0\n",
      "LSTM_network/relu_fc_biases_noreg:0\n",
      "iter: 0, train loss: 0.467014074326, train accuracy: 0.8984375, train F1-score: 0.870456263396, test loss: 0.343873798847, test accuracy: 0.927174210548, test F1-score: 0.896819285876\n",
      "iter: 1, train loss: 0.393306732178, train accuracy: 0.9296875, train F1-score: 0.89816604812, test loss: 0.285246133804, test accuracy: 0.957024037838, test F1-score: 0.945844475771\n",
      "iter: 2, train loss: 0.470619916916, train accuracy: 0.90625, train F1-score: 0.915601605595, test loss: 0.294136881828, test accuracy: 0.956449151039, test F1-score: 0.945235777505\n",
      "iter: 3, train loss: 0.534042418003, train accuracy: 0.90625, train F1-score: 0.919158964202, test loss: 0.48237323761, test accuracy: 0.912574231625, test F1-score: 0.880606140519\n",
      "iter: 4, train loss: 0.46216788888, train accuracy: 0.90625, train F1-score: 0.887945677008, test loss: 0.585107326508, test accuracy: 0.951224148273, test F1-score: 0.937665431602\n",
      "iter: 5, train loss: 0.402644455433, train accuracy: 0.921875, train F1-score: 0.897565797152, test loss: 0.252929061651, test accuracy: 0.953799128532, test F1-score: 0.940873718664\n",
      "iter: 6, train loss: 0.336209148169, train accuracy: 0.9375, train F1-score: 0.906112823997, test loss: 0.26902666688, test accuracy: 0.953574180603, test F1-score: 0.940608564238\n",
      "iter: 7, train loss: 0.372602164745, train accuracy: 0.9296875, train F1-score: 0.872701937135, test loss: 0.286313802004, test accuracy: 0.954049050808, test F1-score: 0.941210110978\n",
      "iter: 8, train loss: 0.383688956499, train accuracy: 0.9140625, train F1-score: 0.87124369493, test loss: 0.259898096323, test accuracy: 0.955574095249, test F1-score: 0.944032668867\n",
      "iter: 9, train loss: 0.440233200788, train accuracy: 0.90625, train F1-score: 0.88612091639, test loss: 0.269380629063, test accuracy: 0.956924080849, test F1-score: 0.94574240992\n",
      "iter: 10, train loss: 0.420829981565, train accuracy: 0.9140625, train F1-score: 0.904890588714, test loss: 0.275606930256, test accuracy: 0.953599214554, test F1-score: 0.940601436658\n",
      "iter: 11, train loss: 0.374148964882, train accuracy: 0.9296875, train F1-score: 0.906443743226, test loss: 0.283676117659, test accuracy: 0.956924080849, test F1-score: 0.94574240992\n",
      "iter: 12, train loss: 0.425955444574, train accuracy: 0.9296875, train F1-score: 0.929437217939, test loss: 0.254701942205, test accuracy: 0.953599154949, test F1-score: 0.940607678751\n",
      "iter: 13, train loss: 0.465727359056, train accuracy: 0.8984375, train F1-score: 0.912777611044, test loss: 0.253393739462, test accuracy: 0.956924140453, test F1-score: 0.94574240992\n",
      "iter: 14, train loss: 2.68759298325, train accuracy: 0.0078125, train F1-score: 0.0, test loss: 2.68720078468, test accuracy: 0.00697499979287, test F1-score: 9.66272747586e-05\n",
      "iter: 15, train loss: 2.4234597683, train accuracy: 0.09375, train F1-score: 0.159722222222, test loss: 2.23851156235, test accuracy: 0.181224986911, test F1-score: 0.171497803843\n",
      "iter: 16, train loss: 0.455215454102, train accuracy: 0.90625, train F1-score: 0.890398135013, test loss: 0.381812483072, test accuracy: 0.927174210548, test F1-score: 0.896788405394\n",
      "iter: 17, train loss: 0.511703252792, train accuracy: 0.890625, train F1-score: 0.923322678749, test loss: 0.37620806694, test accuracy: 0.930474162102, test F1-score: 0.901206292454\n",
      "iter: 18, train loss: 0.442354440689, train accuracy: 0.90625, train F1-score: 0.895262521044, test loss: 0.372762560844, test accuracy: 0.927999258041, test F1-score: 0.898054581675\n",
      "iter: 19, train loss: 0.599434256554, train accuracy: 0.8828125, train F1-score: 0.858793512098, test loss: 0.414443671703, test accuracy: 0.927074193954, test F1-score: 0.89528850377\n",
      "iter: 20, train loss: 0.581034958363, train accuracy: 0.875, train F1-score: 0.818545012472, test loss: 0.400389015675, test accuracy: 0.930824160576, test F1-score: 0.901681694293\n",
      "iter: 21, train loss: 0.466658294201, train accuracy: 0.8984375, train F1-score: 0.839879625268, test loss: 0.392163783312, test accuracy: 0.927999258041, test F1-score: 0.898057834336\n",
      "iter: 22, train loss: 0.632371664047, train accuracy: 0.875, train F1-score: 0.928095407197, test loss: 0.385666489601, test accuracy: 0.930499136448, test F1-score: 0.901029597975\n",
      "iter: 23, train loss: 0.509972572327, train accuracy: 0.890625, train F1-score: 0.886241682204, test loss: 0.398035824299, test accuracy: 0.926674187183, test F1-score: 0.894482575938\n",
      "iter: 24, train loss: 0.444217741489, train accuracy: 0.9140625, train F1-score: 0.883449128592, test loss: 0.397148638964, test accuracy: 0.930474162102, test F1-score: 0.901205650689\n",
      "iter: 25, train loss: 0.49479162693, train accuracy: 0.890625, train F1-score: 0.848454749822, test loss: 0.393744826317, test accuracy: 0.927499115467, test F1-score: 0.89730930783\n",
      "iter: 26, train loss: 0.483956992626, train accuracy: 0.8984375, train F1-score: 0.865241529304, test loss: 0.38697373867, test accuracy: 0.927999198437, test F1-score: 0.898104941829\n",
      "iter: 27, train loss: 0.464815020561, train accuracy: 0.90625, train F1-score: 0.847624939399, test loss: 0.377006113529, test accuracy: 0.930474162102, test F1-score: 0.901211892783\n",
      "iter: 28, train loss: 0.526050567627, train accuracy: 0.890625, train F1-score: 0.829196785536, test loss: 0.373915314674, test accuracy: 0.93342423439, test F1-score: 0.905890155226\n",
      "iter: 29, train loss: 0.436975449324, train accuracy: 0.8828125, train F1-score: 0.818317495127, test loss: 0.272007465363, test accuracy: 0.935299158096, test F1-score: 0.908062028903\n",
      "iter: 30, train loss: 0.383484810591, train accuracy: 0.90625, train F1-score: 0.89396050759, test loss: 0.298042953014, test accuracy: 0.933799147606, test F1-score: 0.906344904446\n",
      "iter: 31, train loss: 0.448234677315, train accuracy: 0.8828125, train F1-score: 0.834039444949, test loss: 0.278859376907, test accuracy: 0.933799147606, test F1-score: 0.906344904446\n",
      "iter: 32, train loss: 0.432285666466, train accuracy: 0.90625, train F1-score: 0.884363692899, test loss: 0.324548989534, test accuracy: 0.914899170399, test F1-score: 0.894717957054\n",
      "iter: 33, train loss: 0.391476690769, train accuracy: 0.8984375, train F1-score: 0.940423768939, test loss: 0.271031618118, test accuracy: 0.949299156666, test F1-score: 0.931152184763\n"
     ]
    }
   ],
   "source": [
    "n_layers_in_highway = 0\n",
    "n_stacked_layers = 3\n",
    "trial_name = \"{}x{}\".format(n_layers_in_highway, n_stacked_layers)\n",
    "\n",
    "for learning_rate in [0.001]:  # [0.01, 0.007, 0.001, 0.0007, 0.0001]:\n",
    "    for lambda_loss_amount in [0.005]:\n",
    "        for clip_gradients in [15.0]:\n",
    "            print \"learning_rate: {}\".format(learning_rate)\n",
    "            print \"lambda_loss_amount: {}\".format(lambda_loss_amount)\n",
    "            print \"\"\n",
    "\n",
    "            class EditedConfig(Config):\n",
    "                def __init__(self, X, Y):\n",
    "                    super(EditedConfig, self).__init__(X, Y)\n",
    "\n",
    "                    # Edit only some parameters:\n",
    "                    self.learning_rate = learning_rate\n",
    "                    self.lambda_loss_amount = lambda_loss_amount\n",
    "                    self.clip_gradients = clip_gradients\n",
    "                    # Architecture params:\n",
    "                    self.n_layers_in_highway = n_layers_in_highway\n",
    "                    self.n_stacked_layers = n_stacked_layers\n",
    "\n",
    "            # # Useful catch upon looping (e.g.: not enough memory)\n",
    "            # try:\n",
    "            #     accuracy_out, best_accuracy = run_with_config(EditedConfig)\n",
    "            # except:\n",
    "            #     accuracy_out, best_accuracy = -1, -1\n",
    "            accuracy_out, best_accuracy, f1_score_out, best_f1_score = (\n",
    "                run_with_config(EditedConfig, X_train, y_train, X_test, y_test)\n",
    "            )\n",
    "            print (accuracy_out, best_accuracy, f1_score_out, best_f1_score)\n",
    "\n",
    "            with open('{}_result_.txt'.format(trial_name), 'a') as f:\n",
    "                f.write(str(learning_rate) + ' \\t' + str(lambda_loss_amount) + \\\n",
    "                        ' \\t' + str(clip_gradients) + ' \\t' + str(accuracy_out) + \\\n",
    "                        ' \\t' + str(best_accuracy) + ' \\t' + str(f1_score_out) + \\\n",
    "                        ' \\t' + str(best_f1_score) + '\\n\\n')\n",
    "\n",
    "            print \"______________________________________\"\n",
    "        print \"\"\n",
    "print \"Done.\""
   ]
  },
  {
   "cell_type": "markdown",
   "metadata": {},
   "source": [
    "# confusion matrix"
   ]
  },
  {
   "cell_type": "code",
   "execution_count": 21,
   "metadata": {},
   "outputs": [
    {
     "name": "stdout",
     "output_type": "stream",
     "text": [
      "               precision    recall  f1-score   support\n",
      "\n",
      "     security       1.00      1.00      1.00       279\n",
      "       others       1.00      1.00      1.00      3115\n",
      "    processor       1.00      1.00      1.00      5774\n",
      "         disk       1.00      1.00      1.00        16\n",
      "      network       1.00      1.00      1.00       248\n",
      "         file       1.00      1.00      1.00     29818\n",
      "     database       1.00      1.00      1.00        64\n",
      "      service       1.00      1.00      1.00       479\n",
      "       memory       1.00      1.00      1.00       207\n",
      "\n",
      "  avg / total       1.00      1.00      1.00     40000\n",
      "\n",
      "[[  279     0     0     0     0     0     0     0     0]\n",
      " [    0  3115     0     0     0     0     0     0     0]\n",
      " [    0     0  5774     0     0     0     0     0     0]\n",
      " [    0     0     0    16     0     0     0     0     0]\n",
      " [    0     0     0     0   248     0     0     0     0]\n",
      " [    0     0     0     0     0 29818     0     0     0]\n",
      " [    0     0     0     0     0     0    64     0     0]\n",
      " [    1     0     0     0     0     0     0   478     0]\n",
      " [    0     0     0     0     0     0     0     0   207]]\n",
      "()\n"
     ]
    },
    {
     "data": {
      "image/png": "[encoded data removed]",
      "text/plain": [
       "<matplotlib.figure.Figure at 0x7fbc2d8afd10>"
      ]
     },
     "metadata": {},
     "output_type": "display_data"
    }
   ],
   "source": [
    "def plot_confusion_matrix(cm, title='Normalized Confusion matrix', \n",
    "                          cmap=plt.cm.get_cmap(\"Blues\")): \n",
    "    cm = cm / cm.astype(np.float).sum(axis=1) \n",
    "    #print \"confusion_matrix: \\n{}\".format(cm) \n",
    "    plt.imshow(cm, interpolation='nearest', cmap=cmap) \n",
    "    plt.title(title) \n",
    "    plt.colorbar() \n",
    "    tick_marks =np.arange(len(labels))\n",
    "    plt.xticks(tick_marks, labels.values(), rotation=45) \n",
    "    plt.yticks(tick_marks, labels.values()) \n",
    "    plt.tight_layout() \n",
    "    plt.ylabel('True label') \n",
    "    plt.xlabel('Predicted label') \n",
    "    plt.show()\n",
    "\n",
    "def test_(): \n",
    "    y_true = np.load(\"data/y_true.npy\") \n",
    "    y_pred = np.load(\"data/y_pred.npy\") \n",
    "    print(classification_report(y_true, y_pred, \n",
    "          target_names = labels.values()))\n",
    "    print(confusion_matrix(y_true, y_pred))\n",
    "    print()\n",
    "    plot_confusion_matrix(confusion_matrix(y_true, y_pred))\n",
    "\n",
    "if __name__ == \"__main__\":\n",
    "    test_()"
   ]
  },
  {
   "cell_type": "code",
   "execution_count": null,
   "metadata": {
    "collapsed": true
   },
   "outputs": [],
   "source": []
  }
 ],
 "metadata": {
  "kernelspec": {
   "display_name": "Python 2",
   "language": "python",
   "name": "python2"
  },
  "language_info": {
   "codemirror_mode": {
    "name": "ipython",
    "version": 2
   },
   "file_extension": ".py",
   "mimetype": "text/x-python",
   "name": "python",
   "nbconvert_exporter": "python",
   "pygments_lexer": "ipython2",
   "version": "2.7.12"
  }
 },
 "nbformat": 4,
 "nbformat_minor": 2
}
