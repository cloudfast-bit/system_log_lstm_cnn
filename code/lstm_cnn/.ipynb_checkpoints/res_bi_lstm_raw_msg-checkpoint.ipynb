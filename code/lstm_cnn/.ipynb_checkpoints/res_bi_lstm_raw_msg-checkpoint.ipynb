{
 "cells": [
  {
   "cell_type": "code",
   "execution_count": 1,
   "metadata": {},
   "outputs": [
    {
     "name": "stderr",
     "output_type": "stream",
     "text": [
      "/usr/local/lib/python2.7/dist-packages/sklearn/cross_validation.py:44: DeprecationWarning: This module was deprecated in version 0.18 in favor of the model_selection module into which all the refactored classes and functions are moved. Also note that the interface of the new CV iterators are different from that of this module. This module will be removed in 0.20.\n",
      "  \"This module will be removed in 0.20.\", DeprecationWarning)\n"
     ]
    }
   ],
   "source": [
    "import numpy as np\n",
    "import os\n",
    "import matplotlib.pyplot as plt\n",
    "from sklearn import cross_validation\n",
    "from sklearn.metrics import classification_report, confusion_matrix\n",
    "from lstm_architecture import one_hot, run_with_config"
   ]
  },
  {
   "cell_type": "markdown",
   "metadata": {},
   "source": [
    "# label"
   ]
  },
  {
   "cell_type": "code",
   "execution_count": 1,
   "metadata": {
    "collapsed": true
   },
   "outputs": [],
   "source": [
    "labels = {'0':'file', '1':'network', '2':'service', '3':'database', '4':'communication', '5':'memory', '6':'driver', \n",
    "    '7':'system', '8':'application', '9':'io', '10':'others', '11':'security', '12':'disk', '13':'processor'}"
   ]
  },
  {
   "cell_type": "markdown",
   "metadata": {},
   "source": [
    "# load data"
   ]
  },
  {
   "cell_type": "code",
   "execution_count": 6,
   "metadata": {},
   "outputs": [
    {
     "name": "stdout",
     "output_type": "stream",
     "text": [
      "Separating data into 80% training set & 20% test set...\n",
      "Dataset separated.\n",
      "\n",
      "((160000, 14, 1), (160000, 14), (40000, 14))\n"
     ]
    }
   ],
   "source": [
    "def load_X(X_path):\n",
    "    X_list = []\n",
    "    file = open(X_path, 'r')\n",
    "    # Read dataset from disk, dealing with text files' syntax\n",
    "    X_signal = [np.array(item, dtype=np.float32) for item in [\n",
    "               line.strip().split('\\t') for line in file]]\n",
    "    X_list.append(X_signal)\n",
    "    file.close()\n",
    "    return np.transpose(np.array(X_list), (1, 2, 0))\n",
    "\n",
    "\n",
    "# Load \"y\" (the neural network's training and testing outputs)\n",
    "def load_y(y_path):\n",
    "    file = open(y_path, 'r')\n",
    "    # Read dataset from disk, dealing with text file's syntax\n",
    "    y_ = np.array([elem for elem in [line.strip().split('\\t') for line in file]], \n",
    "                  dtype=np.int32)\n",
    "    file.close()\n",
    "    # Substract 1 to each output class for friendly 0-based indexing\n",
    "    return one_hot(y_)\n",
    "\n",
    "dataset_path = \"data_msg_type/\"\n",
    "X_path = dataset_path + \"semantic_sim.txt\"\n",
    "y_path = dataset_path + \"semantic_label_index.txt\"\n",
    "\n",
    "X = load_X(X_path)\n",
    "y = load_y(y_path)\n",
    "\n",
    "# Separate our training data into test and training.\n",
    "print(\"Separating data into 80% training set & 20% test set...\")\n",
    "X_train, X_test, y_train, y_test = cross_validation.train_test_split(\n",
    "    X, y, test_size=0.2, random_state=33)#add random state here...\n",
    "print(\"Dataset separated.\\n\")\n",
    "\n",
    "print(X_train.shape, y_train.shape, y_test.shape)"
   ]
  },
  {
   "cell_type": "markdown",
   "metadata": {},
   "source": [
    "# network config"
   ]
  },
  {
   "cell_type": "code",
   "execution_count": 2,
   "metadata": {
    "collapsed": true
   },
   "outputs": [],
   "source": [
    "class Config(object):\n",
    "    \"\"\"\n",
    "    define a class to store parameters,\n",
    "    the input should be feature mat of training and testing\n",
    "    \"\"\"\n",
    "\n",
    "    def __init__(self, X_train, X_test):\n",
    "        # Data shaping\n",
    "        self.train_count = len(X_train)  # 160000 training series\n",
    "        self.test_data_count = len(X_test)  # 40000 testing series\n",
    "        self.n_steps = len(X_train[0])  # 14 time_steps per series\n",
    "        self.n_classes = 14  # Final output classes\n",
    "\n",
    "        # Training\n",
    "        self.learning_rate = 0.0001\n",
    "        self.lambda_loss_amount = 0.005\n",
    "        self.training_epochs = 200\n",
    "        self.batch_size = 128\n",
    "        self.clip_gradients = 15.0\n",
    "        self.gradient_noise_scale = None\n",
    "        # Dropout is added on inputs and after each stacked layers (but not\n",
    "        # between residual layers).\n",
    "        self.keep_prob_for_dropout = 0.85  # **(1/3.0)\n",
    "\n",
    "        # Linear+relu structure\n",
    "        self.bias_mean = 0.3\n",
    "        # I would recommend between 0.1 and 1.0 or to change and use a xavier\n",
    "        # initializer\n",
    "        self.weights_stddev = 0.2\n",
    "\n",
    "        ########\n",
    "        # NOTE: I think that if any of the below parameters are changed,\n",
    "        # the best is to readjust every parameters in the \"Training\" section\n",
    "        # above to properly compare the architectures only once optimised.\n",
    "        ########\n",
    "\n",
    "        # LSTM structure\n",
    "        # Features count is of 9: three 3D sensors features over time\n",
    "        self.n_inputs = len(X_train[0][0])\n",
    "        self.n_hidden = 128  # nb of neurons inside the neural network\n",
    "        # Use bidir in every LSTM cell, or not:\n",
    "        self.use_bidirectionnal_cells = False\n",
    "\n",
    "        # High-level deep architecture\n",
    "        self.also_add_dropout_between_stacked_cells = False "
   ]
  },
  {
   "cell_type": "markdown",
   "metadata": {},
   "source": [
    "# train and test"
   ]
  },
  {
   "cell_type": "code",
   "execution_count": 4,
   "metadata": {
    "scrolled": true
   },
   "outputs": [
    {
     "name": "stdout",
     "output_type": "stream",
     "text": [
      "learning_rate: 0.001\n",
      "lambda_loss_amount: 0.005\n",
      "\n",
      "Some useful info to get an insight on dataset's shape and normalisation:\n",
      "features shape, labels shape, each features mean, each features standard deviation\n",
      "((40000, 14, 1), (40000, 14), 0.11178214, 0.41461828)\n",
      "the dataset is therefore properly normalised, as expected.\n",
      "(14, ?, 1)\n",
      "(?, 1)\n",
      "(14, '(?, 1)')\n",
      "\n",
      "Creating hidden #1:\n",
      "(14, '(?, 128)')\n",
      "\n",
      "Creating hidden #2:\n",
      "(14, '(?, 128)')\n",
      "\n",
      "Creating hidden #3:\n",
      "(14, '(?, 128)')\n",
      "\n",
      "Unregularised variables:\n",
      "LSTM_network/layer_1/relu_fc_biases_noreg:0\n",
      "LSTM_network/layer_2/relu_fc_biases_noreg:0\n",
      "LSTM_network/layer_3/relu_fc_biases_noreg:0\n",
      "LSTM_network/relu_fc_biases_noreg:0\n"
     ]
    },
    {
     "name": "stderr",
     "output_type": "stream",
     "text": [
      "/usr/local/lib/python2.7/dist-packages/sklearn/metrics/classification.py:1113: UndefinedMetricWarning: F-score is ill-defined and being set to 0.0 in labels with no predicted samples.\n",
      "  'precision', 'predicted', average, warn_for)\n"
     ]
    },
    {
     "name": "stdout",
     "output_type": "stream",
     "text": [
      "iter: 0, train loss: 0.497359424829, train accuracy: 0.890625, train F1-score: 0.890148809524, test loss: 0.358922839165, test accuracy: 0.926674127579, test F1-score: 0.894389265215\n",
      "iter: 1, train loss: 0.414793372154, train accuracy: 0.9296875, train F1-score: 0.890160467596, test loss: 0.27986100316, test accuracy: 0.956549108028, test F1-score: 0.945356158529\n",
      "iter: 2, train loss: 0.455747634172, train accuracy: 0.8984375, train F1-score: 0.930678475936, test loss: 0.271679371595, test accuracy: 0.958349168301, test F1-score: 0.947470328203\n",
      "iter: 3, train loss: 0.404860436916, train accuracy: 0.921875, train F1-score: 0.963214361929, test loss: 0.281264841557, test accuracy: 0.957374095917, test F1-score: 0.946350164747\n",
      "iter: 4, train loss: 0.311050117016, train accuracy: 0.9375, train F1-score: 0.932641173246, test loss: 0.248396068811, test accuracy: 0.956924080849, test F1-score: 0.945641014636\n"
     ]
    },
    {
     "name": "stderr",
     "output_type": "stream",
     "text": [
      "/usr/local/lib/python2.7/dist-packages/sklearn/metrics/classification.py:1115: UndefinedMetricWarning: F-score is ill-defined and being set to 0.0 in labels with no true samples.\n",
      "  'recall', 'true', average, warn_for)\n"
     ]
    },
    {
     "name": "stdout",
     "output_type": "stream",
     "text": [
      "iter: 5, train loss: 0.470039665699, train accuracy: 0.90625, train F1-score: 0.891021397783, test loss: 0.245587170124, test accuracy: 0.958899080753, test F1-score: 0.948040815633\n",
      "iter: 6, train loss: 0.400867342949, train accuracy: 0.9140625, train F1-score: 0.92565252658, test loss: 0.260438680649, test accuracy: 0.956924080849, test F1-score: 0.94574240992\n",
      "iter: 7, train loss: 0.425896584988, train accuracy: 0.9140625, train F1-score: 0.863270078114, test loss: 0.300373375416, test accuracy: 0.949799060822, test F1-score: 0.935308657609\n",
      "iter: 8, train loss: 0.416236639023, train accuracy: 0.9140625, train F1-score: 0.922157551573, test loss: 0.279675513506, test accuracy: 0.956799149513, test F1-score: 0.945502277686\n",
      "iter: 9, train loss: 0.324032753706, train accuracy: 0.9375, train F1-score: 0.896118435692, test loss: 0.294657498598, test accuracy: 0.957399129868, test F1-score: 0.946386633889\n",
      "iter: 10, train loss: 0.418241947889, train accuracy: 0.9140625, train F1-score: 0.922095405231, test loss: 0.472176343203, test accuracy: 0.93884909153, test F1-score: 0.925014898437\n",
      "iter: 11, train loss: 0.472768127918, train accuracy: 0.8984375, train F1-score: 0.946418939132, test loss: 0.314413666725, test accuracy: 0.954924046993, test F1-score: 0.942649913109\n",
      "iter: 12, train loss: 0.475635647774, train accuracy: 0.8984375, train F1-score: 0.914614066093, test loss: 0.279287129641, test accuracy: 0.941824197769, test F1-score: 0.92898247089\n",
      "iter: 13, train loss: 0.439671128988, train accuracy: 0.8984375, train F1-score: 0.903949873096, test loss: 0.28289014101, test accuracy: 0.949799060822, test F1-score: 0.935308657609\n",
      "iter: 14, train loss: 0.405197441578, train accuracy: 0.90625, train F1-score: 0.902678571429, test loss: 0.247434824705, test accuracy: 0.956924140453, test F1-score: 0.94574240992\n",
      "iter: 15, train loss: 0.317938417196, train accuracy: 0.953125, train F1-score: 0.916701785548, test loss: 0.225426703691, test accuracy: 0.95819914341, test F1-score: 0.948368223966\n",
      "iter: 16, train loss: 0.291550576687, train accuracy: 0.9609375, train F1-score: 0.956199112128, test loss: 0.194345861673, test accuracy: 0.97917419672, test F1-score: 0.971592907721\n",
      "iter: 17, train loss: 0.307420134544, train accuracy: 0.953125, train F1-score: 0.928658376963, test loss: 0.224535226822, test accuracy: 0.966174125671, test F1-score: 0.953973702356\n",
      "iter: 18, train loss: 0.341833651066, train accuracy: 0.953125, train F1-score: 0.923546511628, test loss: 0.231869190931, test accuracy: 0.977649092674, test F1-score: 0.969654833093\n",
      "iter: 19, train loss: 0.292209506035, train accuracy: 0.9609375, train F1-score: 0.906538694682, test loss: 0.237656891346, test accuracy: 0.977649152279, test F1-score: 0.969716172763\n",
      "iter: 20, train loss: 0.361107438803, train accuracy: 0.9375, train F1-score: 0.896436035507, test loss: 0.221744030714, test accuracy: 0.974724173546, test F1-score: 0.96478133459\n",
      "iter: 21, train loss: 0.325921356678, train accuracy: 0.9453125, train F1-score: 0.927477821408, test loss: 0.215719759464, test accuracy: 0.973149120808, test F1-score: 0.963849942101\n",
      "iter: 22, train loss: 0.405862063169, train accuracy: 0.921875, train F1-score: 0.960046421982, test loss: 0.210513219237, test accuracy: 0.978099107742, test F1-score: 0.970088415086\n",
      "iter: 23, train loss: 0.395189762115, train accuracy: 0.9375, train F1-score: 0.956083492861, test loss: 0.206311494112, test accuracy: 0.978224098682, test F1-score: 0.970382647946\n",
      "iter: 24, train loss: 0.363695859909, train accuracy: 0.9453125, train F1-score: 0.956239273455, test loss: 0.185571998358, test accuracy: 0.980174124241, test F1-score: 0.97243909551\n",
      "iter: 25, train loss: 0.386284440756, train accuracy: 0.9296875, train F1-score: 0.96881008691, test loss: 0.202912539244, test accuracy: 0.980024158955, test F1-score: 0.972171947911\n",
      "iter: 26, train loss: 0.490468531847, train accuracy: 0.90625, train F1-score: 0.937569630125, test loss: 0.233570933342, test accuracy: 0.976724147797, test F1-score: 0.968483910783\n",
      "iter: 27, train loss: 0.344046294689, train accuracy: 0.953125, train F1-score: 0.911098205634, test loss: 0.200063705444, test accuracy: 0.981349110603, test F1-score: 0.974796846675\n",
      "iter: 28, train loss: 0.38627409935, train accuracy: 0.921875, train F1-score: 0.952077825448, test loss: 0.198134914041, test accuracy: 0.977848947048, test F1-score: 0.969825350705\n",
      "iter: 29, train loss: 0.357914537191, train accuracy: 0.9375, train F1-score: 0.904297715054, test loss: 0.19642290473, test accuracy: 0.981549143791, test F1-score: 0.975032737175\n",
      "iter: 30, train loss: 0.405990242958, train accuracy: 0.921875, train F1-score: 0.940495315239, test loss: 0.235565036535, test accuracy: 0.978549063206, test F1-score: 0.970683756103\n",
      "iter: 31, train loss: 0.338950425386, train accuracy: 0.9453125, train F1-score: 0.882646951856, test loss: 0.187446624041, test accuracy: 0.977849125862, test F1-score: 0.970194373846\n",
      "iter: 32, train loss: 0.405699521303, train accuracy: 0.921875, train F1-score: 0.933864557677, test loss: 0.281277239323, test accuracy: 0.960024118423, test F1-score: 0.947338789024\n",
      "iter: 33, train loss: 0.269381523132, train accuracy: 0.9609375, train F1-score: 0.911247512619, test loss: 0.184267565608, test accuracy: 0.97854912281, test F1-score: 0.970559133286\n",
      "iter: 34, train loss: 0.356582999229, train accuracy: 0.9375, train F1-score: 0.937106316268, test loss: 0.22108219564, test accuracy: 0.960024178028, test F1-score: 0.947359774535\n",
      "iter: 35, train loss: 0.325668752193, train accuracy: 0.9453125, train F1-score: 0.946894695378, test loss: 0.168786525726, test accuracy: 0.982124090195, test F1-score: 0.975836007385\n",
      "iter: 36, train loss: 0.348924726248, train accuracy: 0.9375, train F1-score: 0.930961337734, test loss: 0.184510916471, test accuracy: 0.978549063206, test F1-score: 0.970805556705\n",
      "iter: 37, train loss: 0.326255261898, train accuracy: 0.9375, train F1-score: 0.956927172862, test loss: 0.165680557489, test accuracy: 0.982324123383, test F1-score: 0.976058856799\n",
      "iter: 38, train loss: 0.284523755312, train accuracy: 0.953125, train F1-score: 0.93041251689, test loss: 0.18577837944, test accuracy: 0.979849159718, test F1-score: 0.97211830836\n",
      "iter: 39, train loss: 0.329181730747, train accuracy: 0.9453125, train F1-score: 0.96393187028, test loss: 0.179009124637, test accuracy: 0.978674054146, test F1-score: 0.970815315667\n",
      "iter: 40, train loss: 0.277456969023, train accuracy: 0.953125, train F1-score: 0.927173544235, test loss: 0.179388910532, test accuracy: 0.978549182415, test F1-score: 0.970605397538\n",
      "iter: 41, train loss: 0.413278490305, train accuracy: 0.9296875, train F1-score: 0.946328465167, test loss: 0.189784198999, test accuracy: 0.980574071407, test F1-score: 0.972857609608\n",
      "iter: 42, train loss: 0.301100492477, train accuracy: 0.953125, train F1-score: 0.9267335199, test loss: 0.207009747624, test accuracy: 0.968849122524, test F1-score: 0.958983652863\n",
      "iter: 43, train loss: 0.33225607872, train accuracy: 0.9296875, train F1-score: 0.941673480848, test loss: 0.194776684046, test accuracy: 0.972524166107, test F1-score: 0.964510947557\n",
      "iter: 44, train loss: 0.377037882805, train accuracy: 0.921875, train F1-score: 0.952281396714, test loss: 0.217269539833, test accuracy: 0.974874198437, test F1-score: 0.968296392383\n",
      "iter: 45, train loss: 0.295606136322, train accuracy: 0.9453125, train F1-score: 0.966827197489, test loss: 0.184893280268, test accuracy: 0.975874066353, test F1-score: 0.969324920208\n",
      "iter: 46, train loss: 0.398591786623, train accuracy: 0.921875, train F1-score: 0.970895235656, test loss: 0.204003915191, test accuracy: 0.970849096775, test F1-score: 0.961602088859\n",
      "iter: 47, train loss: 0.290266275406, train accuracy: 0.9453125, train F1-score: 0.945666025388, test loss: 0.166693419218, test accuracy: 0.981449127197, test F1-score: 0.973762602787\n",
      "iter: 48, train loss: 0.461066067219, train accuracy: 0.8984375, train F1-score: 0.928924275896, test loss: 0.182029679418, test accuracy: 0.982224106789, test F1-score: 0.975774059804\n",
      "iter: 49, train loss: 0.322431057692, train accuracy: 0.9375, train F1-score: 0.94788431677, test loss: 0.177586108446, test accuracy: 0.981774151325, test F1-score: 0.975333082786\n"
     ]
    },
    {
     "name": "stdout",
     "output_type": "stream",
     "text": [
      "iter: 50, train loss: 0.324056565762, train accuracy: 0.9375, train F1-score: 0.924618085192, test loss: 0.19765137136, test accuracy: 0.979799091816, test F1-score: 0.973224208233\n",
      "iter: 51, train loss: 0.339298158884, train accuracy: 0.9375, train F1-score: 0.955577151598, test loss: 0.179092109203, test accuracy: 0.977624177933, test F1-score: 0.971076165664\n",
      "iter: 52, train loss: 0.335378408432, train accuracy: 0.9453125, train F1-score: 0.939812184343, test loss: 0.169038593769, test accuracy: 0.983849048615, test F1-score: 0.977501305897\n",
      "iter: 53, train loss: 0.323740690947, train accuracy: 0.9375, train F1-score: 0.938330885879, test loss: 0.162726998329, test accuracy: 0.983099102974, test F1-score: 0.976814531961\n",
      "iter: 54, train loss: 0.336368918419, train accuracy: 0.9453125, train F1-score: 0.949245043167, test loss: 0.213970392942, test accuracy: 0.973824083805, test F1-score: 0.966054878264\n",
      "iter: 55, train loss: 0.275933682919, train accuracy: 0.953125, train F1-score: 0.923633633414, test loss: 0.160784989595, test accuracy: 0.984799146652, test F1-score: 0.978587324157\n",
      "iter: 56, train loss: 0.277455508709, train accuracy: 0.953125, train F1-score: 0.948466790003, test loss: 0.15939617157, test accuracy: 0.985199093819, test F1-score: 0.979001564026\n",
      "iter: 57, train loss: 0.428320765495, train accuracy: 0.921875, train F1-score: 0.973492327985, test loss: 0.200304478407, test accuracy: 0.975624084473, test F1-score: 0.969042205955\n",
      "iter: 58, train loss: 0.341271966696, train accuracy: 0.9296875, train F1-score: 0.968138863451, test loss: 0.161838114262, test accuracy: 0.981124162674, test F1-score: 0.974570069018\n",
      "iter: 59, train loss: 0.302789270878, train accuracy: 0.9453125, train F1-score: 0.943756438874, test loss: 0.18279966712, test accuracy: 0.982149124146, test F1-score: 0.975748664047\n",
      "iter: 60, train loss: 0.314767450094, train accuracy: 0.9453125, train F1-score: 0.933277703879, test loss: 0.171532154083, test accuracy: 0.983824133873, test F1-score: 0.97754529056\n",
      "iter: 61, train loss: 0.455764651299, train accuracy: 0.90625, train F1-score: 0.929591888926, test loss: 0.171965301037, test accuracy: 0.982124090195, test F1-score: 0.975680459725\n",
      "iter: 62, train loss: 0.387749284506, train accuracy: 0.9296875, train F1-score: 0.967542276136, test loss: 0.171440348029, test accuracy: 0.982524096966, test F1-score: 0.976095760933\n",
      "iter: 63, train loss: 0.252413719893, train accuracy: 0.96875, train F1-score: 0.923054500988, test loss: 0.217023804784, test accuracy: 0.963824093342, test F1-score: 0.951940053074\n",
      "iter: 64, train loss: 0.272391945124, train accuracy: 0.9609375, train F1-score: 0.907229662698, test loss: 0.242214918137, test accuracy: 0.972374081612, test F1-score: 0.964352537866\n",
      "iter: 65, train loss: 0.295971542597, train accuracy: 0.9453125, train F1-score: 0.960212722265, test loss: 0.179986044765, test accuracy: 0.98237413168, test F1-score: 0.975938304277\n",
      "iter: 66, train loss: 0.35837161541, train accuracy: 0.9375, train F1-score: 0.964161450663, test loss: 0.174359723926, test accuracy: 0.982024133205, test F1-score: 0.975600833926\n",
      "iter: 67, train loss: 0.401736140251, train accuracy: 0.90625, train F1-score: 0.957985483517, test loss: 0.183891311288, test accuracy: 0.976924061775, test F1-score: 0.970305672604\n",
      "iter: 68, train loss: 0.333482116461, train accuracy: 0.953125, train F1-score: 0.917953380581, test loss: 0.213935256004, test accuracy: 0.974924147129, test F1-score: 0.968325463376\n",
      "iter: 69, train loss: 0.356474041939, train accuracy: 0.9375, train F1-score: 0.913712686567, test loss: 0.171443387866, test accuracy: 0.977074086666, test F1-score: 0.970493640336\n",
      "iter: 70, train loss: 0.292591661215, train accuracy: 0.953125, train F1-score: 0.968050507589, test loss: 0.16808333993, test accuracy: 0.98324906826, test F1-score: 0.976967929116\n",
      "iter: 71, train loss: 0.192365795374, train accuracy: 0.96875, train F1-score: 0.966212684312, test loss: 0.150588274002, test accuracy: 0.983924090862, test F1-score: 0.977593147453\n",
      "iter: 72, train loss: 0.314016401768, train accuracy: 0.9453125, train F1-score: 0.924819275501, test loss: 0.161407053471, test accuracy: 0.983199119568, test F1-score: 0.976870077177\n",
      "iter: 73, train loss: 0.278221309185, train accuracy: 0.953125, train F1-score: 0.910590277778, test loss: 0.175976619124, test accuracy: 0.97877407074, test F1-score: 0.972316778586\n",
      "iter: 74, train loss: 0.208480536938, train accuracy: 0.96875, train F1-score: 0.938261962816, test loss: 0.166597038507, test accuracy: 0.982224106789, test F1-score: 0.975773652788\n",
      "iter: 75, train loss: 0.221447095275, train accuracy: 0.96875, train F1-score: 0.965304065543, test loss: 0.176046133041, test accuracy: 0.980999112129, test F1-score: 0.974454053333\n",
      "iter: 76, train loss: 0.327927231789, train accuracy: 0.9296875, train F1-score: 0.940927230047, test loss: 0.178987532854, test accuracy: 0.981824100018, test F1-score: 0.975396019369\n",
      "iter: 77, train loss: 0.243951886892, train accuracy: 0.9609375, train F1-score: 0.962469314611, test loss: 0.193472474813, test accuracy: 0.975274205208, test F1-score: 0.968720263969\n",
      "iter: 78, train loss: 0.305030435324, train accuracy: 0.9453125, train F1-score: 0.968864514038, test loss: 0.181851476431, test accuracy: 0.979149103165, test F1-score: 0.971203026069\n",
      "iter: 79, train loss: 0.32917535305, train accuracy: 0.9375, train F1-score: 0.924852807971, test loss: 0.191208779812, test accuracy: 0.981574058533, test F1-score: 0.975137914845\n",
      "iter: 80, train loss: 0.301155805588, train accuracy: 0.9453125, train F1-score: 0.950315992637, test loss: 0.199239879847, test accuracy: 0.975599110126, test F1-score: 0.969031946194\n",
      "iter: 81, train loss: 0.417094141245, train accuracy: 0.921875, train F1-score: 0.93577541325, test loss: 0.157842069864, test accuracy: 0.985374093056, test F1-score: 0.979187964723\n",
      "iter: 82, train loss: 0.327307701111, train accuracy: 0.9375, train F1-score: 0.927451574747, test loss: 0.195011556149, test accuracy: 0.974624097347, test F1-score: 0.966978695869\n",
      "iter: 83, train loss: 0.231759756804, train accuracy: 0.953125, train F1-score: 0.964378156566, test loss: 0.174899965525, test accuracy: 0.981974124908, test F1-score: 0.975562573468\n",
      "iter: 84, train loss: 0.271788150072, train accuracy: 0.9453125, train F1-score: 0.958663504464, test loss: 0.2703769207, test accuracy: 0.963474154472, test F1-score: 0.952594954177\n",
      "iter: 85, train loss: 0.337945193052, train accuracy: 0.9375, train F1-score: 0.933325702076, test loss: 0.157758712769, test accuracy: 0.983374118805, test F1-score: 0.977100076851\n",
      "iter: 86, train loss: 0.318588554859, train accuracy: 0.9453125, train F1-score: 0.92444897343, test loss: 0.196529895067, test accuracy: 0.977474093437, test F1-score: 0.970900268422\n",
      "iter: 87, train loss: 0.325238287449, train accuracy: 0.9375, train F1-score: 0.933915748487, test loss: 0.189565524459, test accuracy: 0.975824058056, test F1-score: 0.96927451443\n",
      "iter: 88, train loss: 0.299465060234, train accuracy: 0.9453125, train F1-score: 0.944204193774, test loss: 0.188529312611, test accuracy: 0.97679913044, test F1-score: 0.970249563832\n",
      "iter: 89, train loss: 0.285276412964, train accuracy: 0.9453125, train F1-score: 0.960994035504, test loss: 0.159374892712, test accuracy: 0.9835242033, test F1-score: 0.97719043133\n",
      "iter: 90, train loss: 0.301424920559, train accuracy: 0.953125, train F1-score: 0.922426730226, test loss: 0.165388643742, test accuracy: 0.982174038887, test F1-score: 0.975793365087\n",
      "iter: 91, train loss: 0.271700769663, train accuracy: 0.953125, train F1-score: 0.927238581731, test loss: 0.169284284115, test accuracy: 0.982349097729, test F1-score: 0.97595683116\n",
      "iter: 92, train loss: 0.356862008572, train accuracy: 0.9375, train F1-score: 0.902117300725, test loss: 0.160700172186, test accuracy: 0.985274076462, test F1-score: 0.979122023984\n",
      "iter: 93, train loss: 0.287976711988, train accuracy: 0.953125, train F1-score: 0.959183124154, test loss: 0.163159891963, test accuracy: 0.980699121952, test F1-score: 0.972914042614\n",
      "iter: 94, train loss: 0.442427754402, train accuracy: 0.9140625, train F1-score: 0.964079592986, test loss: 0.169417500496, test accuracy: 0.981549084187, test F1-score: 0.974994410517\n"
     ]
    },
    {
     "name": "stdout",
     "output_type": "stream",
     "text": [
      "iter: 95, train loss: 0.287406802177, train accuracy: 0.953125, train F1-score: 0.902447805615, test loss: 0.176517412066, test accuracy: 0.977099120617, test F1-score: 0.970494792991\n",
      "iter: 96, train loss: 0.364624321461, train accuracy: 0.921875, train F1-score: 0.977015961857, test loss: 0.206892132759, test accuracy: 0.976899027824, test F1-score: 0.970503545414\n",
      "iter: 97, train loss: 0.272039592266, train accuracy: 0.953125, train F1-score: 0.924493810528, test loss: 0.171179562807, test accuracy: 0.981949090958, test F1-score: 0.975478912753\n",
      "iter: 98, train loss: 0.286349773407, train accuracy: 0.9453125, train F1-score: 0.964457208188, test loss: 0.163076460361, test accuracy: 0.984099090099, test F1-score: 0.977817869638\n",
      "iter: 99, train loss: 0.327093958855, train accuracy: 0.9375, train F1-score: 0.95257260101, test loss: 0.168915092945, test accuracy: 0.98239916563, test F1-score: 0.975996863463\n",
      "iter: 100, train loss: 0.390889436007, train accuracy: 0.9296875, train F1-score: 0.936351102941, test loss: 0.159520998597, test accuracy: 0.985199153423, test F1-score: 0.979047614091\n",
      "iter: 101, train loss: 0.364286422729, train accuracy: 0.9375, train F1-score: 0.984224597123, test loss: 0.153427362442, test accuracy: 0.984974086285, test F1-score: 0.978795297682\n",
      "iter: 102, train loss: 0.297191530466, train accuracy: 0.953125, train F1-score: 0.943904068221, test loss: 0.176279395819, test accuracy: 0.975424170494, test F1-score: 0.967503203138\n",
      "iter: 103, train loss: 0.271630197763, train accuracy: 0.953125, train F1-score: 0.964253561457, test loss: 0.17242744565, test accuracy: 0.978374123573, test F1-score: 0.971869256075\n"
     ]
    },
    {
     "ename": "KeyboardInterrupt",
     "evalue": "",
     "output_type": "error",
     "traceback": [
      "\u001b[0;31m---------------------------------------------------------------------------\u001b[0m",
      "\u001b[0;31mKeyboardInterrupt\u001b[0m                         Traceback (most recent call last)",
      "\u001b[0;32m<ipython-input-4-feda4196467b>\u001b[0m in \u001b[0;36m<module>\u001b[0;34m()\u001b[0m\n\u001b[1;32m     28\u001b[0m             \u001b[0;31m#     accuracy_out, best_accuracy = -1, -1\u001b[0m\u001b[0;34m\u001b[0m\u001b[0;34m\u001b[0m\u001b[0m\n\u001b[1;32m     29\u001b[0m             accuracy_out, best_accuracy, f1_score_out, best_f1_score = (\n\u001b[0;32m---> 30\u001b[0;31m                 \u001b[0mrun_with_config\u001b[0m\u001b[0;34m(\u001b[0m\u001b[0mEditedConfig\u001b[0m\u001b[0;34m,\u001b[0m \u001b[0mX_train\u001b[0m\u001b[0;34m,\u001b[0m \u001b[0my_train\u001b[0m\u001b[0;34m,\u001b[0m \u001b[0mX_test\u001b[0m\u001b[0;34m,\u001b[0m \u001b[0my_test\u001b[0m\u001b[0;34m)\u001b[0m\u001b[0;34m\u001b[0m\u001b[0m\n\u001b[0m\u001b[1;32m     31\u001b[0m             )\n\u001b[1;32m     32\u001b[0m             \u001b[0;32mprint\u001b[0m \u001b[0;34m(\u001b[0m\u001b[0maccuracy_out\u001b[0m\u001b[0;34m,\u001b[0m \u001b[0mbest_accuracy\u001b[0m\u001b[0;34m,\u001b[0m \u001b[0mf1_score_out\u001b[0m\u001b[0;34m,\u001b[0m \u001b[0mbest_f1_score\u001b[0m\u001b[0;34m)\u001b[0m\u001b[0;34m\u001b[0m\u001b[0m\n",
      "\u001b[0;32m/home/stephen/Desktop/lstm_cnn/lstm_architecture.pyc\u001b[0m in \u001b[0;36mrun_with_config\u001b[0;34m(Config, X_train, y_train, X_test, y_test)\u001b[0m\n\u001b[1;32m    329\u001b[0m                         \u001b[0mX\u001b[0m\u001b[0;34m:\u001b[0m \u001b[0mshuffled_X\u001b[0m\u001b[0;34m[\u001b[0m\u001b[0mstart\u001b[0m\u001b[0;34m:\u001b[0m\u001b[0mend\u001b[0m\u001b[0;34m]\u001b[0m\u001b[0;34m,\u001b[0m\u001b[0;34m\u001b[0m\u001b[0m\n\u001b[1;32m    330\u001b[0m                         \u001b[0mY\u001b[0m\u001b[0;34m:\u001b[0m \u001b[0mshuffled_y\u001b[0m\u001b[0;34m[\u001b[0m\u001b[0mstart\u001b[0m\u001b[0;34m:\u001b[0m\u001b[0mend\u001b[0m\u001b[0;34m]\u001b[0m\u001b[0;34m,\u001b[0m\u001b[0;34m\u001b[0m\u001b[0m\n\u001b[0;32m--> 331\u001b[0;31m                         \u001b[0mis_train\u001b[0m\u001b[0;34m:\u001b[0m \u001b[0mTrue\u001b[0m\u001b[0;34m\u001b[0m\u001b[0m\n\u001b[0m\u001b[1;32m    332\u001b[0m                     }\n\u001b[1;32m    333\u001b[0m                 )\n",
      "\u001b[0;32m/usr/local/lib/python2.7/dist-packages/tensorflow/python/client/session.pyc\u001b[0m in \u001b[0;36mrun\u001b[0;34m(self, fetches, feed_dict, options, run_metadata)\u001b[0m\n\u001b[1;32m    776\u001b[0m     \u001b[0;32mtry\u001b[0m\u001b[0;34m:\u001b[0m\u001b[0;34m\u001b[0m\u001b[0m\n\u001b[1;32m    777\u001b[0m       result = self._run(None, fetches, feed_dict, options_ptr,\n\u001b[0;32m--> 778\u001b[0;31m                          run_metadata_ptr)\n\u001b[0m\u001b[1;32m    779\u001b[0m       \u001b[0;32mif\u001b[0m \u001b[0mrun_metadata\u001b[0m\u001b[0;34m:\u001b[0m\u001b[0;34m\u001b[0m\u001b[0m\n\u001b[1;32m    780\u001b[0m         \u001b[0mproto_data\u001b[0m \u001b[0;34m=\u001b[0m \u001b[0mtf_session\u001b[0m\u001b[0;34m.\u001b[0m\u001b[0mTF_GetBuffer\u001b[0m\u001b[0;34m(\u001b[0m\u001b[0mrun_metadata_ptr\u001b[0m\u001b[0;34m)\u001b[0m\u001b[0;34m\u001b[0m\u001b[0m\n",
      "\u001b[0;32m/usr/local/lib/python2.7/dist-packages/tensorflow/python/client/session.pyc\u001b[0m in \u001b[0;36m_run\u001b[0;34m(self, handle, fetches, feed_dict, options, run_metadata)\u001b[0m\n\u001b[1;32m    980\u001b[0m     \u001b[0;32mif\u001b[0m \u001b[0mfinal_fetches\u001b[0m \u001b[0;32mor\u001b[0m \u001b[0mfinal_targets\u001b[0m\u001b[0;34m:\u001b[0m\u001b[0;34m\u001b[0m\u001b[0m\n\u001b[1;32m    981\u001b[0m       results = self._do_run(handle, final_targets, final_fetches,\n\u001b[0;32m--> 982\u001b[0;31m                              feed_dict_string, options, run_metadata)\n\u001b[0m\u001b[1;32m    983\u001b[0m     \u001b[0;32melse\u001b[0m\u001b[0;34m:\u001b[0m\u001b[0;34m\u001b[0m\u001b[0m\n\u001b[1;32m    984\u001b[0m       \u001b[0mresults\u001b[0m \u001b[0;34m=\u001b[0m \u001b[0;34m[\u001b[0m\u001b[0;34m]\u001b[0m\u001b[0;34m\u001b[0m\u001b[0m\n",
      "\u001b[0;32m/usr/local/lib/python2.7/dist-packages/tensorflow/python/client/session.pyc\u001b[0m in \u001b[0;36m_do_run\u001b[0;34m(self, handle, target_list, fetch_list, feed_dict, options, run_metadata)\u001b[0m\n\u001b[1;32m   1030\u001b[0m     \u001b[0;32mif\u001b[0m \u001b[0mhandle\u001b[0m \u001b[0;32mis\u001b[0m \u001b[0mNone\u001b[0m\u001b[0;34m:\u001b[0m\u001b[0;34m\u001b[0m\u001b[0m\n\u001b[1;32m   1031\u001b[0m       return self._do_call(_run_fn, self._session, feed_dict, fetch_list,\n\u001b[0;32m-> 1032\u001b[0;31m                            target_list, options, run_metadata)\n\u001b[0m\u001b[1;32m   1033\u001b[0m     \u001b[0;32melse\u001b[0m\u001b[0;34m:\u001b[0m\u001b[0;34m\u001b[0m\u001b[0m\n\u001b[1;32m   1034\u001b[0m       return self._do_call(_prun_fn, self._session, handle, feed_dict,\n",
      "\u001b[0;32m/usr/local/lib/python2.7/dist-packages/tensorflow/python/client/session.pyc\u001b[0m in \u001b[0;36m_do_call\u001b[0;34m(self, fn, *args)\u001b[0m\n\u001b[1;32m   1037\u001b[0m   \u001b[0;32mdef\u001b[0m \u001b[0m_do_call\u001b[0m\u001b[0;34m(\u001b[0m\u001b[0mself\u001b[0m\u001b[0;34m,\u001b[0m \u001b[0mfn\u001b[0m\u001b[0;34m,\u001b[0m \u001b[0;34m*\u001b[0m\u001b[0margs\u001b[0m\u001b[0;34m)\u001b[0m\u001b[0;34m:\u001b[0m\u001b[0;34m\u001b[0m\u001b[0m\n\u001b[1;32m   1038\u001b[0m     \u001b[0;32mtry\u001b[0m\u001b[0;34m:\u001b[0m\u001b[0;34m\u001b[0m\u001b[0m\n\u001b[0;32m-> 1039\u001b[0;31m       \u001b[0;32mreturn\u001b[0m \u001b[0mfn\u001b[0m\u001b[0;34m(\u001b[0m\u001b[0;34m*\u001b[0m\u001b[0margs\u001b[0m\u001b[0;34m)\u001b[0m\u001b[0;34m\u001b[0m\u001b[0m\n\u001b[0m\u001b[1;32m   1040\u001b[0m     \u001b[0;32mexcept\u001b[0m \u001b[0merrors\u001b[0m\u001b[0;34m.\u001b[0m\u001b[0mOpError\u001b[0m \u001b[0;32mas\u001b[0m \u001b[0me\u001b[0m\u001b[0;34m:\u001b[0m\u001b[0;34m\u001b[0m\u001b[0m\n\u001b[1;32m   1041\u001b[0m       \u001b[0mmessage\u001b[0m \u001b[0;34m=\u001b[0m \u001b[0mcompat\u001b[0m\u001b[0;34m.\u001b[0m\u001b[0mas_text\u001b[0m\u001b[0;34m(\u001b[0m\u001b[0me\u001b[0m\u001b[0;34m.\u001b[0m\u001b[0mmessage\u001b[0m\u001b[0;34m)\u001b[0m\u001b[0;34m\u001b[0m\u001b[0m\n",
      "\u001b[0;32m/usr/local/lib/python2.7/dist-packages/tensorflow/python/client/session.pyc\u001b[0m in \u001b[0;36m_run_fn\u001b[0;34m(session, feed_dict, fetch_list, target_list, options, run_metadata)\u001b[0m\n\u001b[1;32m   1019\u001b[0m         return tf_session.TF_Run(session, options,\n\u001b[1;32m   1020\u001b[0m                                  \u001b[0mfeed_dict\u001b[0m\u001b[0;34m,\u001b[0m \u001b[0mfetch_list\u001b[0m\u001b[0;34m,\u001b[0m \u001b[0mtarget_list\u001b[0m\u001b[0;34m,\u001b[0m\u001b[0;34m\u001b[0m\u001b[0m\n\u001b[0;32m-> 1021\u001b[0;31m                                  status, run_metadata)\n\u001b[0m\u001b[1;32m   1022\u001b[0m \u001b[0;34m\u001b[0m\u001b[0m\n\u001b[1;32m   1023\u001b[0m     \u001b[0;32mdef\u001b[0m \u001b[0m_prun_fn\u001b[0m\u001b[0;34m(\u001b[0m\u001b[0msession\u001b[0m\u001b[0;34m,\u001b[0m \u001b[0mhandle\u001b[0m\u001b[0;34m,\u001b[0m \u001b[0mfeed_dict\u001b[0m\u001b[0;34m,\u001b[0m \u001b[0mfetch_list\u001b[0m\u001b[0;34m)\u001b[0m\u001b[0;34m:\u001b[0m\u001b[0;34m\u001b[0m\u001b[0m\n",
      "\u001b[0;31mKeyboardInterrupt\u001b[0m: "
     ]
    }
   ],
   "source": [
    "n_layers_in_highway = 0\n",
    "n_stacked_layers = 3\n",
    "trial_name = \"{}x{}\".format(n_layers_in_highway, n_stacked_layers)\n",
    "\n",
    "for learning_rate in [0.0001]:  # [0.01, 0.007, 0.001, 0.0007, 0.0001]:\n",
    "    for lambda_loss_amount in [0.005]:\n",
    "        for clip_gradients in [15.0]:\n",
    "            print \"learning_rate: {}\".format(learning_rate)\n",
    "            print \"lambda_loss_amount: {}\".format(lambda_loss_amount)\n",
    "            print \"\"\n",
    "\n",
    "            class EditedConfig(Config):\n",
    "                def __init__(self, X, Y):\n",
    "                    super(EditedConfig, self).__init__(X, Y)\n",
    "\n",
    "                    # Edit only some parameters:\n",
    "                    self.learning_rate = learning_rate\n",
    "                    self.lambda_loss_amount = lambda_loss_amount\n",
    "                    self.clip_gradients = clip_gradients\n",
    "                    # Architecture params:\n",
    "                    self.n_layers_in_highway = n_layers_in_highway\n",
    "                    self.n_stacked_layers = n_stacked_layers\n",
    "\n",
    "            # # Useful catch upon looping (e.g.: not enough memory)\n",
    "            # try:\n",
    "            #     accuracy_out, best_accuracy = run_with_config(EditedConfig)\n",
    "            # except:\n",
    "            #     accuracy_out, best_accuracy = -1, -1\n",
    "            accuracy_out, best_accuracy, f1_score_out, best_f1_score = (\n",
    "                run_with_config(EditedConfig, X_train, y_train, X_test, y_test)\n",
    "            )\n",
    "            print (accuracy_out, best_accuracy, f1_score_out, best_f1_score)\n",
    "\n",
    "            with open('result/{}_result_.txt'.format(trial_name), 'a') as f:\n",
    "                f.write(str(learning_rate) + ' \\t' + str(lambda_loss_amount) + \\\n",
    "                        ' \\t' + str(clip_gradients) + ' \\t' + str(accuracy_out) + \\\n",
    "                        ' \\t' + str(best_accuracy) + ' \\t' + str(f1_score_out) + \\\n",
    "                        ' \\t' + str(best_f1_score) + '\\n\\n')\n",
    "\n",
    "            print \"______________________________________\"\n",
    "        print \"\"\n",
    "print \"Done.\""
   ]
  }
 ],
 "metadata": {
  "kernelspec": {
   "display_name": "Python 2",
   "language": "python",
   "name": "python2"
  },
  "language_info": {
   "codemirror_mode": {
    "name": "ipython",
    "version": 2
   },
   "file_extension": ".py",
   "mimetype": "text/x-python",
   "name": "python",
   "nbconvert_exporter": "python",
   "pygments_lexer": "ipython2",
   "version": "2.7.12"
  }
 },
 "nbformat": 4,
 "nbformat_minor": 2
}
