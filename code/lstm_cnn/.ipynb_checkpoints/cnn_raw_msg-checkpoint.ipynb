{
 "cells": [
  {
   "cell_type": "code",
   "execution_count": 1,
   "metadata": {},
   "outputs": [
    {
     "name": "stderr",
     "output_type": "stream",
     "text": [
      "/usr/local/lib/python2.7/dist-packages/sklearn/cross_validation.py:44: DeprecationWarning: This module was deprecated in version 0.18 in favor of the model_selection module into which all the refactored classes and functions are moved. Also note that the interface of the new CV iterators are different from that of this module. This module will be removed in 0.20.\n",
      "  \"This module will be removed in 0.20.\", DeprecationWarning)\n"
     ]
    },
    {
     "name": "stdout",
     "output_type": "stream",
     "text": [
      "hdf5 is not supported on this machine (please install/reinstall h5py for optimal experience)\n"
     ]
    }
   ],
   "source": [
    "import pandas as pd\n",
    "import numpy as np\n",
    "import matplotlib.pyplot as plt\n",
    "from sklearn import cross_validation\n",
    "from sklearn.metrics import classification_report, confusion_matrix\n",
    "import tensorflow as tf\n",
    "import osz"
   ]
  },
  {
   "cell_type": "markdown",
   "metadata": {},
   "source": [
    "# run environment"
   ]
  },
  {
   "cell_type": "code",
   "execution_count": 2,
   "metadata": {
    "collapsed": true
   },
   "outputs": [],
   "source": [
    "os.environ[\"CUDA_VISIBLE_DEVICES\"] = \"1\"\n",
    "gpu_options = tf.GPUOptions(per_process_gpu_memory_fraction = 0.4)\n",
    "sess_config = tf.ConfigProto(gpu_options=gpu_options)"
   ]
  },
  {
   "cell_type": "markdown",
   "metadata": {},
   "source": [
    "# label"
   ]
  },
  {
   "cell_type": "code",
   "execution_count": 3,
   "metadata": {
    "collapsed": true
   },
   "outputs": [],
   "source": [
    "labels = {'0':'file', '1':'network', '2':'service', '3':'database', '4':'communication', '5':'memory', '6':'driver', \n",
    "    '7':'system', '8':'application', '9':'io', '10':'others', '11':'security', '12':'disk', '13':'processor'}\n",
    "\n",
    "fault_label = {'0':'file', '1':'network', '2':'service', '3':'database', '4':'communication', '5':'memory', '6':'driver', \n",
    "    '7':'system', '9':'io', '10':'others', '11':'security', '12':'disk', '13':'processor'}"
   ]
  },
  {
   "cell_type": "markdown",
   "metadata": {},
   "source": [
    "# load data"
   ]
  },
  {
   "cell_type": "code",
   "execution_count": 4,
   "metadata": {},
   "outputs": [
    {
     "name": "stdout",
     "output_type": "stream",
     "text": [
      "Separating data into 80% training set & 20% test set...\n",
      "Dataset separated.\n",
      "\n",
      "((80000, 1, 10, 14), (80000, 14), (20000, 14))\n"
     ]
    }
   ],
   "source": [
    "def one_hot(y):\n",
    "    y = y.reshape(len(y))\n",
    "    n_values = np.max(y) + 1\n",
    "    return np.eye(n_values)[np.array(y, dtype=np.int32)]  # Returns FLOATS\n",
    "\n",
    "\n",
    "def load_X(X_path):\n",
    "    X_list = []\n",
    "    file = open(X_path, 'r')\n",
    "    # Read dataset from disk, dealing with text files' syntax\n",
    "    X_signal = [np.array(item, dtype=np.float32) for item in [\n",
    "               line.strip().split('\\t') for line in file]]\n",
    "    X_list.append(X_signal)\n",
    "    file.close()\n",
    "    return np.transpose(np.array(X_list), (1, 2, 0))\n",
    "\n",
    "\n",
    "# Load \"y\" (the neural network's training and testing outputs)\n",
    "def load_y(y_path):\n",
    "    file = open(y_path, 'r')\n",
    "    # Read dataset from disk, dealing with text file's syntax\n",
    "    y_ = np.array([elem for elem in [line.strip().split('\\t') for line in file]], \n",
    "                  dtype=np.int32)\n",
    "    file.close()\n",
    "    # Substract 1 to each output class for friendly 0-based indexing\n",
    "    return one_hot(y_-1)\n",
    "\n",
    "\n",
    "dataset_path = \"data_msg_type/\"\n",
    "X_path = dataset_path + \"semantic_sim.txt\"\n",
    "y_path = dataset_path + \"semantic_label_index.txt\"\n",
    "\n",
    "X = load_X(X_path)\n",
    "y = load_y(y_path)\n",
    "x = X.reshape(len(X), 1, 10, 14)\n",
    "\n",
    "# Separate our training data into test and training.\n",
    "print(\"Separating data into 80% training set & 20% test set...\")\n",
    "train_x, test_x, train_y, test_y = cross_validation.train_test_split(\n",
    "    x, y, test_size=0.2, random_state=33)#add random state here...\n",
    "print(\"Dataset separated.\\n\")\n",
    "print(train_x.shape, train_y.shape, test_y.shape)"
   ]
  },
  {
   "cell_type": "markdown",
   "metadata": {},
   "source": [
    "# define parameters"
   ]
  },
  {
   "cell_type": "code",
   "execution_count": 5,
   "metadata": {
    "collapsed": true
   },
   "outputs": [],
   "source": [
    "input_height = 1\n",
    "input_width = 10\n",
    "num_channels = 14\n",
    "num_labels = 14  \n",
    "\n",
    "batch_size = 100\n",
    "kernel_size = 4\n",
    "depth = 35\n",
    "num_hidden = 1000\n",
    "\n",
    "learning_rate = 0.0001\n",
    "# iteration times\n",
    "training_epochs = 120\n",
    "\n",
    "total_batches = train_x.shape[0] // batch_size"
   ]
  },
  {
   "cell_type": "markdown",
   "metadata": {},
   "source": [
    "# network config"
   ]
  },
  {
   "cell_type": "code",
   "execution_count": 6,
   "metadata": {
    "collapsed": true
   },
   "outputs": [],
   "source": [
    "# init nn parameters\n",
    "def weight_variable(shape):\n",
    "    initial = tf.truncated_normal(shape, stddev = 0.1)\n",
    "    return tf.Variable(initial)\n",
    "\n",
    "def bias_variable(shape):\n",
    "    initial = tf.constant(0.0, shape = shape)\n",
    "    return tf.Variable(initial)\n",
    "\n",
    "# conv\n",
    "def depthwise_conv2d(x, W):\n",
    "    return tf.nn.depthwise_conv2d(x,W, [1, 1, 1, 1], padding='VALID')\n",
    "\n",
    "def apply_depthwise_conv(x,kernel_size,num_channels,depth):\n",
    "    weights = weight_variable([1, kernel_size, num_channels, depth])\n",
    "    biases = bias_variable([depth * num_channels])\n",
    "    return tf.nn.relu(tf.add(depthwise_conv2d(x, weights),biases))\n",
    "    \n",
    "def apply_max_pool(x,kernel_size,stride_size):\n",
    "    return tf.nn.max_pool(x, ksize=[1, 1, kernel_size, 1], \n",
    "                          strides=[1, 1, stride_size, 1], padding='VALID')"
   ]
  },
  {
   "cell_type": "markdown",
   "metadata": {},
   "source": [
    "# build network"
   ]
  },
  {
   "cell_type": "code",
   "execution_count": 7,
   "metadata": {
    "collapsed": true
   },
   "outputs": [],
   "source": [
    "X = tf.placeholder(tf.float32, shape=[None,input_height,input_width,num_channels])\n",
    "Y = tf.placeholder(tf.float32, shape=[None,num_labels])\n",
    "\n",
    "c = apply_depthwise_conv(X,kernel_size,num_channels,depth)\n",
    "p = apply_max_pool(c,2,1)\n",
    "c = apply_depthwise_conv(p,5,depth*num_channels,depth//10)\n",
    "\n",
    "shape = c.get_shape().as_list()\n",
    "c_flat = tf.reshape(c, [-1, shape[1] * shape[2] * shape[3]])\n",
    "\n",
    "f_weights_l1 = weight_variable([shape[1] * shape[2] * depth * num_channels * (depth//10), num_hidden])\n",
    "f_biases_l1 = bias_variable([num_hidden])\n",
    "f = tf.nn.tanh(tf.add(tf.matmul(c_flat, f_weights_l1),f_biases_l1))\n",
    "\n",
    "out_weights = weight_variable([num_hidden, num_labels])\n",
    "out_biases = bias_variable([num_labels])\n",
    "y_ = tf.nn.softmax(tf.matmul(f, out_weights) + out_biases)\n",
    "\n",
    "# loss func\n",
    "loss = -tf.reduce_sum(Y * tf.log(y_))\n",
    "optimizer = tf.train.GradientDescentOptimizer(learning_rate = learning_rate).minimize(loss)\n",
    "\n",
    "correct_prediction = tf.equal(tf.argmax(y_,1), tf.argmax(Y,1))\n",
    "accuracy = tf.reduce_mean(tf.cast(correct_prediction, tf.float32))\n",
    "\n",
    "cost_history = np.empty(shape=[1], dtype=float)"
   ]
  },
  {
   "cell_type": "markdown",
   "metadata": {},
   "source": [
    "# train and test"
   ]
  },
  {
   "cell_type": "code",
   "execution_count": 8,
   "metadata": {
    "scrolled": true
   },
   "outputs": [
    {
     "name": "stdout",
     "output_type": "stream",
     "text": [
      "Epoch:  0  Training Loss:  192.584  Training Accuracy:  0.628287\n",
      "Epoch:  1  Training Loss:  183.273  Training Accuracy:  0.630525\n",
      "Epoch:  2  Training Loss:  142.612  Training Accuracy:  0.755924\n",
      "Epoch:  3  Training Loss:  122.733  Training Accuracy:  0.758237\n",
      "Epoch:  4  Training Loss:  113.436  Training Accuracy:  0.759862\n",
      "Epoch:  5  Training Loss:  106.22  Training Accuracy:  0.767849\n",
      "Epoch:  6  Training Loss:  100.113  Training Accuracy:  0.768237\n",
      "Epoch:  7  Training Loss:  95.2009  Training Accuracy:  0.768474\n",
      "Epoch:  8  Training Loss:  91.503  Training Accuracy:  0.774287\n",
      "Epoch:  9  Training Loss:  87.1477  Training Accuracy:  0.780474\n",
      "Epoch:  10  Training Loss:  88.1942  Training Accuracy:  0.780762\n",
      "Epoch:  11  Training Loss:  85.4315  Training Accuracy:  0.787999\n",
      "Epoch:  12  Training Loss:  81.5745  Training Accuracy:  0.788737\n",
      "Epoch:  13  Training Loss:  81.5915  Training Accuracy:  0.789324\n",
      "Epoch:  14  Training Loss:  78.807  Training Accuracy:  0.787049\n",
      "Epoch:  15  Training Loss:  77.2652  Training Accuracy:  0.795687\n",
      "Epoch:  16  Training Loss:  75.3917  Training Accuracy:  0.851112\n",
      "Epoch:  17  Training Loss:  74.6264  Training Accuracy:  0.851324\n",
      "Epoch:  18  Training Loss:  73.5497  Training Accuracy:  0.858624\n",
      "Epoch:  19  Training Loss:  72.1287  Training Accuracy:  0.857987\n",
      "Epoch:  20  Training Loss:  70.8696  Training Accuracy:  0.857724\n",
      "Epoch:  21  Training Loss:  69.7487  Training Accuracy:  0.866737\n",
      "Epoch:  22  Training Loss:  68.8182  Training Accuracy:  0.867349\n",
      "Epoch:  23  Training Loss:  67.797  Training Accuracy:  0.867562\n",
      "Epoch:  24  Training Loss:  67.0994  Training Accuracy:  0.867362\n",
      "Epoch:  25  Training Loss:  66.3587  Training Accuracy:  0.867824\n",
      "Epoch:  26  Training Loss:  65.767  Training Accuracy:  0.872887\n",
      "Epoch:  27  Training Loss:  65.1108  Training Accuracy:  0.872874\n",
      "Epoch:  28  Training Loss:  64.4468  Training Accuracy:  0.868062\n",
      "Epoch:  29  Training Loss:  63.4756  Training Accuracy:  0.868137\n",
      "Epoch:  30  Training Loss:  62.3745  Training Accuracy:  0.867837\n",
      "Epoch:  31  Training Loss:  61.1167  Training Accuracy:  0.868199\n",
      "Epoch:  32  Training Loss:  59.9021  Training Accuracy:  0.868349\n",
      "Epoch:  33  Training Loss:  58.3729  Training Accuracy:  0.873362\n",
      "Epoch:  34  Training Loss:  57.2721  Training Accuracy:  0.884699\n",
      "Epoch:  35  Training Loss:  56.2678  Training Accuracy:  0.879624\n",
      "Epoch:  36  Training Loss:  55.2  Training Accuracy:  0.886612\n",
      "Epoch:  37  Training Loss:  54.3109  Training Accuracy:  0.886524\n",
      "Epoch:  38  Training Loss:  53.4401  Training Accuracy:  0.898037\n",
      "Epoch:  39  Training Loss:  52.6662  Training Accuracy:  0.912074\n",
      "Epoch:  40  Training Loss:  51.8977  Training Accuracy:  0.912387\n",
      "Epoch:  41  Training Loss:  51.2725  Training Accuracy:  0.907274\n",
      "Epoch:  42  Training Loss:  50.6511  Training Accuracy:  0.912699\n",
      "Epoch:  43  Training Loss:  50.3266  Training Accuracy:  0.912749\n",
      "Epoch:  44  Training Loss:  49.9112  Training Accuracy:  0.914324\n",
      "Epoch:  45  Training Loss:  49.5222  Training Accuracy:  0.928124\n",
      "Epoch:  46  Training Loss:  49.1794  Training Accuracy:  0.928249\n",
      "Epoch:  47  Training Loss:  48.8536  Training Accuracy:  0.922937\n",
      "Epoch:  48  Training Loss:  48.5464  Training Accuracy:  0.923099\n",
      "Epoch:  49  Training Loss:  48.3068  Training Accuracy:  0.923112\n",
      "Epoch:  50  Training Loss:  47.8483  Training Accuracy:  0.929587\n",
      "Epoch:  51  Training Loss:  47.5312  Training Accuracy:  0.929799\n",
      "Epoch:  52  Training Loss:  47.5309  Training Accuracy:  0.929624\n",
      "Epoch:  53  Training Loss:  47.3231  Training Accuracy:  0.929437\n",
      "Epoch:  54  Training Loss:  47.0214  Training Accuracy:  0.929174\n",
      "Epoch:  55  Training Loss:  46.7638  Training Accuracy:  0.929174\n",
      "Epoch:  56  Training Loss:  46.5071  Training Accuracy:  0.929149\n",
      "Epoch:  57  Training Loss:  46.2718  Training Accuracy:  0.929149\n",
      "Epoch:  58  Training Loss:  46.0012  Training Accuracy:  0.929149\n",
      "Epoch:  59  Training Loss:  45.5766  Training Accuracy:  0.928849\n",
      "Epoch:  60  Training Loss:  45.319  Training Accuracy:  0.928849\n",
      "Epoch:  61  Training Loss:  44.9837  Training Accuracy:  0.928812\n",
      "Epoch:  62  Training Loss:  44.5815  Training Accuracy:  0.928787\n",
      "Epoch:  63  Training Loss:  44.2443  Training Accuracy:  0.928787\n",
      "Epoch:  64  Training Loss:  43.8349  Training Accuracy:  0.928774\n",
      "Epoch:  65  Training Loss:  43.4657  Training Accuracy:  0.928799\n",
      "Epoch:  66  Training Loss:  43.0446  Training Accuracy:  0.929237\n",
      "Epoch:  67  Training Loss:  42.6193  Training Accuracy:  0.928999\n",
      "Epoch:  68  Training Loss:  42.194  Training Accuracy:  0.929337\n",
      "Epoch:  69  Training Loss:  41.7505  Training Accuracy:  0.929724\n",
      "Epoch:  70  Training Loss:  41.2771  Training Accuracy:  0.930674\n",
      "Epoch:  71  Training Loss:  40.7624  Training Accuracy:  0.936899\n",
      "Epoch:  72  Training Loss:  40.3026  Training Accuracy:  0.936674\n",
      "Epoch:  73  Training Loss:  39.8179  Training Accuracy:  0.936937\n",
      "Epoch:  74  Training Loss:  39.3336  Training Accuracy:  0.940524\n",
      "Epoch:  75  Training Loss:  38.8467  Training Accuracy:  0.940687\n",
      "Epoch:  76  Training Loss:  38.335  Training Accuracy:  0.940624\n",
      "Epoch:  77  Training Loss:  37.8528  Training Accuracy:  0.941249\n",
      "Epoch:  78  Training Loss:  37.3545  Training Accuracy:  0.942087\n",
      "Epoch:  79  Training Loss:  36.8576  Training Accuracy:  0.941949\n",
      "Epoch:  80  Training Loss:  36.5669  Training Accuracy:  0.941937\n",
      "Epoch:  81  Training Loss:  36.2599  Training Accuracy:  0.941999\n",
      "Epoch:  82  Training Loss:  35.9346  Training Accuracy:  0.941999\n",
      "Epoch:  83  Training Loss:  35.6285  Training Accuracy:  0.942112\n",
      "Epoch:  84  Training Loss:  35.5059  Training Accuracy:  0.941912\n",
      "Epoch:  85  Training Loss:  34.964  Training Accuracy:  0.940212\n",
      "Epoch:  86  Training Loss:  34.9166  Training Accuracy:  0.940174\n",
      "Epoch:  87  Training Loss:  34.7406  Training Accuracy:  0.940212\n",
      "Epoch:  88  Training Loss:  34.4106  Training Accuracy:  0.940212\n",
      "Epoch:  89  Training Loss:  34.254  Training Accuracy:  0.940412\n",
      "Epoch:  90  Training Loss:  33.9342  Training Accuracy:  0.940187\n",
      "Epoch:  91  Training Loss:  33.4994  Training Accuracy:  0.941037\n",
      "Epoch:  92  Training Loss:  33.5481  Training Accuracy:  0.946249\n",
      "Epoch:  93  Training Loss:  33.3656  Training Accuracy:  0.946087\n",
      "Epoch:  94  Training Loss:  33.1081  Training Accuracy:  0.946087\n",
      "Epoch:  95  Training Loss:  32.8354  Training Accuracy:  0.946924\n",
      "Epoch:  96  Training Loss:  32.6635  Training Accuracy:  0.946999\n",
      "Epoch:  97  Training Loss:  32.2559  Training Accuracy:  0.946762\n",
      "Epoch:  98  Training Loss:  32.3389  Training Accuracy:  0.947012\n",
      "Epoch:  99  Training Loss:  31.9074  Training Accuracy:  0.946662\n",
      "Epoch:  100  Training Loss:  31.9663  Training Accuracy:  0.946562\n",
      "Epoch:  101  Training Loss:  31.8063  Training Accuracy:  0.946562\n",
      "Epoch:  102  Training Loss:  31.6316  Training Accuracy:  0.946487\n",
      "Epoch:  103  Training Loss:  31.5133  Training Accuracy:  0.946487\n",
      "Epoch:  104  Training Loss:  31.4162  Training Accuracy:  0.946437\n",
      "Epoch:  105  Training Loss:  31.2924  Training Accuracy:  0.946324\n",
      "Epoch:  106  Training Loss:  31.173  Training Accuracy:  0.946362\n",
      "Epoch:  107  Training Loss:  31.0597  Training Accuracy:  0.946399\n",
      "Epoch:  108  Training Loss:  30.9609  Training Accuracy:  0.946299\n",
      "Epoch:  109  Training Loss:  30.8915  Training Accuracy:  0.946262\n",
      "Epoch:  110  Training Loss:  30.789  Training Accuracy:  0.946537\n",
      "Epoch:  111  Training Loss:  30.7461  Training Accuracy:  0.946749\n",
      "Epoch:  112  Training Loss:  30.6803  Training Accuracy:  0.946612\n",
      "Epoch:  113  Training Loss:  30.6136  Training Accuracy:  0.946612\n",
      "Epoch:  114  Training Loss:  30.5133  Training Accuracy:  0.947587\n",
      "Epoch:  115  Training Loss:  30.4624  Training Accuracy:  0.949299\n",
      "Epoch:  116  Training Loss:  30.4052  Training Accuracy:  0.949174\n",
      "Epoch:  117  Training Loss:  30.3527  Training Accuracy:  0.949124\n",
      "Epoch:  118  Training Loss:  30.3375  Training Accuracy:  0.949324\n",
      "Epoch:  119  Training Loss:  30.2971  Training Accuracy:  0.950449\n",
      "Testing Accuracy: 0.950199365616\n",
      "()\n",
      "temp_y_true [ 0  1  2  3  4  5  6  7  8  9 11 12 13]\n",
      "temp_y_pred [ 0  1  2  4  5  6  7  8 12]\n",
      "               precision    recall  f1-score   support\n",
      "\n",
      "     security       1.00      0.19      0.33        36\n",
      "       others       0.83      0.87      0.85      1815\n",
      "    processor       1.00      0.94      0.97       506\n",
      "         disk       0.00      0.00      0.00         1\n",
      "      network       0.97      0.91      0.94      2429\n",
      "         file       0.87      0.85      0.86       961\n",
      "     database       0.99      1.00      0.99     12456\n",
      "      service       0.87      0.69      0.77       595\n",
      "       memory       0.74      0.99      0.85       422\n",
      "communication       0.00      0.00      0.00        29\n",
      "       system       0.00      0.00      0.00        25\n",
      "       driver       0.80      0.92      0.86       721\n",
      "           io       0.00      0.00      0.00         4\n",
      "\n",
      "  avg / total       0.95      0.95      0.95     20000\n",
      "\n",
      "confusion_matrix: \n",
      "[[    7     4     0     0     0     5     0     0     3     0     0    17\n",
      "      0]\n",
      " [    0  1573     0     0    30    68    28    36    30     0     0    50\n",
      "      0]\n",
      " [    0     0   476     0     0     1     0     0    23     0     0     6\n",
      "      0]\n",
      " [    0     1     0     0     0     0     0     0     0     0     0     0\n",
      "      0]\n",
      " [    0   138     0     0  2217     1    22     3    18     0     0    30\n",
      "      0]\n",
      " [    0    73     2     0     5   821    28    22     4     0     0     6\n",
      "      0]\n",
      " [    0     1     0     0     0     2 12419     1    14     0     0    19\n",
      "      0]\n",
      " [    0    86     0     0    31    18    12   409    17     0     0    22\n",
      "      0]\n",
      " [    0     0     0     0     0     0     0     0   418     0     0     4\n",
      "      0]\n",
      " [    0     0     0     0     0    16     0     0     4     0     0     9\n",
      "      0]\n",
      " [    0     4     0     0     0     1     0     0    20     0     0     0\n",
      "      0]\n",
      " [    0    13     0     0     4     4    21     1    14     0     0   664\n",
      "      0]\n",
      " [    0     0     0     0     0     4     0     0     0     0     0     0\n",
      "      0]]\n"
     ]
    },
    {
     "name": "stderr",
     "output_type": "stream",
     "text": [
      "/usr/local/lib/python2.7/dist-packages/sklearn/metrics/classification.py:1113: UndefinedMetricWarning: Precision and F-score are ill-defined and being set to 0.0 in labels with no predicted samples.\n",
      "  'precision', 'predicted', average, warn_for)\n"
     ]
    }
   ],
   "source": [
    "with tf.Session(config=sess_config) as session:\n",
    "    tf.global_variables_initializer().run()\n",
    "    for epoch in range(training_epochs):\n",
    "        for b in range(total_batches):    \n",
    "            offset = (b * batch_size) % (train_y.shape[0] - batch_size)\n",
    "            batch_x = train_x[offset:(offset + batch_size), :, :, :]\n",
    "            batch_y = train_y[offset:(offset + batch_size), :]\n",
    "            _, c = session.run([optimizer, loss],feed_dict={X: batch_x, Y : batch_y})\n",
    "            cost_history = np.append(cost_history,c)\n",
    "        print \"Epoch: \",epoch,\" Training Loss: \",c,\" Training Accuracy: \", \\\n",
    "          session.run(accuracy, feed_dict={X: train_x, Y: train_y})\n",
    "    y_pred = tf.argmax(y_, 1)\n",
    "    y_true = np.argmax(test_y, 1)\n",
    "    final_acc, y_pred = session.run([accuracy, y_pred], feed_dict={X: test_x, Y: test_y})\n",
    "    print \"Testing Accuracy: {}\".format(final_acc)\n",
    "    print()\n",
    "    \n",
    "    # model metrics\n",
    "    temp_y_true = np.unique(y_true)\n",
    "    temp_y_pred = np.unique(y_pred) \n",
    "    np.save(\"data/y_true\", y_true) \n",
    "    np.save(\"data/y_pred\", y_pred) \n",
    "    print \"temp_y_true\", temp_y_true \n",
    "    print \"temp_y_pred\", temp_y_pred\n",
    "    \n",
    "    print(classification_report(y_true, y_pred, \n",
    "                                target_names = fault_label.values()))\n",
    "    print(\"confusion_matrix: \")\n",
    "    print confusion_matrix(y_true, y_pred)"
   ]
  },
  {
   "cell_type": "markdown",
   "metadata": {},
   "source": [
    "# confusion matrix"
   ]
  },
  {
   "cell_type": "code",
   "execution_count": 12,
   "metadata": {},
   "outputs": [
    {
     "name": "stdout",
     "output_type": "stream",
     "text": [
      "               precision    recall  f1-score   support\n",
      "\n",
      "     security       1.00      0.19      0.33        36\n",
      "       others       0.83      0.87      0.85      1815\n",
      "    processor       1.00      0.94      0.97       506\n",
      "         disk       0.00      0.00      0.00         1\n",
      "      network       0.97      0.91      0.94      2429\n",
      "         file       0.87      0.85      0.86       961\n",
      "     database       0.99      1.00      0.99     12456\n",
      "      service       0.87      0.69      0.77       595\n",
      "       memory       0.74      0.99      0.85       422\n",
      "communication       0.00      0.00      0.00        29\n",
      "       system       0.00      0.00      0.00        25\n",
      "       driver       0.80      0.92      0.86       721\n",
      "           io       0.00      0.00      0.00         4\n",
      "\n",
      "  avg / total       0.95      0.95      0.95     20000\n",
      "\n",
      "[[    7     4     0     0     0     5     0     0     3     0     0    17\n",
      "      0]\n",
      " [    0  1573     0     0    30    68    28    36    30     0     0    50\n",
      "      0]\n",
      " [    0     0   476     0     0     1     0     0    23     0     0     6\n",
      "      0]\n",
      " [    0     1     0     0     0     0     0     0     0     0     0     0\n",
      "      0]\n",
      " [    0   138     0     0  2217     1    22     3    18     0     0    30\n",
      "      0]\n",
      " [    0    73     2     0     5   821    28    22     4     0     0     6\n",
      "      0]\n",
      " [    0     1     0     0     0     2 12419     1    14     0     0    19\n",
      "      0]\n",
      " [    0    86     0     0    31    18    12   409    17     0     0    22\n",
      "      0]\n",
      " [    0     0     0     0     0     0     0     0   418     0     0     4\n",
      "      0]\n",
      " [    0     0     0     0     0    16     0     0     4     0     0     9\n",
      "      0]\n",
      " [    0     4     0     0     0     1     0     0    20     0     0     0\n",
      "      0]\n",
      " [    0    13     0     0     4     4    21     1    14     0     0   664\n",
      "      0]\n",
      " [    0     0     0     0     0     4     0     0     0     0     0     0\n",
      "      0]]\n",
      "()\n"
     ]
    },
    {
     "data": {
      "image/png": "[encoded data removed]",
      "text/plain": [
       "<matplotlib.figure.Figure at 0x7f55c662d810>"
      ]
     },
     "metadata": {},
     "output_type": "display_data"
    }
   ],
   "source": [
    "def plot_confusion_matrix(cm, title='Normalized Confusion matrix', \n",
    "                          cmap=plt.cm.get_cmap(\"summer\")): \n",
    "    cm = cm / cm.astype(np.float).sum(axis=1) \n",
    "    #print \"confusion_matrix: \\n{}\".format(cm) \n",
    "    plt.imshow(cm, interpolation='nearest', cmap=cmap) \n",
    "    plt.title(title) \n",
    "    plt.colorbar() \n",
    "    tick_marks =np.arange(len(fault_label))\n",
    "    plt.xticks(tick_marks, fault_label.values(), rotation=90) \n",
    "    plt.yticks(tick_marks, fault_label.values()) \n",
    "    plt.tight_layout() \n",
    "    plt.ylabel('True label') \n",
    "    plt.xlabel('Predicted label') \n",
    "    plt.show()\n",
    "\n",
    "def test_(): \n",
    "    y_true = np.load(\"data/y_true.npy\") \n",
    "    y_pred = np.load(\"data/y_pred.npy\") \n",
    "    print(classification_report(y_true, y_pred, \n",
    "          target_names = fault_label.values()))\n",
    "    print(confusion_matrix(y_true, y_pred))\n",
    "    print()\n",
    "    plot_confusion_matrix(confusion_matrix(y_true, y_pred))\n",
    "\n",
    "if __name__ == \"__main__\":\n",
    "    test_()"
   ]
  }
 ],
 "metadata": {
  "kernelspec": {
   "display_name": "Python 2",
   "language": "python",
   "name": "python2"
  },
  "language_info": {
   "codemirror_mode": {
    "name": "ipython",
    "version": 2
   },
   "file_extension": ".py",
   "mimetype": "text/x-python",
   "name": "python",
   "nbconvert_exporter": "python",
   "pygments_lexer": "ipython2",
   "version": "2.7.12"
  }
 },
 "nbformat": 4,
 "nbformat_minor": 2
}
