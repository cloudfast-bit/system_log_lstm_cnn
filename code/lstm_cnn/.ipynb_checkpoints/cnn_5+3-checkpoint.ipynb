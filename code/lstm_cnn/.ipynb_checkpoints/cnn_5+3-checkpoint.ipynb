{
 "cells": [
  {
   "cell_type": "code",
   "execution_count": 1,
   "metadata": {},
   "outputs": [
    {
     "name": "stderr",
     "output_type": "stream",
     "text": [
      "/usr/local/lib/python2.7/dist-packages/sklearn/cross_validation.py:44: DeprecationWarning: This module was deprecated in version 0.18 in favor of the model_selection module into which all the refactored classes and functions are moved. Also note that the interface of the new CV iterators are different from that of this module. This module will be removed in 0.20.\n",
      "  \"This module will be removed in 0.20.\", DeprecationWarning)\n"
     ]
    }
   ],
   "source": [
    "import os\n",
    "import numpy as np\n",
    "import matplotlib.pyplot as plt\n",
    "from sklearn import cross_validation, metrics\n",
    "import tensorflow as tf"
   ]
  },
  {
   "cell_type": "markdown",
   "metadata": {},
   "source": [
    "# run environment"
   ]
  },
  {
   "cell_type": "code",
   "execution_count": 2,
   "metadata": {
    "collapsed": true
   },
   "outputs": [],
   "source": [
    "os.environ[\"CUDA_VISIBLE_DEVICES\"] = \"1\"\n",
    "gpu_options = tf.GPUOptions(per_process_gpu_memory_fraction = 0.4)\n",
    "sess_config = tf.ConfigProto(gpu_options=gpu_options)"
   ]
  },
  {
   "cell_type": "markdown",
   "metadata": {},
   "source": [
    "# label"
   ]
  },
  {
   "cell_type": "code",
   "execution_count": 3,
   "metadata": {
    "collapsed": true
   },
   "outputs": [],
   "source": [
    "labels = {'0':'file', '1':'network', '2':'service', '3':'database', '4':'communication', '5':'memory', '6':'driver', \n",
    "    '7':'system', '8':'application', '9':'io', '10':'others', '11':'security', '12':'disk', '13':'processor'}\n",
    "\n",
    "fault_label = {'0':'file', '1':'network', '2':'service', '3':'database', '4':'communication', '5':'memory', '6':'driver', \n",
    "    '7':'system', '8':'application', '9':'io', '10':'others', '11':'security', '12':'disk', '13':'processor'}"
   ]
  },
  {
   "cell_type": "markdown",
   "metadata": {},
   "source": [
    "# load data"
   ]
  },
  {
   "cell_type": "code",
   "execution_count": 4,
   "metadata": {},
   "outputs": [
    {
     "name": "stdout",
     "output_type": "stream",
     "text": [
      "Separating data into 80% training set & 20% test set...\n",
      "Dataset separated.\n",
      "\n",
      "((80000, 10, 14, 1), (80000, 14), (20000, 14))\n"
     ]
    }
   ],
   "source": [
    "def one_hot(y):\n",
    "    y = y.reshape(len(y))\n",
    "    n_values = np.max(y) + 1\n",
    "    return np.eye(n_values)[np.array(y, dtype=np.int32)]  # Returns FLOATS\n",
    "\n",
    "\n",
    "def load_X(X_path):\n",
    "    X_list = []\n",
    "    file = open(X_path, 'r')\n",
    "    # Read dataset from disk, dealing with text files' syntax\n",
    "    X_signal = [np.array(item, dtype=np.float32) for item in [\n",
    "               line.strip().split('\\t') for line in file]]\n",
    "    X_list.append(X_signal)\n",
    "    file.close()\n",
    "    return np.transpose(np.array(X_list), (1, 2, 0))\n",
    "\n",
    "\n",
    "# Load \"y\" (the neural network's training and testing outputs)\n",
    "def load_y(y_path):\n",
    "    file = open(y_path, 'r')\n",
    "    # Read dataset from disk, dealing with text file's syntax\n",
    "    y_ = np.array([elem for elem in [line.strip().split('\\t') for line in file]], \n",
    "                  dtype=np.int32)\n",
    "    file.close()\n",
    "    # Substract 1 to each output class for friendly 0-based indexing\n",
    "    return one_hot(y_-1)\n",
    "\n",
    "\n",
    "dataset_path = \"data_msg_type/\"\n",
    "X_path = dataset_path + \"semantic_sim.txt\"\n",
    "y_path = dataset_path + \"semantic_label_index.txt\"\n",
    "\n",
    "X = load_X(X_path)\n",
    "y = load_y(y_path)\n",
    "x = X.reshape(len(X), 10, 14, 1)\n",
    "\n",
    "# Separate our training data into test and training.\n",
    "print(\"Separating data into 80% training set & 20% test set...\")\n",
    "train_x, test_x, train_y, test_y = cross_validation.train_test_split(\n",
    "    x, y, test_size=0.2, random_state=33)#add random state here...\n",
    "print(\"Dataset separated.\\n\")\n",
    "print(train_x.shape, train_y.shape, test_y.shape)"
   ]
  },
  {
   "cell_type": "markdown",
   "metadata": {},
   "source": [
    "# define parameters"
   ]
  },
  {
   "cell_type": "code",
   "execution_count": 5,
   "metadata": {
    "collapsed": true
   },
   "outputs": [],
   "source": [
    "learning_rate = 0.001\n",
    "training_iters = 80000\n",
    "test_iters = 2000000\n",
    "batch_size = 100\n",
    "display_step = 20000\n",
    "\n",
    "# Network Parameters\n",
    "input_height = 10\n",
    "input_width = 14\n",
    "num_channels = 1\n",
    "n_classes = 14\n",
    "dropout = 0.75 # Dropout, probability to keep units"
   ]
  },
  {
   "cell_type": "markdown",
   "metadata": {},
   "source": [
    "# network config"
   ]
  },
  {
   "cell_type": "code",
   "execution_count": 9,
   "metadata": {
    "collapsed": true
   },
   "outputs": [],
   "source": [
    "# Create some wrappers for simplicity\n",
    "def conv2d(x, W, b, strides=1):\n",
    "    # Conv2D wrapper, with bias and relu activation\n",
    "    x = tf.nn.conv2d(x, W, strides=[1, strides, strides, 1], padding='SAME')\n",
    "    x = tf.nn.bias_add(x, b)\n",
    "    return tf.nn.relu(x)\n",
    "\n",
    "\n",
    "def maxpool2d(x, k=2):\n",
    "    # MaxPool2D wrapper\n",
    "    return tf.nn.max_pool(x, ksize=[1, k, k, 1], strides=[1, k, k, 1], padding='SAME')\n",
    "\n",
    "\n",
    "# Create model\n",
    "def conv_net(x, weights, biases, dropout):\n",
    "    # Reshape input picture\n",
    "    x = tf.reshape(x, shape=[-1, 10, 14, 1])\n",
    "\n",
    "    # Convolution Layer\n",
    "    conv1 = conv2d(x, weights['wc1'], biases['bc1'])\n",
    "    # Max Pooling (down-sampling)\n",
    "    conv1 = maxpool2d(conv1, k=2)\n",
    "    print(conv1.shape)\n",
    "\n",
    "    # Convolution Layer\n",
    "    conv2 = conv2d(conv1, weights['wc2'], biases['bc2'])\n",
    "    # Max Pooling (down-sampling)\n",
    "    conv2 = maxpool2d(conv2, k=2)\n",
    "    print(conv2.shape)\n",
    "    \n",
    "    # Convolution Layer\n",
    "    conv3 = conv2d(conv2, weights['wc3'], biases['bc3'])\n",
    "    conv4 = conv2d(conv3, weights['wc4'], biases['bc4'])\n",
    "    conv5 = conv2d(conv4, weights['wc5'], biases['bc5'])\n",
    "    # Max Pooling (down-sampling)\n",
    "    conv5 = maxpool2d(conv5, k=2)\n",
    "    print(conv3.shape)\n",
    "    print(conv4.shape)\n",
    "    print(conv5.shape)\n",
    "\n",
    "    # Reshape conv2 output to fit fully connected layer input\n",
    "    fc1 = tf.reshape(conv5, [-1, weights['wd1'].get_shape().as_list()[0]])\n",
    "    \n",
    "    # Fully connected layer\n",
    "    fc1 = tf.add(tf.matmul(fc1, weights['wd1']), biases['bd1'])\n",
    "    fc1 = tf.nn.relu(fc1)\n",
    "    fc1 = tf.nn.dropout(fc1, dropout)\n",
    "    print(fc1.shape)\n",
    "    fc2 = tf.add(tf.matmul(fc1, weights['wd2']), biases['bd2'])\n",
    "    fc2 = tf.nn.relu(fc2)\n",
    "    fc2 = tf.nn.dropout(fc2, dropout)\n",
    "    print(fc2.shape)\n",
    "\n",
    "    # Output, class prediction\n",
    "    fc3 = tf.add(tf.matmul(fc2, weights['out']), biases['out'])\n",
    "    print(fc3.shape)\n",
    "    return fc3\n",
    "\n",
    "# Store layers weight & bias\n",
    "weights = {\n",
    "    # 3x4 conv, 1 input, 32 outputs\n",
    "    'wc1': tf.Variable(tf.random_normal([3, 4, 1, 32])),\n",
    "    # 3x4 conv, 32 inputs, 64 outputs\n",
    "    'wc2': tf.Variable(tf.random_normal([3, 4, 32, 64])),\n",
    "    # 3x4 conv, 64 inputs, 64 outputs\n",
    "    'wc3': tf.Variable(tf.random_normal([3, 4, 64, 64])),\n",
    "    # 3x4 conv, 64 inputs, 32 outputs\n",
    "    'wc4': tf.Variable(tf.random_normal([3, 4, 64, 32])),\n",
    "    # 3x4 conv, 32 inputs, 64 outputs\n",
    "    'wc5': tf.Variable(tf.random_normal([3, 4, 32, 64])),\n",
    "    # fully connected, 2*2*64 inputs, 1024 outputs\n",
    "    'wd1': tf.Variable(tf.random_normal([2*2*64, 1024])),\n",
    "    # fully connected, 1024 inputs, 512 outputs\n",
    "    'wd2': tf.Variable(tf.random_normal([1024, 512])),\n",
    "    # 512 inputs, 14outputs (class prediction)\n",
    "    'out': tf.Variable(tf.random_normal([512, n_classes]))\n",
    "}\n",
    "\n",
    "biases = {\n",
    "    'bc1': tf.Variable(tf.random_normal([32])),\n",
    "    'bc2': tf.Variable(tf.random_normal([64])),\n",
    "    'bc3': tf.Variable(tf.random_normal([64])),\n",
    "    'bc4': tf.Variable(tf.random_normal([32])),\n",
    "    'bc5': tf.Variable(tf.random_normal([64])),\n",
    "    'bd1': tf.Variable(tf.random_normal([1024])),\n",
    "    'bd2': tf.Variable(tf.random_normal([512])),\n",
    "    'out': tf.Variable(tf.random_normal([n_classes]))\n",
    "}"
   ]
  },
  {
   "cell_type": "markdown",
   "metadata": {},
   "source": [
    "# build model"
   ]
  },
  {
   "cell_type": "code",
   "execution_count": 11,
   "metadata": {},
   "outputs": [
    {
     "name": "stdout",
     "output_type": "stream",
     "text": [
      "(?, 5, 7, 32)\n",
      "(?, 3, 4, 64)\n",
      "(?, 3, 4, 64)\n",
      "(?, 3, 4, 32)\n",
      "(?, 2, 2, 64)\n",
      "(?, 1024)\n",
      "(?, 512)\n",
      "(?, 14)\n"
     ]
    }
   ],
   "source": [
    "x = tf.placeholder(tf.float32, [None,input_height,input_width,num_channels])\n",
    "y = tf.placeholder(tf.float32, [None, n_classes])\n",
    "keep_prob = tf.placeholder(tf.float32) #dropout (keep probability)\n",
    "\n",
    "pred = conv_net(x, weights, biases, keep_prob)\n",
    "\n",
    "# Define loss and optimizer\n",
    "cost = tf.reduce_mean(tf.nn.softmax_cross_entropy_with_logits(logits=pred, labels=y))\n",
    "optimizer = tf.train.AdamOptimizer(learning_rate=learning_rate).minimize(cost)\n",
    "\n",
    "# Evaluate model\n",
    "correct_pred = tf.equal(tf.argmax(pred, 1), tf.argmax(y, 1))\n",
    "accuracy = tf.reduce_mean(tf.cast(correct_pred, tf.float32))"
   ]
  },
  {
   "cell_type": "markdown",
   "metadata": {},
   "source": [
    "# train and test"
   ]
  },
  {
   "cell_type": "code",
   "execution_count": 12,
   "metadata": {
    "scrolled": true
   },
   "outputs": [
    {
     "name": "stdout",
     "output_type": "stream",
     "text": [
      "Training epochs #100: Batch Loss = 291928288.000000, Accuracy = 0.189999997616\n",
      "Performance on test set: Training epochs #100, Batch Loss = 92974832.0, Accuracy = 0.719999969006\n",
      "Training epochs #20000: Batch Loss = 2921071.000000, Accuracy = 0.899999976158\n",
      "Performance on test set: Training epochs #20000, Batch Loss = 1717330.75, Accuracy = 0.8900000453\n",
      "Training epochs #40000: Batch Loss = 1403965.125000, Accuracy = 0.880000054836\n",
      "Performance on test set: Training epochs #40000, Batch Loss = 488234.625, Accuracy = 0.960000038147\n",
      "Training epochs #60000: Batch Loss = 503425.468750, Accuracy = 0.879999935627\n",
      "Performance on test set: Training epochs #60000, Batch Loss = 234742.46875, Accuracy = 0.97000002861\n",
      "Training epochs #80000: Batch Loss = 648851.062500, Accuracy = 0.879999995232\n",
      "Performance on test set: Training epochs #80000, Batch Loss = 77220.5390625, Accuracy = 0.97000002861\n",
      "Optimization Finished!\n"
     ]
    }
   ],
   "source": [
    "def extract_batch_size(_train, step, batch_size):   \n",
    "    # Function to fetch a \"batch_size\" amount of data from \"(X|y)_train\" data.    \n",
    "    shape = list(_train.shape)\n",
    "    shape[0] = batch_size\n",
    "    batch_s = np.empty(shape)\n",
    "    for i in range(batch_size):\n",
    "        # Loop index\n",
    "        index = ((step-1)*batch_size + i) % len(_train)\n",
    "        batch_s[i] = _train[index] \n",
    "    return batch_s\n",
    "\n",
    "\n",
    "test_losses = []\n",
    "test_accuracies = []\n",
    "test_predictions = []\n",
    "train_losses = []\n",
    "train_accuracies = []\n",
    "\n",
    "\n",
    "init = tf.global_variables_initializer()\n",
    "with tf.Session(config=sess_config) as sess:\n",
    "    sess.run(init)\n",
    "    \n",
    "    step = 1\n",
    "    # Keep training until reach max iterations\n",
    "    while step * batch_size <= training_iters:\n",
    "        batch_xs = extract_batch_size(train_x, step, batch_size)\n",
    "        batch_ys = extract_batch_size(train_y, step, batch_size)\n",
    "\n",
    "        # Fit training using batch data\n",
    "        _, loss, acc = sess.run([optimizer, cost, accuracy],\n",
    "                       feed_dict={x: batch_xs, y: batch_ys, keep_prob: dropout})\n",
    "\n",
    "        train_losses.append(loss)\n",
    "        train_accuracies.append(acc)  \n",
    "        \n",
    "        \n",
    "        batch_xt = extract_batch_size(test_x, step, batch_size)\n",
    "        batch_yt = extract_batch_size(test_y, step, batch_size)\n",
    "    \n",
    "        # Evaluation on the test set (no learning made here - just evaluation for diagnosis)\n",
    "        test_predict, test_loss, test_acc = sess.run([pred, cost, accuracy], \n",
    "                                            feed_dict={x: batch_xt, y: batch_yt, keep_prob: 1.})\n",
    "        \n",
    "        test_predictions.append(np.argmax(test_predict, axis=1))\n",
    "        test_losses.append(test_loss)\n",
    "        test_accuracies.append(test_acc)\n",
    "\n",
    "        # Evaluate network only at some steps for faster training: \n",
    "        if (step*batch_size % display_step == 0) or (step == 1) \\\n",
    "            or (step * batch_size > training_iters):\n",
    "\n",
    "            print(\"Training epochs #\" + str(step*batch_size) + \\\n",
    "                  \": Batch Loss = \" + \"{:.6f}\".format(loss) + \\\n",
    "                  \", Accuracy = {}\".format(acc))\n",
    "        \n",
    "            print(\"Performance on test set: \" + \"Training epochs #\" + str(step*batch_size) +\\\n",
    "                  \", Batch Loss = {}\".format(test_loss) + \", Accuracy = {}\".format(test_acc))\n",
    "        step += 1\n",
    "\n",
    "    print(\"Optimization Finished!\")"
   ]
  },
  {
   "cell_type": "markdown",
   "metadata": {},
   "source": [
    "# performance visualization"
   ]
  },
  {
   "cell_type": "code",
   "execution_count": 13,
   "metadata": {},
   "outputs": [
    {
     "data": {
      "image/png": "[encoded data removed]",
      "text/plain": [
       "<matplotlib.figure.Figure at 0x7f660878a050>"
      ]
     },
     "metadata": {},
     "output_type": "display_data"
    },
    {
     "data": {
      "text/plain": [
       "<matplotlib.figure.Figure at 0x7f65e827e310>"
      ]
     },
     "metadata": {},
     "output_type": "display_data"
    }
   ],
   "source": [
    "#font = {'family': 'Bitstream Vera Sans', 'weight': 'bold', 'size': 12}\n",
    "#matplotlib.rc('font', **font)\n",
    "#width = 12\n",
    "#height = 12\n",
    "#plt.figure(figsize=(width, height))\n",
    "\n",
    "indep_train_axis = np.array(range(batch_size, \n",
    "                   (len(train_losses)+1)*batch_size, batch_size))\n",
    "plt.plot(indep_train_axis, np.array(train_losses), \"b--\", label=\"Train losses\")\n",
    "plt.plot(indep_train_axis, np.array(train_accuracies), \"g--\", label=\"Train accuracies\")\n",
    "\n",
    "indep_test_axis = np.append(np.array(range(batch_size, \n",
    "                  len(test_losses)*batch_size, batch_size)), training_iters)\n",
    "plt.plot(indep_test_axis, np.array(test_losses), \"b-\", label=\"Test losses\")\n",
    "plt.plot(indep_test_axis, np.array(test_accuracies), \"g-\", label=\"Test accuracies\")\n",
    "\n",
    "plt.title(\"Training session's progress over iterations\")\n",
    "plt.legend(loc='upper right', shadow=False)\n",
    "plt.ylabel('Training Progress (Loss or Accuracy values)')\n",
    "plt.xlabel('Training iteration')\n",
    "plt.savefig('result/lstm_loss_accuracy.png')\n",
    "plt.figure()\n",
    "plt.show()"
   ]
  },
  {
   "cell_type": "code",
   "execution_count": 14,
   "metadata": {},
   "outputs": [
    {
     "name": "stdout",
     "output_type": "stream",
     "text": [
      "Testing Accuracy: Tensor(\"mul:0\", shape=(), dtype=float32)%\n",
      "\n",
      "Precision: 94.4126047797%\n",
      "Recall: 94.54%\n",
      "f1_score: 94.318260311%\n",
      "\n",
      "Confusion Matrix:\n",
      "[[    7     7     0     0     0     1     0     3    13     0     0     5\n",
      "      0]\n",
      " [    0  1466     0     0    88    75    38    79    33     0     0    36\n",
      "      0]\n",
      " [    0     0   449     0     0     1     0     0    51     0     0     5\n",
      "      0]\n",
      " [    0     1     0     0     0     0     0     0     0     0     0     0\n",
      "      0]\n",
      " [    0    45     0     0  2319     2    20     7    11     0     0    25\n",
      "      0]\n",
      " [    0    55     0     0     6   828    36    25     6     0     0     5\n",
      "      0]\n",
      " [    0     4     0     0     0     1 12419     1    17     0     0    14\n",
      "      0]\n",
      " [    0    50     0     0    25    68    47   375    19     0     0    11\n",
      "      0]\n",
      " [    0     0     0     0     0     1     0     0   420     0     0     1\n",
      "      0]\n",
      " [    0     8     0     0     0     8     0     0     8     0     0     5\n",
      "      0]\n",
      " [    0     4     0     0     0     0     1     0    20     0     0     0\n",
      "      0]\n",
      " [    0    27     0     0    22    11    12     1    23     0     0   625\n",
      "      0]\n",
      " [    0     0     0     0     0     4     0     0     0     0     0     0\n",
      "      0]]\n",
      "               precision    recall  f1-score   support\n",
      "\n",
      "     security       1.00      0.19      0.33        36\n",
      "       others       0.88      0.81      0.84      1815\n",
      "    processor       1.00      0.89      0.94       506\n",
      "         disk       0.00      0.00      0.00         1\n",
      "      network       0.94      0.95      0.95      2429\n",
      "         file       0.83      0.86      0.84       961\n",
      "     database       0.99      1.00      0.99     12456\n",
      "      service       0.76      0.63      0.69       595\n",
      "       memory       0.68      1.00      0.81       422\n",
      "communication       0.00      0.00      0.00        29\n",
      "       system       0.00      0.00      0.00        25\n",
      "       driver       0.85      0.87      0.86       721\n",
      "           io       0.00      0.00      0.00         4\n",
      "\n",
      "  avg / total       0.94      0.95      0.94     20000\n",
      "\n"
     ]
    },
    {
     "name": "stderr",
     "output_type": "stream",
     "text": [
      "/usr/local/lib/python2.7/dist-packages/sklearn/metrics/classification.py:1113: UndefinedMetricWarning: Precision is ill-defined and being set to 0.0 in labels with no predicted samples.\n",
      "  'precision', 'predicted', average, warn_for)\n",
      "/usr/local/lib/python2.7/dist-packages/sklearn/metrics/classification.py:1113: UndefinedMetricWarning: F-score is ill-defined and being set to 0.0 in labels with no predicted samples.\n",
      "  'precision', 'predicted', average, warn_for)\n",
      "/usr/local/lib/python2.7/dist-packages/sklearn/metrics/classification.py:1113: UndefinedMetricWarning: Precision and F-score are ill-defined and being set to 0.0 in labels with no predicted samples.\n",
      "  'precision', 'predicted', average, warn_for)\n"
     ]
    },
    {
     "data": {
      "image/png": "[encoded data removed]",
      "text/plain": [
       "<matplotlib.figure.Figure at 0x7f66180e0990>"
      ]
     },
     "metadata": {},
     "output_type": "display_data"
    }
   ],
   "source": [
    "# Results\n",
    "predictions = []\n",
    "length = len(test_predictions)-200\n",
    "for i in range(200):\n",
    "    predictions.extend(test_predictions[length+i])\n",
    "\n",
    "true_y = np.argmax(test_y, axis=1)\n",
    "\n",
    "print(\"Testing Accuracy: {}%\".format(100*accuracy))\n",
    "\n",
    "print(\"\")\n",
    "print(\"Precision: {}%\".format(100*metrics.precision_score(\n",
    "    true_y, predictions, average=\"weighted\")))\n",
    "print(\"Recall: {}%\".format(100*metrics.recall_score(true_y, \n",
    "    predictions, average=\"weighted\")))\n",
    "print(\"f1_score: {}%\".format(100*metrics.f1_score(true_y, \n",
    "    predictions, average=\"weighted\")))\n",
    "\n",
    "print(\"\")\n",
    "print(\"Confusion Matrix:\")\n",
    "confusion_matrix = metrics.confusion_matrix(true_y, predictions)\n",
    "print(confusion_matrix)\n",
    "\n",
    "# Plot: \n",
    "## cmap can be changed to many colors, (colormaps.Oranges,OrRd, etc)\n",
    "def plot_CM(cm, title=\"Normalized Confusion Matrix\", cmap=plt.cm.summer):\n",
    "    plt.imshow(cm, interpolation='nearest', cmap=cmap)\n",
    "    plt.title(title)\n",
    "    plt.colorbar()\n",
    "    tick_marks = np.arange(len(fault_label))\n",
    "    plt.xticks(tick_marks, fault_label.values(), rotation=90)\n",
    "    plt.yticks(tick_marks, fault_label.values())\n",
    "    plt.tight_layout()\n",
    "    plt.ylabel(\"True label\")\n",
    "    plt.xlabel(\"Predicted label\")\n",
    "    plt.show()\n",
    "    \n",
    "print(metrics.classification_report(\n",
    "    true_y, predictions, target_names = list(fault_label.values())))\n",
    "\n",
    "cm = confusion_matrix\n",
    "\n",
    "cm_normalized = cm.astype('float') / cm.sum(axis=1)[:,np.newaxis]\n",
    "plt.figure()\n",
    "plot_CM(cm_normalized)"
   ]
  }
 ],
 "metadata": {
  "kernelspec": {
   "display_name": "Python 2",
   "language": "python",
   "name": "python2"
  },
  "language_info": {
   "codemirror_mode": {
    "name": "ipython",
    "version": 2
   },
   "file_extension": ".py",
   "mimetype": "text/x-python",
   "name": "python",
   "nbconvert_exporter": "python",
   "pygments_lexer": "ipython2",
   "version": "2.7.12"
  }
 },
 "nbformat": 4,
 "nbformat_minor": 2
}
